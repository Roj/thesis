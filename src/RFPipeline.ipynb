{
 "cells": [
  {
   "cell_type": "code",
   "execution_count": 1,
   "metadata": {
    "collapsed": true
   },
   "outputs": [],
   "source": [
    "import os\n",
    "import sys\n",
    "import time\n",
    "import argparse\n",
    "import progressbar\n",
    "import networkx as nx\n",
    "import numpy as np\n",
    "import pandas as pd\n",
    "\n",
    "sys.path.append('../pyprot/')\n",
    "import pyprot.graph_models as graph_models\n",
    "from pyprot.downloader import PdbDownloader, ConsurfDBDownloader\n",
    "from pyprot.protein import Protein\n",
    "from pyprot.structure import Perseus\n"
   ]
  },
  {
   "cell_type": "markdown",
   "metadata": {},
   "source": [
    "### Graph verification and preprocessing"
   ]
  },
  {
   "cell_type": "code",
   "execution_count": 2,
   "metadata": {},
   "outputs": [
    {
     "name": "stdout",
     "output_type": "stream",
     "text": [
      "Loaded 700 graphs\n"
     ]
    }
   ],
   "source": [
    "import networkx as nx\n",
    "import pickle\n",
    "import pyprot.constants\n",
    "def load_graph(fn):\n",
    "    with open(fn, \"rb\") as f:\n",
    "        return pickle.load(f)\n",
    "filenames = [fn for fn in os.listdir(\"graphs/\") if \".pkl\" in fn]\n",
    "#filenames = [\"3KEU.pkl\"]\n",
    "graphs = [load_graph(\"graphs/\"+fn) for fn in filenames]\n",
    "print(\"Loaded {} graphs\".format(len(graphs)))"
   ]
  },
  {
   "cell_type": "code",
   "execution_count": 3,
   "metadata": {},
   "outputs": [
    {
     "name": "stderr",
     "output_type": "stream",
     "text": [
      "100% (700 of 700) |######################| Elapsed Time: 0:24:14 Time:  0:24:14\n"
     ]
    }
   ],
   "source": [
    "for i in progressbar.progressbar(range(len(graphs))):\n",
    "    graphs[i] = graph_models.GraphModel.get_diffused_graph(graphs[i], steps=3)"
   ]
  },
  {
   "cell_type": "code",
   "execution_count": 4,
   "metadata": {},
   "outputs": [],
   "source": [
    "def touches_ligand(x):\n",
    "    return x <= 4 or (x<=6 and np.random.binomial(1, 1-(x-4)/2) == 1)\n",
    "dataframes = []\n",
    "for graph in graphs:\n",
    "    df = graph_models.GraphModel.graph_to_dataframe(graph)\n",
    "    # One hot for AAs\n",
    "    for code3 in pyprot.constants.AMINOACIDS_3 + [\"UNK\"]:\n",
    "        df[code3] = (df.resname == code3).astype(np.int)\n",
    "    \n",
    "    for i, coord in enumerate([\"x\", \"y\", \"z\"]):\n",
    "        df[coord] = df.coord.map(lambda x: x[i])\n",
    "    df[\"target\"] = df.distance.map(touches_ligand).astype(np.int)\n",
    "    df = df[[c for c in df.columns if \"distance_\" not in c]]\n",
    "    df = df.drop([\"full_id\", \"resname\", \"coord\", \"distance\"], axis=1)\n",
    "    dataframes.append(df)"
   ]
  },
  {
   "cell_type": "code",
   "execution_count": null,
   "metadata": {},
   "outputs": [],
   "source": [
    "print([df.columns for df in dataframes])"
   ]
  },
  {
   "cell_type": "code",
   "execution_count": null,
   "metadata": {},
   "outputs": [],
   "source": [
    "# todo: class balance"
   ]
  },
  {
   "cell_type": "markdown",
   "metadata": {},
   "source": [
    "## Example model"
   ]
  },
  {
   "cell_type": "code",
   "execution_count": 5,
   "metadata": {},
   "outputs": [],
   "source": [
    "import time\n",
    "from sklearn.ensemble import RandomForestClassifier\n",
    "from sklearn.model_selection import GridSearchCV\n",
    "import sklearn.metrics"
   ]
  },
  {
   "cell_type": "code",
   "execution_count": 6,
   "metadata": {},
   "outputs": [
    {
     "data": {
      "text/plain": [
       "700"
      ]
     },
     "execution_count": 6,
     "metadata": {},
     "output_type": "execute_result"
    }
   ],
   "source": [
    "len(dataframes)"
   ]
  },
  {
   "cell_type": "markdown",
   "metadata": {},
   "source": [
    "### Data splits and preprocessing"
   ]
  },
  {
   "cell_type": "code",
   "execution_count": 7,
   "metadata": {},
   "outputs": [
    {
     "name": "stdout",
     "output_type": "stream",
     "text": [
      "Received 600 sets\n",
      "Received 100 sets\n"
     ]
    }
   ],
   "source": [
    "def make_set(sets):\n",
    "    print(\"Received {} sets\".format(len(sets)))\n",
    "    sets = pd.concat(sets)\n",
    "    return sets.drop(\"target\", axis=1), sets[\"target\"]\n",
    "train_feat, train_target = make_set(dataframes[0:600])\n",
    "#val_feat, val_target = make_set(dataframes[100:120])\n",
    "test_feat, test_target = make_set(dataframes[600:])"
   ]
  },
  {
   "cell_type": "code",
   "execution_count": 8,
   "metadata": {},
   "outputs": [],
   "source": [
    "parameters = {\"n_estimators\": list(range(10, 200, 10)), \"max_depth\": list(range(1, 11))}"
   ]
  },
  {
   "cell_type": "code",
   "execution_count": 9,
   "metadata": {},
   "outputs": [
    {
     "name": "stderr",
     "output_type": "stream",
     "text": [
      "/home/joaquintz/.local/lib/python3.6/site-packages/sklearn/externals/joblib/externals/loky/process_executor.py:706: UserWarning: A worker stopped while some jobs were given to the executor. This can be caused by a too short worker timeout or by a memory leak.\n",
      "  \"timeout or by a memory leak.\", UserWarning\n"
     ]
    }
   ],
   "source": [
    "clf = RandomForestClassifier(random_state = 42, class_weight=\"balanced\")\n",
    "clf = GridSearchCV(clf, parameters, cv=5, \n",
    "                   n_jobs=12,\n",
    "                   scoring=sklearn.metrics.make_scorer(sklearn.metrics.roc_auc_score))\n",
    "clf.fit(train_feat, train_target)\n",
    "predicted_target = clf.predict(test_feat)"
   ]
  },
  {
   "cell_type": "code",
   "execution_count": 10,
   "metadata": {},
   "outputs": [
    {
     "name": "stdout",
     "output_type": "stream",
     "text": [
      "Accuracy: 0.7152023717858059\n",
      "Precision score (TP/(TP+FP)):  0.08549600013704027\n",
      "AUC score:  0.773249815168968\n"
     ]
    }
   ],
   "source": [
    "y = train_target.to_numpy()\n",
    "y_hat = clf.predict(train_feat)\n",
    "print(\"Accuracy:\",\n",
    "     sklearn.metrics.accuracy_score(y, y_hat))\n",
    "print(\"Precision score (TP/(TP+FP)): \",\n",
    "      sklearn.metrics.precision_score(y, y_hat))\n",
    "print(\"AUC score: \",\n",
    "      sklearn.metrics.roc_auc_score(y, y_hat))"
   ]
  },
  {
   "cell_type": "code",
   "execution_count": 12,
   "metadata": {},
   "outputs": [
    {
     "name": "stdout",
     "output_type": "stream",
     "text": [
      "Accuracy: 0.7230463740536963\n",
      "Precision score (TP/(TP+FP)):  0.06783150790700335\n",
      "AUC score:  0.7264615620142678\n"
     ]
    }
   ],
   "source": [
    "y = test_target.to_numpy()\n",
    "y_hat = predicted_target\n",
    "print(\"Accuracy:\",\n",
    "     sklearn.metrics.accuracy_score(y, y_hat))\n",
    "print(\"Precision score (TP/(TP+FP)): \",\n",
    "      sklearn.metrics.precision_score(y, y_hat))\n",
    "print(\"AUC score: \",\n",
    "      sklearn.metrics.roc_auc_score(y, y_hat))\n"
   ]
  },
  {
   "cell_type": "code",
   "execution_count": 13,
   "metadata": {},
   "outputs": [
    {
     "data": {
      "text/plain": [
       "{'max_depth': 10, 'n_estimators': 120}"
      ]
     },
     "execution_count": 13,
     "metadata": {},
     "output_type": "execute_result"
    }
   ],
   "source": [
    "clf.best_params_"
   ]
  },
  {
   "cell_type": "raw",
   "metadata": {},
   "source": [
    "def split_list(data, train_perc, val_perc):\n",
    "    num_train = int(len(data) * train_perc)\n",
    "    num_val = int(len(data) * val_perc)\n",
    "    return data[:num_train], data[num_train:num_train+num_val], data[num_train+num_val:]\n",
    "\n",
    "features_train, features_val, features_test = split_list(all_features, 0.70, 0.15)\n",
    "adj_train, adj_val, adj_test = split_list(all_adj, 0.70, 0.15)\n",
    "y_train, y_val, y_test = split_list(all_targets, 0.70, 0.15)"
   ]
  },
  {
   "cell_type": "code",
   "execution_count": null,
   "metadata": {},
   "outputs": [],
   "source": []
  }
 ],
 "metadata": {
  "kernelspec": {
   "display_name": "Python 3",
   "language": "python",
   "name": "python3"
  },
  "language_info": {
   "codemirror_mode": {
    "name": "ipython",
    "version": 3
   },
   "file_extension": ".py",
   "mimetype": "text/x-python",
   "name": "python",
   "nbconvert_exporter": "python",
   "pygments_lexer": "ipython3",
   "version": "3.6.7"
  }
 },
 "nbformat": 4,
 "nbformat_minor": 2
}
