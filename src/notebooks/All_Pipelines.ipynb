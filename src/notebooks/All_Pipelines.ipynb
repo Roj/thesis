{
 "cells": [
  {
   "cell_type": "code",
   "execution_count": 1,
   "metadata": {},
   "outputs": [
    {
     "name": "stderr",
     "output_type": "stream",
     "text": [
      "INFO:root:HEllo!\n",
      "/usr/local/lib/python3.6/dist-packages/tensorboard/compat/tensorflow_stub/dtypes.py:541: FutureWarning: Passing (type, 1) or '1type' as a synonym of type is deprecated; in a future version of numpy, it will be understood as (type, (1,)) / '(1,)type'.\n",
      "  _np_qint8 = np.dtype([(\"qint8\", np.int8, 1)])\n",
      "/usr/local/lib/python3.6/dist-packages/tensorboard/compat/tensorflow_stub/dtypes.py:542: FutureWarning: Passing (type, 1) or '1type' as a synonym of type is deprecated; in a future version of numpy, it will be understood as (type, (1,)) / '(1,)type'.\n",
      "  _np_quint8 = np.dtype([(\"quint8\", np.uint8, 1)])\n",
      "/usr/local/lib/python3.6/dist-packages/tensorboard/compat/tensorflow_stub/dtypes.py:543: FutureWarning: Passing (type, 1) or '1type' as a synonym of type is deprecated; in a future version of numpy, it will be understood as (type, (1,)) / '(1,)type'.\n",
      "  _np_qint16 = np.dtype([(\"qint16\", np.int16, 1)])\n",
      "/usr/local/lib/python3.6/dist-packages/tensorboard/compat/tensorflow_stub/dtypes.py:544: FutureWarning: Passing (type, 1) or '1type' as a synonym of type is deprecated; in a future version of numpy, it will be understood as (type, (1,)) / '(1,)type'.\n",
      "  _np_quint16 = np.dtype([(\"quint16\", np.uint16, 1)])\n",
      "/usr/local/lib/python3.6/dist-packages/tensorboard/compat/tensorflow_stub/dtypes.py:545: FutureWarning: Passing (type, 1) or '1type' as a synonym of type is deprecated; in a future version of numpy, it will be understood as (type, (1,)) / '(1,)type'.\n",
      "  _np_qint32 = np.dtype([(\"qint32\", np.int32, 1)])\n",
      "/usr/local/lib/python3.6/dist-packages/tensorboard/compat/tensorflow_stub/dtypes.py:550: FutureWarning: Passing (type, 1) or '1type' as a synonym of type is deprecated; in a future version of numpy, it will be understood as (type, (1,)) / '(1,)type'.\n",
      "  np_resource = np.dtype([(\"resource\", np.ubyte, 1)])\n"
     ]
    }
   ],
   "source": [
    "from importlib import reload\n",
    "import logging\n",
    "logging.basicConfig(level=logging.INFO)\n",
    "logging.info(\"HEllo!\")\n",
    "import thesispipeline\n",
    "reload(thesispipeline)\n",
    "ThesisPipeline = thesispipeline.ThesisPipeline"
   ]
  },
  {
   "cell_type": "markdown",
   "metadata": {},
   "source": [
    "## Topology graph"
   ]
  },
  {
   "cell_type": "markdown",
   "metadata": {},
   "source": [
    "### Graph Convolutional Network"
   ]
  },
  {
   "cell_type": "code",
   "execution_count": null,
   "metadata": {},
   "outputs": [],
   "source": [
    "thesis = ThesisPipeline()\n",
    "thesis.load_data()\n",
    "thesis.make_protein_groups()\n",
    "thesis.check_protein_groups()\n",
    "thesis.remove_interior_nodes()\n",
    "thesis.make_features()\n",
    "thesis.make_adjacency_matrices()\n",
    "thesis.make_targets()\n",
    "thesis.convert_matrices_32bits()\n",
    "thesis.filter_by_node_amount(amount=1000)\n",
    "thesis.make_positive_weight()\n",
    "thesis.make_laplacians()\n",
    "thesis.pad_matrices()\n",
    "thesis.make_masks()\n",
    "thesis.run_cv_gcn(epochs=40)"
   ]
  },
  {
   "cell_type": "markdown",
   "metadata": {},
   "source": [
    "### Local GCN\n",
    "\n",
    "For starters, NeighborhoodIterator requires to have the graph instance at training time. So we'll need to keep track of how features and graphs match (i.e. also filter graphs in ThPi.filter_by_node_amount)\n",
    "\n",
    "To implement it in a new class would be ideal. I should rewrite the parent class so polymorphism can be achievied easily.  Writing a private method `_train_step` would suit this. This also requires wrapping `fit_cv_groups` and `fit` so that they receive the graphs.\n",
    "\n",
    "Maybe the best way is to save graph information in self?\n",
    "\n",
    "But we actually can generalize the current code! Some lines are repeated and can be looped, assumptions can be dropped and differing code factored into functions. Loop over the zips to select train/val, and pass those to fit. Fit then doesn't assume the shapes of the zips and passes them onto `_train_step` and `_val_step`. We can probably generalize both functions into something as well!\n",
    "\n",
    "After that it's just a matter of thinking how to inject this behavior in the pipeline. Maybe a common method and wrappers that select a class.."
   ]
  },
  {
   "cell_type": "code",
   "execution_count": 2,
   "metadata": {},
   "outputs": [
    {
     "name": "stderr",
     "output_type": "stream",
     "text": [
      "INFO:root:There are 1proteins without group\n",
      "INFO:root:Nodes w/o CDHit group: 247 (0.02368611581263995%)\n",
      "By chain:{'5A99_A': 247}\n",
      "INFO:root:Generating neighborhoods..\n",
      "100% (1228 of 1228) |####################| Elapsed Time: 0:03:47 Time:  0:03:47\n",
      "INFO:root:New class balance is 0.045730\n",
      "INFO:root:For every non-contact point there are 0.04573015127697364 contact points (positive class weight = 21.867410714285715)\n",
      "INFO:root:Maximum number of nodes per graph: 92\n"
     ]
    }
   ],
   "source": [
    "thesis = ThesisPipeline()\n",
    "thesis.load_data()\n",
    "thesis.make_protein_groups()\n",
    "thesis.check_protein_groups()\n",
    "thesis.remove_interior_nodes()\n",
    "thesis.make_features()\n",
    "thesis.make_adjacency_matrices()\n",
    "thesis.make_targets()\n",
    "thesis.convert_matrices_32bits()\n",
    "#thesis.filter_by_node_amount(amount=1000)\n",
    "\n",
    "thesis.make_neighborhoods(dist=3, negative_prob=0.5, verbose=1)\n",
    "good_masks = thesis.all_masks\n",
    "thesis.make_positive_weight()\n",
    "thesis.make_laplacians()\n",
    "\n",
    "thesis.pad_matrices()\n",
    "#thesis.make_masks(pad_only=True)\n",
    "thesis.make_masks()"
   ]
  },
  {
   "cell_type": "code",
   "execution_count": 29,
   "metadata": {},
   "outputs": [],
   "source": [
    "import gcn.gcn\n",
    "reload(gcn.gcn)\n",
    "thesis.GraphConvolutionalNetwork = gcn.gcn.GraphConvolutionalNetwork\n",
    "LocalGCN = gcn.gcn.LocalGCN\n",
    "thesis.LocalGCN = gcn.gcn.LocalGCN"
   ]
  },
  {
   "cell_type": "code",
   "execution_count": 31,
   "metadata": {},
   "outputs": [
    {
     "name": "stderr",
     "output_type": "stream",
     "text": [
      "\r",
      "N/A% (0 of 163921) |                     | Elapsed Time: 0:00:00 ETA:  --:--:--"
     ]
    },
    {
     "name": "stdout",
     "output_type": "stream",
     "text": [
      "Resetting weights..\n",
      "Start of epoch 0\n"
     ]
    },
    {
     "name": "stderr",
     "output_type": "stream",
     "text": [
      "100% (163921 of 163921) |################| Elapsed Time: 0:07:50 Time:  0:07:50\n",
      "  0% (35 of 163921) |                    | Elapsed Time: 0:00:00 ETA:   0:08:32"
     ]
    },
    {
     "name": "stdout",
     "output_type": "stream",
     "text": [
      "Epoch 0:\n",
      "\tTRAIN loss 0.54, auc 0.56, recall 0.70, precision 0.05\n",
      "\tVAL loss 0.57 auc 0.54 recall 0.68 precision 0.06\n",
      "Confusion matrix(TRAIN):\n",
      "[[2249277 3181924]\n",
      " [  75701  174119]]\n",
      "Confusion matrix(VAL):\n",
      "[[527987 805699]\n",
      " [ 22578  47589]]\n",
      "Start of epoch 1\n"
     ]
    },
    {
     "name": "stderr",
     "output_type": "stream",
     "text": [
      "100% (163921 of 163921) |################| Elapsed Time: 0:07:42 Time:  0:07:42\n",
      "  0% (35 of 163921) |                    | Elapsed Time: 0:00:00 ETA:   0:09:17"
     ]
    },
    {
     "name": "stdout",
     "output_type": "stream",
     "text": [
      "Epoch 1:\n",
      "\tTRAIN loss 0.53, auc 0.59, recall 0.81, precision 0.05\n",
      "\tVAL loss 0.57 auc 0.55 recall 0.77 precision 0.06\n",
      "Confusion matrix(TRAIN):\n",
      "[[1879341 3551860]\n",
      " [  46296  203524]]\n",
      "Confusion matrix(VAL):\n",
      "[[424780 908906]\n",
      " [ 16138  54029]]\n",
      "Start of epoch 2\n"
     ]
    },
    {
     "name": "stderr",
     "output_type": "stream",
     "text": [
      "100% (163921 of 163921) |################| Elapsed Time: 0:07:43 Time:  0:07:43\n",
      "  0% (35 of 163921) |                    | Elapsed Time: 0:00:00 ETA:   0:09:19"
     ]
    },
    {
     "name": "stdout",
     "output_type": "stream",
     "text": [
      "Epoch 2:\n",
      "\tTRAIN loss 0.53, auc 0.60, recall 0.85, precision 0.05\n",
      "\tVAL loss 0.57 auc 0.56 recall 0.79 precision 0.06\n",
      "Confusion matrix(TRAIN):\n",
      "[[1769260 3661941]\n",
      " [  38605  211215]]\n",
      "Confusion matrix(VAL):\n",
      "[[411060 922626]\n",
      " [ 14485  55682]]\n",
      "Start of epoch 3\n"
     ]
    },
    {
     "name": "stderr",
     "output_type": "stream",
     "text": [
      "100% (163921 of 163921) |################| Elapsed Time: 0:07:40 Time:  0:07:40\n",
      "  0% (35 of 163921) |                    | Elapsed Time: 0:00:00 ETA:   0:09:08"
     ]
    },
    {
     "name": "stdout",
     "output_type": "stream",
     "text": [
      "Epoch 3:\n",
      "\tTRAIN loss 0.53, auc 0.61, recall 0.86, precision 0.05\n",
      "\tVAL loss 0.57 auc 0.57 recall 0.82 precision 0.06\n",
      "Confusion matrix(TRAIN):\n",
      "[[1710722 3720479]\n",
      " [  34591  215229]]\n",
      "Confusion matrix(VAL):\n",
      "[[393558 940128]\n",
      " [ 12881  57286]]\n",
      "Start of epoch 4\n"
     ]
    },
    {
     "name": "stderr",
     "output_type": "stream",
     "text": [
      "100% (163921 of 163921) |################| Elapsed Time: 0:07:38 Time:  0:07:38\n",
      "  0% (35 of 163921) |                    | Elapsed Time: 0:00:00 ETA:   0:08:46"
     ]
    },
    {
     "name": "stdout",
     "output_type": "stream",
     "text": [
      "Epoch 4:\n",
      "\tTRAIN loss 0.53, auc 0.62, recall 0.87, precision 0.05\n",
      "\tVAL loss 0.57 auc 0.58 recall 0.82 precision 0.06\n",
      "Confusion matrix(TRAIN):\n",
      "[[1653339 3777862]\n",
      " [  31883  217937]]\n",
      "Confusion matrix(VAL):\n",
      "[[399755 933931]\n",
      " [ 12869  57298]]\n",
      "Start of epoch 5\n"
     ]
    },
    {
     "name": "stderr",
     "output_type": "stream",
     "text": [
      "100% (163921 of 163921) |################| Elapsed Time: 0:07:41 Time:  0:07:41\n",
      "  0% (35 of 163921) |                    | Elapsed Time: 0:00:00 ETA:   0:09:46"
     ]
    },
    {
     "name": "stdout",
     "output_type": "stream",
     "text": [
      "Epoch 5:\n",
      "\tTRAIN loss 0.53, auc 0.62, recall 0.88, precision 0.05\n",
      "\tVAL loss 0.57 auc 0.59 recall 0.82 precision 0.06\n",
      "Confusion matrix(TRAIN):\n",
      "[[1647793 3783408]\n",
      " [  31170  218650]]\n",
      "Confusion matrix(VAL):\n",
      "[[402752 930934]\n",
      " [ 12809  57358]]\n",
      "Start of epoch 6\n"
     ]
    },
    {
     "name": "stderr",
     "output_type": "stream",
     "text": [
      "100% (163921 of 163921) |################| Elapsed Time: 0:07:41 Time:  0:07:41\n",
      "  0% (35 of 163921) |                    | Elapsed Time: 0:00:00 ETA:   0:09:04"
     ]
    },
    {
     "name": "stdout",
     "output_type": "stream",
     "text": [
      "Epoch 6:\n",
      "\tTRAIN loss 0.52, auc 0.63, recall 0.88, precision 0.05\n",
      "\tVAL loss 0.57 auc 0.60 recall 0.82 precision 0.06\n",
      "Confusion matrix(TRAIN):\n",
      "[[1657508 3773693]\n",
      " [  31005  218815]]\n",
      "Confusion matrix(VAL):\n",
      "[[406164 927522]\n",
      " [ 12853  57314]]\n",
      "Start of epoch 7\n"
     ]
    },
    {
     "name": "stderr",
     "output_type": "stream",
     "text": [
      "100% (163921 of 163921) |################| Elapsed Time: 0:07:37 Time:  0:07:37\n",
      "  0% (35 of 163921) |                    | Elapsed Time: 0:00:00 ETA:   0:08:58"
     ]
    },
    {
     "name": "stdout",
     "output_type": "stream",
     "text": [
      "Epoch 7:\n",
      "\tTRAIN loss 0.52, auc 0.64, recall 0.87, precision 0.06\n",
      "\tVAL loss 0.57 auc 0.60 recall 0.81 precision 0.06\n",
      "Confusion matrix(TRAIN):\n",
      "[[1683799 3747402]\n",
      " [  31524  218296]]\n",
      "Confusion matrix(VAL):\n",
      "[[419312 914374]\n",
      " [ 13102  57065]]\n",
      "Start of epoch 8\n"
     ]
    },
    {
     "name": "stderr",
     "output_type": "stream",
     "text": [
      "100% (163921 of 163921) |################| Elapsed Time: 0:07:42 Time:  0:07:42\n",
      "  0% (35 of 163921) |                    | Elapsed Time: 0:00:00 ETA:   0:08:26"
     ]
    },
    {
     "name": "stdout",
     "output_type": "stream",
     "text": [
      "Epoch 8:\n",
      "\tTRAIN loss 0.52, auc 0.64, recall 0.87, precision 0.06\n",
      "\tVAL loss 0.57 auc 0.61 recall 0.81 precision 0.06\n",
      "Confusion matrix(TRAIN):\n",
      "[[1729366 3701835]\n",
      " [  32555  217265]]\n",
      "Confusion matrix(VAL):\n",
      "[[433667 900019]\n",
      " [ 13447  56720]]\n",
      "Start of epoch 9\n"
     ]
    },
    {
     "name": "stderr",
     "output_type": "stream",
     "text": [
      "100% (163921 of 163921) |################| Elapsed Time: 0:07:56 Time:  0:07:56\n",
      "  0% (35 of 163921) |                    | Elapsed Time: 0:00:00 ETA:   0:07:59"
     ]
    },
    {
     "name": "stdout",
     "output_type": "stream",
     "text": [
      "Epoch 9:\n",
      "\tTRAIN loss 0.52, auc 0.65, recall 0.86, precision 0.06\n",
      "\tVAL loss 0.57 auc 0.61 recall 0.80 precision 0.06\n",
      "Confusion matrix(TRAIN):\n",
      "[[1777794 3653407]\n",
      " [  33915  215905]]\n",
      "Confusion matrix(VAL):\n",
      "[[448364 885322]\n",
      " [ 13807  56360]]\n",
      "Start of epoch 10\n"
     ]
    },
    {
     "name": "stderr",
     "output_type": "stream",
     "text": [
      "100% (163921 of 163921) |################| Elapsed Time: 0:07:46 Time:  0:07:46\n",
      "  0% (35 of 163921) |                    | Elapsed Time: 0:00:00 ETA:   0:08:49"
     ]
    },
    {
     "name": "stdout",
     "output_type": "stream",
     "text": [
      "Epoch 10:\n",
      "\tTRAIN loss 0.52, auc 0.65, recall 0.86, precision 0.06\n",
      "\tVAL loss 0.57 auc 0.61 recall 0.79 precision 0.06\n",
      "Confusion matrix(TRAIN):\n",
      "[[1836807 3594394]\n",
      " [  35727  214093]]\n",
      "Confusion matrix(VAL):\n",
      "[[461379 872307]\n",
      " [ 14563  55604]]\n",
      "Start of epoch 11\n"
     ]
    },
    {
     "name": "stderr",
     "output_type": "stream",
     "text": [
      "100% (163921 of 163921) |################| Elapsed Time: 0:07:53 Time:  0:07:53\n",
      "  0% (35 of 163921) |                    | Elapsed Time: 0:00:00 ETA:   0:08:49"
     ]
    },
    {
     "name": "stdout",
     "output_type": "stream",
     "text": [
      "Epoch 11:\n",
      "\tTRAIN loss 0.52, auc 0.66, recall 0.85, precision 0.06\n",
      "\tVAL loss 0.57 auc 0.62 recall 0.78 precision 0.06\n",
      "Confusion matrix(TRAIN):\n",
      "[[1887773 3543428]\n",
      " [  36932  212888]]\n",
      "Confusion matrix(VAL):\n",
      "[[491411 842275]\n",
      " [ 15169  54998]]\n",
      "Start of epoch 12\n"
     ]
    },
    {
     "name": "stderr",
     "output_type": "stream",
     "text": [
      "100% (163921 of 163921) |################| Elapsed Time: 0:08:30 Time:  0:08:30\n",
      "  0% (35 of 163921) |                    | Elapsed Time: 0:00:00 ETA:   0:13:22"
     ]
    },
    {
     "name": "stdout",
     "output_type": "stream",
     "text": [
      "Epoch 12:\n",
      "\tTRAIN loss 0.52, auc 0.66, recall 0.84, precision 0.06\n",
      "\tVAL loss 0.57 auc 0.62 recall 0.77 precision 0.06\n",
      "Confusion matrix(TRAIN):\n",
      "[[1972081 3459120]\n",
      " [  39588  210232]]\n",
      "Confusion matrix(VAL):\n",
      "[[504692 828994]\n",
      " [ 15912  54255]]\n",
      "Start of epoch 13\n"
     ]
    },
    {
     "name": "stderr",
     "output_type": "stream",
     "text": [
      "100% (163921 of 163921) |################| Elapsed Time: 0:09:17 Time:  0:09:17\n",
      "  0% (35 of 163921) |                    | Elapsed Time: 0:00:00 ETA:   0:10:21"
     ]
    },
    {
     "name": "stdout",
     "output_type": "stream",
     "text": [
      "Epoch 13:\n",
      "\tTRAIN loss 0.52, auc 0.66, recall 0.84, precision 0.06\n",
      "\tVAL loss 0.57 auc 0.62 recall 0.76 precision 0.06\n",
      "Confusion matrix(TRAIN):\n",
      "[[2025504 3405697]\n",
      " [  40977  208843]]\n",
      "Confusion matrix(VAL):\n",
      "[[529012 804674]\n",
      " [ 16636  53531]]\n",
      "Start of epoch 14\n"
     ]
    },
    {
     "name": "stderr",
     "output_type": "stream",
     "text": [
      "100% (163921 of 163921) |################| Elapsed Time: 0:09:21 Time:  0:09:21\n",
      "  0% (35 of 163921) |                    | Elapsed Time: 0:00:00 ETA:   0:09:46"
     ]
    },
    {
     "name": "stdout",
     "output_type": "stream",
     "text": [
      "Epoch 14:\n",
      "\tTRAIN loss 0.52, auc 0.66, recall 0.83, precision 0.06\n",
      "\tVAL loss 0.57 auc 0.62 recall 0.75 precision 0.06\n",
      "Confusion matrix(TRAIN):\n",
      "[[2095577 3335624]\n",
      " [  43198  206622]]\n",
      "Confusion matrix(VAL):\n",
      "[[538962 794724]\n",
      " [ 17309  52858]]\n",
      "Start of epoch 15\n"
     ]
    },
    {
     "name": "stderr",
     "output_type": "stream",
     "text": [
      "100% (163921 of 163921) |################| Elapsed Time: 0:09:20 Time:  0:09:20\n",
      "  0% (35 of 163921) |                    | Elapsed Time: 0:00:00 ETA:   0:10:41"
     ]
    },
    {
     "name": "stdout",
     "output_type": "stream",
     "text": [
      "Epoch 15:\n",
      "\tTRAIN loss 0.51, auc 0.67, recall 0.82, precision 0.06\n",
      "\tVAL loss 0.56 auc 0.62 recall 0.75 precision 0.06\n",
      "Confusion matrix(TRAIN):\n",
      "[[2147128 3284073]\n",
      " [  44557  205263]]\n",
      "Confusion matrix(VAL):\n",
      "[[557889 775797]\n",
      " [ 17872  52295]]\n",
      "Start of epoch 16\n"
     ]
    },
    {
     "name": "stderr",
     "output_type": "stream",
     "text": [
      "100% (163921 of 163921) |################| Elapsed Time: 0:09:18 Time:  0:09:18\n",
      "  0% (35 of 163921) |                    | Elapsed Time: 0:00:00 ETA:   0:10:00"
     ]
    },
    {
     "name": "stdout",
     "output_type": "stream",
     "text": [
      "Epoch 16:\n",
      "\tTRAIN loss 0.51, auc 0.67, recall 0.81, precision 0.06\n",
      "\tVAL loss 0.56 auc 0.62 recall 0.74 precision 0.06\n",
      "Confusion matrix(TRAIN):\n",
      "[[2202784 3228417]\n",
      " [  46443  203377]]\n",
      "Confusion matrix(VAL):\n",
      "[[565047 768639]\n",
      " [ 18298  51869]]\n",
      "Start of epoch 17\n"
     ]
    },
    {
     "name": "stderr",
     "output_type": "stream",
     "text": [
      "100% (163921 of 163921) |################| Elapsed Time: 0:09:11 Time:  0:09:11\n",
      "  0% (35 of 163921) |                    | Elapsed Time: 0:00:00 ETA:   0:10:39"
     ]
    },
    {
     "name": "stdout",
     "output_type": "stream",
     "text": [
      "Epoch 17:\n",
      "\tTRAIN loss 0.51, auc 0.67, recall 0.81, precision 0.06\n",
      "\tVAL loss 0.56 auc 0.62 recall 0.73 precision 0.06\n",
      "Confusion matrix(TRAIN):\n",
      "[[2245963 3185238]\n",
      " [  47652  202168]]\n",
      "Confusion matrix(VAL):\n",
      "[[578913 754773]\n",
      " [ 18794  51373]]\n",
      "Start of epoch 18\n"
     ]
    },
    {
     "name": "stderr",
     "output_type": "stream",
     "text": [
      "100% (163921 of 163921) |################| Elapsed Time: 0:09:14 Time:  0:09:14\n",
      "  0% (35 of 163921) |                    | Elapsed Time: 0:00:00 ETA:   0:10:06"
     ]
    },
    {
     "name": "stdout",
     "output_type": "stream",
     "text": [
      "Epoch 18:\n",
      "\tTRAIN loss 0.51, auc 0.67, recall 0.80, precision 0.06\n",
      "\tVAL loss 0.57 auc 0.62 recall 0.73 precision 0.06\n",
      "Confusion matrix(TRAIN):\n",
      "[[2294765 3136436]\n",
      " [  49068  200752]]\n",
      "Confusion matrix(VAL):\n",
      "[[590977 742709]\n",
      " [ 19246  50921]]\n",
      "Start of epoch 19\n"
     ]
    },
    {
     "name": "stderr",
     "output_type": "stream",
     "text": [
      "100% (163921 of 163921) |################| Elapsed Time: 0:09:28 Time:  0:09:28\n",
      "  0% (35 of 163921) |                    | Elapsed Time: 0:00:00 ETA:   0:10:36"
     ]
    },
    {
     "name": "stdout",
     "output_type": "stream",
     "text": [
      "Epoch 19:\n",
      "\tTRAIN loss 0.51, auc 0.67, recall 0.80, precision 0.06\n",
      "\tVAL loss 0.56 auc 0.62 recall 0.72 precision 0.06\n",
      "Confusion matrix(TRAIN):\n",
      "[[2334020 3097181]\n",
      " [  50364  199456]]\n",
      "Confusion matrix(VAL):\n",
      "[[594426 739260]\n",
      " [ 19469  50698]]\n",
      "Start of epoch 20\n"
     ]
    },
    {
     "name": "stderr",
     "output_type": "stream",
     "text": [
      "100% (163921 of 163921) |################| Elapsed Time: 0:09:10 Time:  0:09:10\n",
      "  0% (35 of 163921) |                    | Elapsed Time: 0:00:00 ETA:   0:10:24"
     ]
    },
    {
     "name": "stdout",
     "output_type": "stream",
     "text": [
      "Epoch 20:\n",
      "\tTRAIN loss 0.51, auc 0.67, recall 0.80, precision 0.06\n",
      "\tVAL loss 0.57 auc 0.63 recall 0.72 precision 0.06\n",
      "Confusion matrix(TRAIN):\n",
      "[[2351969 3079232]\n",
      " [  50632  199188]]\n",
      "Confusion matrix(VAL):\n",
      "[[607056 726630]\n",
      " [ 19939  50228]]\n",
      "Start of epoch 21\n"
     ]
    },
    {
     "name": "stderr",
     "output_type": "stream",
     "text": [
      "100% (163921 of 163921) |################| Elapsed Time: 0:09:03 Time:  0:09:03\n",
      "  0% (35 of 163921) |                    | Elapsed Time: 0:00:00 ETA:   0:09:02"
     ]
    },
    {
     "name": "stdout",
     "output_type": "stream",
     "text": [
      "Epoch 21:\n",
      "\tTRAIN loss 0.51, auc 0.67, recall 0.79, precision 0.06\n",
      "\tVAL loss 0.56 auc 0.62 recall 0.71 precision 0.06\n",
      "Confusion matrix(TRAIN):\n",
      "[[2386363 3044838]\n",
      " [  51782  198038]]\n",
      "Confusion matrix(VAL):\n",
      "[[612142 721544]\n",
      " [ 20326  49841]]\n",
      "Start of epoch 22\n"
     ]
    },
    {
     "name": "stderr",
     "output_type": "stream",
     "text": [
      "100% (163921 of 163921) |################| Elapsed Time: 0:09:02 Time:  0:09:02\n",
      "  0% (35 of 163921) |                    | Elapsed Time: 0:00:00 ETA:   0:09:49"
     ]
    },
    {
     "name": "stdout",
     "output_type": "stream",
     "text": [
      "Epoch 22:\n",
      "\tTRAIN loss 0.51, auc 0.67, recall 0.79, precision 0.06\n",
      "\tVAL loss 0.57 auc 0.63 recall 0.71 precision 0.06\n",
      "Confusion matrix(TRAIN):\n",
      "[[2402562 3028639]\n",
      " [  52018  197802]]\n",
      "Confusion matrix(VAL):\n",
      "[[619711 713975]\n",
      " [ 20563  49604]]\n",
      "Start of epoch 23\n"
     ]
    },
    {
     "name": "stderr",
     "output_type": "stream",
     "text": [
      "100% (163921 of 163921) |################| Elapsed Time: 0:07:51 Time:  0:07:51\n",
      "  0% (35 of 163921) |                    | Elapsed Time: 0:00:00 ETA:   0:08:37"
     ]
    },
    {
     "name": "stdout",
     "output_type": "stream",
     "text": [
      "Epoch 23:\n",
      "\tTRAIN loss 0.51, auc 0.67, recall 0.79, precision 0.06\n",
      "\tVAL loss 0.56 auc 0.62 recall 0.70 precision 0.07\n",
      "Confusion matrix(TRAIN):\n",
      "[[2427296 3003905]\n",
      " [  52742  197078]]\n",
      "Confusion matrix(VAL):\n",
      "[[624581 709105]\n",
      " [ 20848  49319]]\n",
      "Start of epoch 24\n"
     ]
    },
    {
     "name": "stderr",
     "output_type": "stream",
     "text": [
      "100% (163921 of 163921) |################| Elapsed Time: 0:07:41 Time:  0:07:41\n",
      "  0% (35 of 163921) |                    | Elapsed Time: 0:00:00 ETA:   0:10:15"
     ]
    },
    {
     "name": "stdout",
     "output_type": "stream",
     "text": [
      "Epoch 24:\n",
      "\tTRAIN loss 0.51, auc 0.68, recall 0.79, precision 0.06\n",
      "\tVAL loss 0.57 auc 0.63 recall 0.70 precision 0.07\n",
      "Confusion matrix(TRAIN):\n",
      "[[2438117 2993084]\n",
      " [  52918  196902]]\n",
      "Confusion matrix(VAL):\n",
      "[[628957 704729]\n",
      " [ 20941  49226]]\n",
      "Start of epoch 25\n"
     ]
    },
    {
     "name": "stderr",
     "output_type": "stream",
     "text": [
      "100% (163921 of 163921) |################| Elapsed Time: 0:07:44 Time:  0:07:44\n",
      "  0% (35 of 163921) |                    | Elapsed Time: 0:00:00 ETA:   0:08:42"
     ]
    },
    {
     "name": "stdout",
     "output_type": "stream",
     "text": [
      "Epoch 25:\n",
      "\tTRAIN loss 0.51, auc 0.68, recall 0.79, precision 0.06\n",
      "\tVAL loss 0.57 auc 0.63 recall 0.70 precision 0.07\n",
      "Confusion matrix(TRAIN):\n",
      "[[2461433 2969768]\n",
      " [  53115  196705]]\n",
      "Confusion matrix(VAL):\n",
      "[[632191 701495]\n",
      " [ 21053  49114]]\n",
      "Start of epoch 26\n"
     ]
    },
    {
     "name": "stderr",
     "output_type": "stream",
     "text": [
      "100% (163921 of 163921) |################| Elapsed Time: 0:07:45 Time:  0:07:45\n",
      "  0% (35 of 163921) |                    | Elapsed Time: 0:00:00 ETA:   0:08:34"
     ]
    },
    {
     "name": "stdout",
     "output_type": "stream",
     "text": [
      "Epoch 26:\n",
      "\tTRAIN loss 0.51, auc 0.67, recall 0.78, precision 0.06\n",
      "\tVAL loss 0.57 auc 0.61 recall 0.69 precision 0.06\n",
      "Confusion matrix(TRAIN):\n",
      "[[2492580 2938621]\n",
      " [  54708  195112]]\n",
      "Confusion matrix(VAL):\n",
      "[[625817 707869]\n",
      " [ 21835  48332]]\n",
      "Start of epoch 27\n"
     ]
    },
    {
     "name": "stderr",
     "output_type": "stream",
     "text": [
      "100% (163921 of 163921) |################| Elapsed Time: 0:07:42 Time:  0:07:42\n",
      "  0% (35 of 163921) |                    | Elapsed Time: 0:00:00 ETA:   0:08:14"
     ]
    },
    {
     "name": "stdout",
     "output_type": "stream",
     "text": [
      "Epoch 27:\n",
      "\tTRAIN loss 0.51, auc 0.67, recall 0.79, precision 0.06\n",
      "\tVAL loss 0.57 auc 0.62 recall 0.70 precision 0.06\n",
      "Confusion matrix(TRAIN):\n",
      "[[2445178 2986023]\n",
      " [  53404  196416]]\n",
      "Confusion matrix(VAL):\n",
      "[[622466 711220]\n",
      " [ 21131  49036]]\n",
      "Start of epoch 28\n"
     ]
    },
    {
     "name": "stderr",
     "output_type": "stream",
     "text": [
      "100% (163921 of 163921) |################| Elapsed Time: 0:07:41 Time:  0:07:41\n",
      "  0% (35 of 163921) |                    | Elapsed Time: 0:00:00 ETA:   0:09:02"
     ]
    },
    {
     "name": "stdout",
     "output_type": "stream",
     "text": [
      "Epoch 28:\n",
      "\tTRAIN loss 0.51, auc 0.68, recall 0.79, precision 0.06\n",
      "\tVAL loss 0.57 auc 0.63 recall 0.70 precision 0.07\n",
      "Confusion matrix(TRAIN):\n",
      "[[2454805 2976396]\n",
      " [  52679  197141]]\n",
      "Confusion matrix(VAL):\n",
      "[[637236 696450]\n",
      " [ 21194  48973]]\n",
      "Start of epoch 29\n"
     ]
    },
    {
     "name": "stderr",
     "output_type": "stream",
     "text": [
      "100% (163921 of 163921) |################| Elapsed Time: 0:07:44 Time:  0:07:44\n",
      "  0% (35 of 163921) |                    | Elapsed Time: 0:00:00 ETA:   0:10:05"
     ]
    },
    {
     "name": "stdout",
     "output_type": "stream",
     "text": [
      "Epoch 29:\n",
      "\tTRAIN loss 0.51, auc 0.68, recall 0.78, precision 0.06\n",
      "\tVAL loss 0.57 auc 0.62 recall 0.69 precision 0.06\n",
      "Confusion matrix(TRAIN):\n",
      "[[2521790 2909411]\n",
      " [  55458  194362]]\n",
      "Confusion matrix(VAL):\n",
      "[[638544 695142]\n",
      " [ 21902  48265]]\n",
      "Start of epoch 30\n"
     ]
    },
    {
     "name": "stderr",
     "output_type": "stream",
     "text": [
      "100% (163921 of 163921) |################| Elapsed Time: 0:08:19 Time:  0:08:19\n",
      "  0% (35 of 163921) |                    | Elapsed Time: 0:00:00 ETA:   0:09:17"
     ]
    },
    {
     "name": "stdout",
     "output_type": "stream",
     "text": [
      "Epoch 30:\n",
      "\tTRAIN loss 0.51, auc 0.68, recall 0.78, precision 0.06\n",
      "\tVAL loss 0.57 auc 0.63 recall 0.69 precision 0.07\n",
      "Confusion matrix(TRAIN):\n",
      "[[2486596 2944605]\n",
      " [  54379  195441]]\n",
      "Confusion matrix(VAL):\n",
      "[[642624 691062]\n",
      " [ 21643  48524]]\n",
      "Start of epoch 31\n"
     ]
    },
    {
     "name": "stderr",
     "output_type": "stream",
     "text": [
      "100% (163921 of 163921) |################| Elapsed Time: 0:08:35 Time:  0:08:35\n",
      "  0% (35 of 163921) |                    | Elapsed Time: 0:00:00 ETA:   0:10:20"
     ]
    },
    {
     "name": "stdout",
     "output_type": "stream",
     "text": [
      "Epoch 31:\n",
      "\tTRAIN loss 0.51, auc 0.68, recall 0.78, precision 0.06\n",
      "\tVAL loss 0.57 auc 0.62 recall 0.69 precision 0.07\n",
      "Confusion matrix(TRAIN):\n",
      "[[2538129 2893072]\n",
      " [  55792  194028]]\n",
      "Confusion matrix(VAL):\n",
      "[[645228 688458]\n",
      " [ 21968  48199]]\n",
      "Start of epoch 32\n"
     ]
    },
    {
     "name": "stderr",
     "output_type": "stream",
     "text": [
      "100% (163921 of 163921) |################| Elapsed Time: 0:08:15 Time:  0:08:15\n",
      "  0% (35 of 163921) |                    | Elapsed Time: 0:00:00 ETA:   0:08:10"
     ]
    },
    {
     "name": "stdout",
     "output_type": "stream",
     "text": [
      "Epoch 32:\n",
      "\tTRAIN loss 0.51, auc 0.68, recall 0.78, precision 0.06\n",
      "\tVAL loss 0.57 auc 0.63 recall 0.68 precision 0.07\n",
      "Confusion matrix(TRAIN):\n",
      "[[2518461 2912740]\n",
      " [  55250  194570]]\n",
      "Confusion matrix(VAL):\n",
      "[[653291 680395]\n",
      " [ 22239  47928]]\n",
      "Start of epoch 33\n"
     ]
    },
    {
     "name": "stderr",
     "output_type": "stream",
     "text": [
      "100% (163921 of 163921) |################| Elapsed Time: 0:08:16 Time:  0:08:16\n",
      "  0% (35 of 163921) |                    | Elapsed Time: 0:00:00 ETA:   0:10:28"
     ]
    },
    {
     "name": "stdout",
     "output_type": "stream",
     "text": [
      "Epoch 33:\n",
      "\tTRAIN loss 0.51, auc 0.68, recall 0.77, precision 0.06\n",
      "\tVAL loss 0.57 auc 0.62 recall 0.68 precision 0.06\n",
      "Confusion matrix(TRAIN):\n",
      "[[2568566 2862635]\n",
      " [  57155  192665]]\n",
      "Confusion matrix(VAL):\n",
      "[[646265 687421]\n",
      " [ 22453  47714]]\n",
      "Start of epoch 34\n"
     ]
    },
    {
     "name": "stderr",
     "output_type": "stream",
     "text": [
      "100% (163921 of 163921) |################| Elapsed Time: 0:08:08 Time:  0:08:08\n",
      "  0% (35 of 163921) |                    | Elapsed Time: 0:00:00 ETA:   0:08:02"
     ]
    },
    {
     "name": "stdout",
     "output_type": "stream",
     "text": [
      "Epoch 34:\n",
      "\tTRAIN loss 0.51, auc 0.68, recall 0.78, precision 0.06\n",
      "\tVAL loss 0.57 auc 0.62 recall 0.68 precision 0.07\n",
      "Confusion matrix(TRAIN):\n",
      "[[2500646 2930555]\n",
      " [  54811  195009]]\n",
      "Confusion matrix(VAL):\n",
      "[[643777 689909]\n",
      " [ 22185  47982]]\n",
      "Start of epoch 35\n"
     ]
    },
    {
     "name": "stderr",
     "output_type": "stream",
     "text": [
      "100% (163921 of 163921) |################| Elapsed Time: 0:07:39 Time:  0:07:39\n",
      "  0% (35 of 163921) |                    | Elapsed Time: 0:00:00 ETA:   0:08:11"
     ]
    },
    {
     "name": "stdout",
     "output_type": "stream",
     "text": [
      "Epoch 35:\n",
      "\tTRAIN loss 0.51, auc 0.68, recall 0.78, precision 0.06\n",
      "\tVAL loss 0.57 auc 0.63 recall 0.68 precision 0.07\n",
      "Confusion matrix(TRAIN):\n",
      "[[2514453 2916748]\n",
      " [  54713  195107]]\n",
      "Confusion matrix(VAL):\n",
      "[[651299 682387]\n",
      " [ 22114  48053]]\n",
      "Start of epoch 36\n"
     ]
    },
    {
     "name": "stderr",
     "output_type": "stream",
     "text": [
      "100% (163921 of 163921) |################| Elapsed Time: 0:07:35 Time:  0:07:35\n",
      "  0% (35 of 163921) |                    | Elapsed Time: 0:00:00 ETA:   0:08:20"
     ]
    },
    {
     "name": "stdout",
     "output_type": "stream",
     "text": [
      "Epoch 36:\n",
      "\tTRAIN loss 0.51, auc 0.68, recall 0.77, precision 0.06\n",
      "\tVAL loss 0.57 auc 0.62 recall 0.68 precision 0.06\n",
      "Confusion matrix(TRAIN):\n",
      "[[2554963 2876238]\n",
      " [  56293  193527]]\n",
      "Confusion matrix(VAL):\n",
      "[[643543 690143]\n",
      " [ 22510  47657]]\n",
      "Start of epoch 37\n"
     ]
    },
    {
     "name": "stderr",
     "output_type": "stream",
     "text": [
      "100% (163921 of 163921) |################| Elapsed Time: 0:07:37 Time:  0:07:37\n",
      "  0% (35 of 163921) |                    | Elapsed Time: 0:00:00 ETA:   0:09:02"
     ]
    },
    {
     "name": "stdout",
     "output_type": "stream",
     "text": [
      "Epoch 37:\n",
      "\tTRAIN loss 0.51, auc 0.67, recall 0.78, precision 0.06\n",
      "\tVAL loss 0.57 auc 0.62 recall 0.69 precision 0.06\n",
      "Confusion matrix(TRAIN):\n",
      "[[2480786 2950415]\n",
      " [  54635  195185]]\n",
      "Confusion matrix(VAL):\n",
      "[[639322 694364]\n",
      " [ 21905  48262]]\n",
      "Start of epoch 38\n"
     ]
    },
    {
     "name": "stderr",
     "output_type": "stream",
     "text": [
      "100% (163921 of 163921) |################| Elapsed Time: 0:07:38 Time:  0:07:38\n",
      "  0% (35 of 163921) |                    | Elapsed Time: 0:00:00 ETA:   0:08:37"
     ]
    },
    {
     "name": "stdout",
     "output_type": "stream",
     "text": [
      "Epoch 38:\n",
      "\tTRAIN loss 0.51, auc 0.68, recall 0.78, precision 0.06\n",
      "\tVAL loss 0.57 auc 0.63 recall 0.68 precision 0.07\n",
      "Confusion matrix(TRAIN):\n",
      "[[2519731 2911470]\n",
      " [  54100  195720]]\n",
      "Confusion matrix(VAL):\n",
      "[[655217 678469]\n",
      " [ 22280  47887]]\n",
      "Start of epoch 39\n"
     ]
    },
    {
     "name": "stderr",
     "output_type": "stream",
     "text": [
      "100% (163921 of 163921) |################| Elapsed Time: 0:07:35 Time:  0:07:35\n"
     ]
    },
    {
     "name": "stdout",
     "output_type": "stream",
     "text": [
      "Epoch 39:\n",
      "\tTRAIN loss 0.51, auc 0.68, recall 0.77, precision 0.06\n",
      "\tVAL loss 0.57 auc 0.62 recall 0.67 precision 0.06\n",
      "Confusion matrix(TRAIN):\n",
      "[[2573544 2857657]\n",
      " [  56889  192931]]\n",
      "Confusion matrix(VAL):\n",
      "[[649845 683841]\n",
      " [ 22825  47342]]\n",
      "Best score achieved, saving weights..\n",
      "Resetting weights..\n"
     ]
    },
    {
     "name": "stderr",
     "output_type": "stream",
     "text": [
      "  0% (84 of 163921) |                    | Elapsed Time: 0:00:00 ETA:   0:03:16"
     ]
    },
    {
     "name": "stdout",
     "output_type": "stream",
     "text": [
      "Start of epoch 0\n"
     ]
    },
    {
     "name": "stderr",
     "output_type": "stream",
     "text": [
      "100% (163921 of 163921) |################| Elapsed Time: 0:07:40 Time:  0:07:40\n",
      "  0% (88 of 163921) |                    | Elapsed Time: 0:00:00 ETA:   0:03:07"
     ]
    },
    {
     "name": "stdout",
     "output_type": "stream",
     "text": [
      "Epoch 0:\n",
      "\tTRAIN loss 0.56, auc 0.56, recall 0.76, precision 0.06\n",
      "\tVAL loss 0.51 auc 0.52 recall 0.76 precision 0.04\n",
      "Confusion matrix(TRAIN):\n",
      "[[1992862 3410505]\n",
      " [  64964  201032]]\n",
      "Confusion matrix(VAL):\n",
      "[[405393 956127]\n",
      " [ 12702  41289]]\n",
      "Start of epoch 1\n"
     ]
    },
    {
     "name": "stderr",
     "output_type": "stream",
     "text": [
      "100% (163921 of 163921) |################| Elapsed Time: 0:07:38 Time:  0:07:38\n",
      "  0% (75 of 163921) |                    | Elapsed Time: 0:00:00 ETA:   0:03:39"
     ]
    },
    {
     "name": "stdout",
     "output_type": "stream",
     "text": [
      "Epoch 1:\n",
      "\tTRAIN loss 0.55, auc 0.58, recall 0.87, precision 0.06\n",
      "\tVAL loss 0.51 auc 0.54 recall 0.81 precision 0.04\n",
      "Confusion matrix(TRAIN):\n",
      "[[1570968 3832399]\n",
      " [  35112  230884]]\n",
      "Confusion matrix(VAL):\n",
      "[[ 331217 1030303]\n",
      " [  10002   43989]]\n",
      "Start of epoch 2\n"
     ]
    },
    {
     "name": "stderr",
     "output_type": "stream",
     "text": [
      "100% (163921 of 163921) |################| Elapsed Time: 0:07:39 Time:  0:07:39\n",
      "  0% (86 of 163921) |                    | Elapsed Time: 0:00:00 ETA:   0:03:10"
     ]
    },
    {
     "name": "stdout",
     "output_type": "stream",
     "text": [
      "Epoch 2:\n",
      "\tTRAIN loss 0.54, auc 0.60, recall 0.89, precision 0.06\n",
      "\tVAL loss 0.51 auc 0.55 recall 0.83 precision 0.04\n",
      "Confusion matrix(TRAIN):\n",
      "[[1482485 3920882]\n",
      " [  28880  237116]]\n",
      "Confusion matrix(VAL):\n",
      "[[ 313262 1048258]\n",
      " [   9265   44726]]\n",
      "Start of epoch 3\n"
     ]
    },
    {
     "name": "stderr",
     "output_type": "stream",
     "text": [
      "100% (163921 of 163921) |################| Elapsed Time: 0:07:38 Time:  0:07:38\n",
      "  0% (77 of 163921) |                    | Elapsed Time: 0:00:00 ETA:   0:03:33"
     ]
    },
    {
     "name": "stdout",
     "output_type": "stream",
     "text": [
      "Epoch 3:\n",
      "\tTRAIN loss 0.54, auc 0.61, recall 0.90, precision 0.06\n",
      "\tVAL loss 0.51 auc 0.56 recall 0.84 precision 0.04\n",
      "Confusion matrix(TRAIN):\n",
      "[[1454873 3948494]\n",
      " [  26951  239045]]\n",
      "Confusion matrix(VAL):\n",
      "[[ 298515 1063005]\n",
      " [   8377   45614]]\n",
      "Start of epoch 4\n"
     ]
    },
    {
     "name": "stderr",
     "output_type": "stream",
     "text": [
      "100% (163921 of 163921) |################| Elapsed Time: 0:07:37 Time:  0:07:37\n",
      "  0% (88 of 163921) |                    | Elapsed Time: 0:00:00 ETA:   0:03:07"
     ]
    },
    {
     "name": "stdout",
     "output_type": "stream",
     "text": [
      "Epoch 4:\n",
      "\tTRAIN loss 0.54, auc 0.62, recall 0.90, precision 0.06\n",
      "\tVAL loss 0.51 auc 0.57 recall 0.85 precision 0.04\n",
      "Confusion matrix(TRAIN):\n",
      "[[1447413 3955954]\n",
      " [  26641  239355]]\n",
      "Confusion matrix(VAL):\n",
      "[[ 297378 1064142]\n",
      " [   8270   45721]]\n",
      "Start of epoch 5\n"
     ]
    },
    {
     "name": "stderr",
     "output_type": "stream",
     "text": [
      "100% (163921 of 163921) |################| Elapsed Time: 0:07:40 Time:  0:07:40\n",
      "  0% (91 of 163921) |                    | Elapsed Time: 0:00:00 ETA:   0:03:01"
     ]
    },
    {
     "name": "stdout",
     "output_type": "stream",
     "text": [
      "Epoch 5:\n",
      "\tTRAIN loss 0.54, auc 0.62, recall 0.90, precision 0.06\n",
      "\tVAL loss 0.51 auc 0.56 recall 0.85 precision 0.04\n",
      "Confusion matrix(TRAIN):\n",
      "[[1458672 3944695]\n",
      " [  26464  239532]]\n",
      "Confusion matrix(VAL):\n",
      "[[ 298433 1063087]\n",
      " [   8137   45854]]\n",
      "Start of epoch 6\n"
     ]
    },
    {
     "name": "stderr",
     "output_type": "stream",
     "text": [
      "100% (163921 of 163921) |################| Elapsed Time: 0:07:35 Time:  0:07:35\n",
      "  0% (83 of 163921) |                    | Elapsed Time: 0:00:00 ETA:   0:03:19"
     ]
    },
    {
     "name": "stdout",
     "output_type": "stream",
     "text": [
      "Epoch 6:\n",
      "\tTRAIN loss 0.54, auc 0.63, recall 0.90, precision 0.06\n",
      "\tVAL loss 0.51 auc 0.57 recall 0.84 precision 0.04\n",
      "Confusion matrix(TRAIN):\n",
      "[[1462588 3940779]\n",
      " [  26111  239885]]\n",
      "Confusion matrix(VAL):\n",
      "[[ 304848 1056672]\n",
      " [   8456   45535]]\n",
      "Start of epoch 7\n"
     ]
    },
    {
     "name": "stderr",
     "output_type": "stream",
     "text": [
      "100% (163921 of 163921) |################| Elapsed Time: 0:07:40 Time:  0:07:40\n",
      "  0% (91 of 163921) |                    | Elapsed Time: 0:00:00 ETA:   0:03:00"
     ]
    },
    {
     "name": "stdout",
     "output_type": "stream",
     "text": [
      "Epoch 7:\n",
      "\tTRAIN loss 0.54, auc 0.63, recall 0.90, precision 0.06\n",
      "\tVAL loss 0.51 auc 0.58 recall 0.85 precision 0.04\n",
      "Confusion matrix(TRAIN):\n",
      "[[1482961 3920406]\n",
      " [  26888  239108]]\n",
      "Confusion matrix(VAL):\n",
      "[[ 306263 1055257]\n",
      " [   8304   45687]]\n",
      "Start of epoch 8\n"
     ]
    },
    {
     "name": "stderr",
     "output_type": "stream",
     "text": [
      "100% (163921 of 163921) |################| Elapsed Time: 0:07:40 Time:  0:07:40\n",
      "  0% (93 of 163921) |                    | Elapsed Time: 0:00:00 ETA:   0:02:57"
     ]
    },
    {
     "name": "stdout",
     "output_type": "stream",
     "text": [
      "Epoch 8:\n",
      "\tTRAIN loss 0.54, auc 0.64, recall 0.90, precision 0.06\n",
      "\tVAL loss 0.51 auc 0.58 recall 0.83 precision 0.04\n",
      "Confusion matrix(TRAIN):\n",
      "[[1493998 3909369]\n",
      " [  26894  239102]]\n",
      "Confusion matrix(VAL):\n",
      "[[ 319917 1041603]\n",
      " [   8955   45036]]\n",
      "Start of epoch 9\n"
     ]
    },
    {
     "name": "stderr",
     "output_type": "stream",
     "text": [
      "100% (163921 of 163921) |################| Elapsed Time: 0:07:39 Time:  0:07:39\n",
      "  0% (81 of 163921) |                    | Elapsed Time: 0:00:00 ETA:   0:03:22"
     ]
    },
    {
     "name": "stdout",
     "output_type": "stream",
     "text": [
      "Epoch 9:\n",
      "\tTRAIN loss 0.54, auc 0.64, recall 0.89, precision 0.06\n",
      "\tVAL loss 0.51 auc 0.58 recall 0.84 precision 0.04\n",
      "Confusion matrix(TRAIN):\n",
      "[[1527326 3876041]\n",
      " [  28222  237774]]\n",
      "Confusion matrix(VAL):\n",
      "[[ 322343 1039177]\n",
      " [   8568   45423]]\n",
      "Start of epoch 10\n"
     ]
    },
    {
     "name": "stderr",
     "output_type": "stream",
     "text": [
      "100% (163921 of 163921) |################| Elapsed Time: 0:07:38 Time:  0:07:38\n",
      "  0% (83 of 163921) |                    | Elapsed Time: 0:00:00 ETA:   0:03:18"
     ]
    },
    {
     "name": "stdout",
     "output_type": "stream",
     "text": [
      "Epoch 10:\n",
      "\tTRAIN loss 0.54, auc 0.64, recall 0.89, precision 0.06\n",
      "\tVAL loss 0.51 auc 0.60 recall 0.82 precision 0.04\n",
      "Confusion matrix(TRAIN):\n",
      "[[1541171 3862196]\n",
      " [  28377  237619]]\n",
      "Confusion matrix(VAL):\n",
      "[[ 361421 1000099]\n",
      " [   9554   44437]]\n",
      "Start of epoch 11\n"
     ]
    },
    {
     "name": "stderr",
     "output_type": "stream",
     "text": [
      "100% (163921 of 163921) |################| Elapsed Time: 0:07:37 Time:  0:07:37\n",
      "  0% (88 of 163921) |                    | Elapsed Time: 0:00:00 ETA:   0:03:07"
     ]
    },
    {
     "name": "stdout",
     "output_type": "stream",
     "text": [
      "Epoch 11:\n",
      "\tTRAIN loss 0.54, auc 0.65, recall 0.88, precision 0.06\n",
      "\tVAL loss 0.51 auc 0.60 recall 0.83 precision 0.04\n",
      "Confusion matrix(TRAIN):\n",
      "[[1621613 3781754]\n",
      " [  31072  234924]]\n",
      "Confusion matrix(VAL):\n",
      "[[384711 976809]\n",
      " [  9218  44773]]\n",
      "Start of epoch 12\n"
     ]
    },
    {
     "name": "stderr",
     "output_type": "stream",
     "text": [
      "100% (163921 of 163921) |################| Elapsed Time: 0:07:39 Time:  0:07:39\n",
      "  0% (91 of 163921) |                    | Elapsed Time: 0:00:00 ETA:   0:03:00"
     ]
    },
    {
     "name": "stdout",
     "output_type": "stream",
     "text": [
      "Epoch 12:\n",
      "\tTRAIN loss 0.54, auc 0.65, recall 0.88, precision 0.06\n",
      "\tVAL loss 0.51 auc 0.60 recall 0.83 precision 0.04\n",
      "Confusion matrix(TRAIN):\n",
      "[[1642584 3760783]\n",
      " [  32486  233510]]\n",
      "Confusion matrix(VAL):\n",
      "[[365794 995726]\n",
      " [  9177  44814]]\n",
      "Start of epoch 13\n"
     ]
    },
    {
     "name": "stderr",
     "output_type": "stream",
     "text": [
      "100% (163921 of 163921) |################| Elapsed Time: 0:07:36 Time:  0:07:36\n",
      "  0% (88 of 163921) |                    | Elapsed Time: 0:00:00 ETA:   0:03:07"
     ]
    },
    {
     "name": "stdout",
     "output_type": "stream",
     "text": [
      "Epoch 13:\n",
      "\tTRAIN loss 0.53, auc 0.65, recall 0.88, precision 0.06\n",
      "\tVAL loss 0.50 auc 0.61 recall 0.82 precision 0.04\n",
      "Confusion matrix(TRAIN):\n",
      "[[1675128 3728239]\n",
      " [  32475  233521]]\n",
      "Confusion matrix(VAL):\n",
      "[[404916 956604]\n",
      " [  9793  44198]]\n",
      "Start of epoch 14\n"
     ]
    },
    {
     "name": "stderr",
     "output_type": "stream",
     "text": [
      "100% (163921 of 163921) |################| Elapsed Time: 0:07:37 Time:  0:07:37\n",
      "  0% (93 of 163921) |                    | Elapsed Time: 0:00:00 ETA:   0:02:57"
     ]
    },
    {
     "name": "stdout",
     "output_type": "stream",
     "text": [
      "Epoch 14:\n",
      "\tTRAIN loss 0.53, auc 0.65, recall 0.87, precision 0.06\n",
      "\tVAL loss 0.51 auc 0.61 recall 0.81 precision 0.04\n",
      "Confusion matrix(TRAIN):\n",
      "[[1735812 3667555]\n",
      " [  35080  230916]]\n",
      "Confusion matrix(VAL):\n",
      "[[404704 956816]\n",
      " [ 10078  43913]]\n",
      "Start of epoch 15\n"
     ]
    },
    {
     "name": "stderr",
     "output_type": "stream",
     "text": [
      "100% (163921 of 163921) |################| Elapsed Time: 0:07:40 Time:  0:07:40\n",
      "  0% (90 of 163921) |                    | Elapsed Time: 0:00:00 ETA:   0:03:03"
     ]
    },
    {
     "name": "stdout",
     "output_type": "stream",
     "text": [
      "Epoch 15:\n",
      "\tTRAIN loss 0.53, auc 0.66, recall 0.87, precision 0.06\n",
      "\tVAL loss 0.50 auc 0.62 recall 0.81 precision 0.04\n",
      "Confusion matrix(TRAIN):\n",
      "[[1775190 3628177]\n",
      " [  35582  230414]]\n",
      "Confusion matrix(VAL):\n",
      "[[433665 927855]\n",
      " [ 10329  43662]]\n",
      "Start of epoch 16\n"
     ]
    },
    {
     "name": "stderr",
     "output_type": "stream",
     "text": [
      "100% (163921 of 163921) |################| Elapsed Time: 0:07:37 Time:  0:07:37\n",
      "  0% (86 of 163921) |                    | Elapsed Time: 0:00:00 ETA:   0:03:12"
     ]
    },
    {
     "name": "stdout",
     "output_type": "stream",
     "text": [
      "Epoch 16:\n",
      "\tTRAIN loss 0.53, auc 0.66, recall 0.86, precision 0.06\n",
      "\tVAL loss 0.51 auc 0.61 recall 0.81 precision 0.04\n",
      "Confusion matrix(TRAIN):\n",
      "[[1840753 3562614]\n",
      " [  38430  227566]]\n",
      "Confusion matrix(VAL):\n",
      "[[426619 934901]\n",
      " [ 10473  43518]]\n",
      "Start of epoch 17\n"
     ]
    },
    {
     "name": "stderr",
     "output_type": "stream",
     "text": [
      "100% (163921 of 163921) |################| Elapsed Time: 0:07:38 Time:  0:07:38\n",
      "  0% (90 of 163921) |                    | Elapsed Time: 0:00:00 ETA:   0:03:02"
     ]
    },
    {
     "name": "stdout",
     "output_type": "stream",
     "text": [
      "Epoch 17:\n",
      "\tTRAIN loss 0.53, auc 0.66, recall 0.86, precision 0.06\n",
      "\tVAL loss 0.50 auc 0.62 recall 0.79 precision 0.05\n",
      "Confusion matrix(TRAIN):\n",
      "[[1869455 3533912]\n",
      " [  38209  227787]]\n",
      "Confusion matrix(VAL):\n",
      "[[479346 882174]\n",
      " [ 11525  42466]]\n",
      "Start of epoch 18\n"
     ]
    },
    {
     "name": "stderr",
     "output_type": "stream",
     "text": [
      "100% (163921 of 163921) |################| Elapsed Time: 0:07:41 Time:  0:07:41\n",
      "  0% (93 of 163921) |                    | Elapsed Time: 0:00:00 ETA:   0:02:57"
     ]
    },
    {
     "name": "stdout",
     "output_type": "stream",
     "text": [
      "Epoch 18:\n",
      "\tTRAIN loss 0.53, auc 0.66, recall 0.85, precision 0.06\n",
      "\tVAL loss 0.51 auc 0.61 recall 0.80 precision 0.04\n",
      "Confusion matrix(TRAIN):\n",
      "[[1926478 3476889]\n",
      " [  40646  225350]]\n",
      "Confusion matrix(VAL):\n",
      "[[440535 920985]\n",
      " [ 10616  43375]]\n",
      "Start of epoch 19\n"
     ]
    },
    {
     "name": "stderr",
     "output_type": "stream",
     "text": [
      "100% (163921 of 163921) |################| Elapsed Time: 0:07:34 Time:  0:07:34\n",
      "  0% (93 of 163921) |                    | Elapsed Time: 0:00:00 ETA:   0:02:56"
     ]
    },
    {
     "name": "stdout",
     "output_type": "stream",
     "text": [
      "Epoch 19:\n",
      "\tTRAIN loss 0.53, auc 0.67, recall 0.85, precision 0.06\n",
      "\tVAL loss 0.50 auc 0.63 recall 0.79 precision 0.05\n",
      "Confusion matrix(TRAIN):\n",
      "[[1927791 3475576]\n",
      " [  39135  226861]]\n",
      "Confusion matrix(VAL):\n",
      "[[488348 873172]\n",
      " [ 11254  42737]]\n",
      "Start of epoch 20\n"
     ]
    },
    {
     "name": "stderr",
     "output_type": "stream",
     "text": [
      "100% (163921 of 163921) |################| Elapsed Time: 0:07:39 Time:  0:07:39\n",
      "  0% (90 of 163921) |                    | Elapsed Time: 0:00:00 ETA:   0:03:02"
     ]
    },
    {
     "name": "stdout",
     "output_type": "stream",
     "text": [
      "Epoch 20:\n",
      "\tTRAIN loss 0.53, auc 0.67, recall 0.84, precision 0.06\n",
      "\tVAL loss 0.50 auc 0.63 recall 0.79 precision 0.05\n",
      "Confusion matrix(TRAIN):\n",
      "[[1985021 3418346]\n",
      " [  41912  224084]]\n",
      "Confusion matrix(VAL):\n",
      "[[480599 880921]\n",
      " [ 11161  42830]]\n",
      "Start of epoch 21\n"
     ]
    },
    {
     "name": "stderr",
     "output_type": "stream",
     "text": [
      "100% (163921 of 163921) |################| Elapsed Time: 0:07:36 Time:  0:07:36\n",
      "  0% (77 of 163921) |                    | Elapsed Time: 0:00:00 ETA:   0:03:34"
     ]
    },
    {
     "name": "stdout",
     "output_type": "stream",
     "text": [
      "Epoch 21:\n",
      "\tTRAIN loss 0.53, auc 0.67, recall 0.83, precision 0.06\n",
      "\tVAL loss 0.50 auc 0.62 recall 0.78 precision 0.05\n",
      "Confusion matrix(TRAIN):\n",
      "[[2063403 3339964]\n",
      " [  44042  221954]]\n",
      "Confusion matrix(VAL):\n",
      "[[502509 859011]\n",
      " [ 12094  41897]]\n",
      "Start of epoch 22\n"
     ]
    },
    {
     "name": "stderr",
     "output_type": "stream",
     "text": [
      "100% (163921 of 163921) |################| Elapsed Time: 0:07:39 Time:  0:07:39\n",
      "  0% (92 of 163921) |                    | Elapsed Time: 0:00:00 ETA:   0:02:58"
     ]
    },
    {
     "name": "stdout",
     "output_type": "stream",
     "text": [
      "Epoch 22:\n",
      "\tTRAIN loss 0.53, auc 0.67, recall 0.83, precision 0.06\n",
      "\tVAL loss 0.50 auc 0.63 recall 0.78 precision 0.05\n",
      "Confusion matrix(TRAIN):\n",
      "[[2091456 3311911]\n",
      " [  44779  221217]]\n",
      "Confusion matrix(VAL):\n",
      "[[497784 863736]\n",
      " [ 11700  42291]]\n",
      "Start of epoch 23\n"
     ]
    },
    {
     "name": "stderr",
     "output_type": "stream",
     "text": [
      "100% (163921 of 163921) |################| Elapsed Time: 0:07:39 Time:  0:07:39\n",
      "  0% (83 of 163921) |                    | Elapsed Time: 0:00:00 ETA:   0:03:18"
     ]
    },
    {
     "name": "stdout",
     "output_type": "stream",
     "text": [
      "Epoch 23:\n",
      "\tTRAIN loss 0.53, auc 0.67, recall 0.82, precision 0.06\n",
      "\tVAL loss 0.50 auc 0.62 recall 0.76 precision 0.05\n",
      "Confusion matrix(TRAIN):\n",
      "[[2139719 3263648]\n",
      " [  46949  219047]]\n",
      "Confusion matrix(VAL):\n",
      "[[525894 835626]\n",
      " [ 13055  40936]]\n",
      "Start of epoch 24\n"
     ]
    },
    {
     "name": "stderr",
     "output_type": "stream",
     "text": [
      "100% (163921 of 163921) |################| Elapsed Time: 0:07:38 Time:  0:07:38\n",
      "  0% (89 of 163921) |                    | Elapsed Time: 0:00:00 ETA:   0:03:05"
     ]
    },
    {
     "name": "stdout",
     "output_type": "stream",
     "text": [
      "Epoch 24:\n",
      "\tTRAIN loss 0.53, auc 0.67, recall 0.83, precision 0.06\n",
      "\tVAL loss 0.50 auc 0.63 recall 0.76 precision 0.05\n",
      "Confusion matrix(TRAIN):\n",
      "[[2149265 3254102]\n",
      " [  46400  219596]]\n",
      "Confusion matrix(VAL):\n",
      "[[532912 828608]\n",
      " [ 13112  40879]]\n",
      "Start of epoch 25\n"
     ]
    },
    {
     "name": "stderr",
     "output_type": "stream",
     "text": [
      "100% (163921 of 163921) |################| Elapsed Time: 0:07:36 Time:  0:07:36\n",
      "  0% (81 of 163921) |                    | Elapsed Time: 0:00:00 ETA:   0:03:23"
     ]
    },
    {
     "name": "stdout",
     "output_type": "stream",
     "text": [
      "Epoch 25:\n",
      "\tTRAIN loss 0.53, auc 0.67, recall 0.82, precision 0.06\n",
      "\tVAL loss 0.50 auc 0.62 recall 0.75 precision 0.05\n",
      "Confusion matrix(TRAIN):\n",
      "[[2184063 3219304]\n",
      " [  47940  218056]]\n",
      "Confusion matrix(VAL):\n",
      "[[528013 833507]\n",
      " [ 13318  40673]]\n",
      "Start of epoch 26\n"
     ]
    },
    {
     "name": "stderr",
     "output_type": "stream",
     "text": [
      "100% (163921 of 163921) |################| Elapsed Time: 0:07:36 Time:  0:07:36\n",
      "  0% (84 of 163921) |                    | Elapsed Time: 0:00:00 ETA:   0:03:15"
     ]
    },
    {
     "name": "stdout",
     "output_type": "stream",
     "text": [
      "Epoch 26:\n",
      "\tTRAIN loss 0.53, auc 0.67, recall 0.83, precision 0.06\n",
      "\tVAL loss 0.50 auc 0.63 recall 0.76 precision 0.05\n",
      "Confusion matrix(TRAIN):\n",
      "[[2140351 3263016]\n",
      " [  45074  220922]]\n",
      "Confusion matrix(VAL):\n",
      "[[528500 833020]\n",
      " [ 12703  41288]]\n",
      "Start of epoch 27\n"
     ]
    },
    {
     "name": "stderr",
     "output_type": "stream",
     "text": [
      "100% (163921 of 163921) |################| Elapsed Time: 0:07:38 Time:  0:07:38\n",
      "  0% (94 of 163921) |                    | Elapsed Time: 0:00:00 ETA:   0:02:54"
     ]
    },
    {
     "name": "stdout",
     "output_type": "stream",
     "text": [
      "Epoch 27:\n",
      "\tTRAIN loss 0.52, auc 0.67, recall 0.82, precision 0.06\n",
      "\tVAL loss 0.50 auc 0.62 recall 0.76 precision 0.05\n",
      "Confusion matrix(TRAIN):\n",
      "[[2200367 3203000]\n",
      " [  47807  218189]]\n",
      "Confusion matrix(VAL):\n",
      "[[528014 833506]\n",
      " [ 12692  41299]]\n",
      "Start of epoch 28\n"
     ]
    },
    {
     "name": "stderr",
     "output_type": "stream",
     "text": [
      "100% (163921 of 163921) |################| Elapsed Time: 0:07:35 Time:  0:07:35\n",
      "  0% (96 of 163921) |                    | Elapsed Time: 0:00:00 ETA:   0:02:51"
     ]
    },
    {
     "name": "stdout",
     "output_type": "stream",
     "text": [
      "Epoch 28:\n",
      "\tTRAIN loss 0.52, auc 0.67, recall 0.82, precision 0.06\n",
      "\tVAL loss 0.50 auc 0.63 recall 0.77 precision 0.05\n",
      "Confusion matrix(TRAIN):\n",
      "[[2180421 3222946]\n",
      " [  47564  218432]]\n",
      "Confusion matrix(VAL):\n",
      "[[529590 831930]\n",
      " [ 12674  41317]]\n",
      "Start of epoch 29\n"
     ]
    },
    {
     "name": "stderr",
     "output_type": "stream",
     "text": [
      "100% (163921 of 163921) |################| Elapsed Time: 0:07:40 Time:  0:07:40\n",
      "  0% (81 of 163921) |                    | Elapsed Time: 0:00:00 ETA:   0:03:24"
     ]
    },
    {
     "name": "stdout",
     "output_type": "stream",
     "text": [
      "Epoch 29:\n",
      "\tTRAIN loss 0.52, auc 0.67, recall 0.82, precision 0.06\n",
      "\tVAL loss 0.50 auc 0.63 recall 0.74 precision 0.05\n",
      "Confusion matrix(TRAIN):\n",
      "[[2220954 3182413]\n",
      " [  48304  217692]]\n",
      "Confusion matrix(VAL):\n",
      "[[558634 802886]\n",
      " [ 13785  40206]]\n",
      "Start of epoch 30\n"
     ]
    },
    {
     "name": "stderr",
     "output_type": "stream",
     "text": [
      "100% (163921 of 163921) |################| Elapsed Time: 0:07:39 Time:  0:07:39\n",
      "  0% (90 of 163921) |                    | Elapsed Time: 0:00:00 ETA:   0:03:02"
     ]
    },
    {
     "name": "stdout",
     "output_type": "stream",
     "text": [
      "Epoch 30:\n",
      "\tTRAIN loss 0.53, auc 0.67, recall 0.81, precision 0.06\n",
      "\tVAL loss 0.50 auc 0.62 recall 0.77 precision 0.05\n",
      "Confusion matrix(TRAIN):\n",
      "[[2224916 3178451]\n",
      " [  49308  216688]]\n",
      "Confusion matrix(VAL):\n",
      "[[517767 843753]\n",
      " [ 12555  41436]]\n",
      "Start of epoch 31\n"
     ]
    },
    {
     "name": "stderr",
     "output_type": "stream",
     "text": [
      "100% (163921 of 163921) |################| Elapsed Time: 0:07:37 Time:  0:07:37\n",
      "  0% (85 of 163921) |                    | Elapsed Time: 0:00:00 ETA:   0:03:14"
     ]
    },
    {
     "name": "stdout",
     "output_type": "stream",
     "text": [
      "Epoch 31:\n",
      "\tTRAIN loss 0.53, auc 0.67, recall 0.82, precision 0.06\n",
      "\tVAL loss 0.50 auc 0.63 recall 0.75 precision 0.05\n",
      "Confusion matrix(TRAIN):\n",
      "[[2190839 3212528]\n",
      " [  46615  219381]]\n",
      "Confusion matrix(VAL):\n",
      "[[560339 801181]\n",
      " [ 13746  40245]]\n",
      "Start of epoch 32\n"
     ]
    },
    {
     "name": "stderr",
     "output_type": "stream",
     "text": [
      "100% (163921 of 163921) |################| Elapsed Time: 0:07:39 Time:  0:07:39\n",
      "  0% (96 of 163921) |                    | Elapsed Time: 0:00:00 ETA:   0:02:52"
     ]
    },
    {
     "name": "stdout",
     "output_type": "stream",
     "text": [
      "Epoch 32:\n",
      "\tTRAIN loss 0.52, auc 0.67, recall 0.82, precision 0.06\n",
      "\tVAL loss 0.50 auc 0.62 recall 0.76 precision 0.05\n",
      "Confusion matrix(TRAIN):\n",
      "[[2235717 3167650]\n",
      " [  48848  217148]]\n",
      "Confusion matrix(VAL):\n",
      "[[534128 827392]\n",
      " [ 12942  41049]]\n",
      "Start of epoch 33\n"
     ]
    },
    {
     "name": "stderr",
     "output_type": "stream",
     "text": [
      "100% (163921 of 163921) |################| Elapsed Time: 0:07:37 Time:  0:07:37\n",
      "  0% (92 of 163921) |                    | Elapsed Time: 0:00:00 ETA:   0:02:59"
     ]
    },
    {
     "name": "stdout",
     "output_type": "stream",
     "text": [
      "Epoch 33:\n",
      "\tTRAIN loss 0.52, auc 0.67, recall 0.82, precision 0.06\n",
      "\tVAL loss 0.50 auc 0.63 recall 0.74 precision 0.05\n",
      "Confusion matrix(TRAIN):\n",
      "[[2244265 3159102]\n",
      " [  48807  217189]]\n",
      "Confusion matrix(VAL):\n",
      "[[563349 798171]\n",
      " [ 13817  40174]]\n",
      "Start of epoch 34\n"
     ]
    },
    {
     "name": "stderr",
     "output_type": "stream",
     "text": [
      "100% (163921 of 163921) |################| Elapsed Time: 0:07:36 Time:  0:07:36\n",
      "  0% (94 of 163921) |                    | Elapsed Time: 0:00:00 ETA:   0:02:55"
     ]
    },
    {
     "name": "stdout",
     "output_type": "stream",
     "text": [
      "Epoch 34:\n",
      "\tTRAIN loss 0.52, auc 0.67, recall 0.82, precision 0.06\n",
      "\tVAL loss 0.50 auc 0.62 recall 0.78 precision 0.05\n",
      "Confusion matrix(TRAIN):\n",
      "[[2226735 3176632]\n",
      " [  49125  216871]]\n",
      "Confusion matrix(VAL):\n",
      "[[508555 852965]\n",
      " [ 12067  41924]]\n",
      "Start of epoch 35\n"
     ]
    },
    {
     "name": "stderr",
     "output_type": "stream",
     "text": [
      "100% (163921 of 163921) |################| Elapsed Time: 0:07:37 Time:  0:07:37\n",
      "  0% (81 of 163921) |                    | Elapsed Time: 0:00:00 ETA:   0:03:22"
     ]
    },
    {
     "name": "stdout",
     "output_type": "stream",
     "text": [
      "Epoch 35:\n",
      "\tTRAIN loss 0.52, auc 0.68, recall 0.82, precision 0.06\n",
      "\tVAL loss 0.50 auc 0.63 recall 0.74 precision 0.05\n",
      "Confusion matrix(TRAIN):\n",
      "[[2225519 3177848]\n",
      " [  47471  218525]]\n",
      "Confusion matrix(VAL):\n",
      "[[566137 795383]\n",
      " [ 13853  40138]]\n",
      "Start of epoch 36\n"
     ]
    },
    {
     "name": "stderr",
     "output_type": "stream",
     "text": [
      "100% (163921 of 163921) |################| Elapsed Time: 0:07:39 Time:  0:07:39\n",
      "  0% (94 of 163921) |                    | Elapsed Time: 0:00:00 ETA:   0:02:56"
     ]
    },
    {
     "name": "stdout",
     "output_type": "stream",
     "text": [
      "Epoch 36:\n",
      "\tTRAIN loss 0.52, auc 0.67, recall 0.81, precision 0.06\n",
      "\tVAL loss 0.50 auc 0.63 recall 0.76 precision 0.05\n",
      "Confusion matrix(TRAIN):\n",
      "[[2258996 3144371]\n",
      " [  49252  216744]]\n",
      "Confusion matrix(VAL):\n",
      "[[546188 815332]\n",
      " [ 13144  40847]]\n",
      "Start of epoch 37\n"
     ]
    },
    {
     "name": "stderr",
     "output_type": "stream",
     "text": [
      "100% (163921 of 163921) |################| Elapsed Time: 0:07:40 Time:  0:07:40\n",
      "  0% (94 of 163921) |                    | Elapsed Time: 0:00:00 ETA:   0:02:56"
     ]
    },
    {
     "name": "stdout",
     "output_type": "stream",
     "text": [
      "Epoch 37:\n",
      "\tTRAIN loss 0.52, auc 0.67, recall 0.82, precision 0.06\n",
      "\tVAL loss 0.50 auc 0.63 recall 0.76 precision 0.05\n",
      "Confusion matrix(TRAIN):\n",
      "[[2232386 3170981]\n",
      " [  49013  216983]]\n",
      "Confusion matrix(VAL):\n",
      "[[548521 812999]\n",
      " [ 13149  40842]]\n",
      "Start of epoch 38\n"
     ]
    },
    {
     "name": "stderr",
     "output_type": "stream",
     "text": [
      "100% (163921 of 163921) |################| Elapsed Time: 0:07:38 Time:  0:07:38\n",
      "  0% (90 of 163921) |                    | Elapsed Time: 0:00:00 ETA:   0:03:03"
     ]
    },
    {
     "name": "stdout",
     "output_type": "stream",
     "text": [
      "Epoch 38:\n",
      "\tTRAIN loss 0.52, auc 0.67, recall 0.81, precision 0.06\n",
      "\tVAL loss 0.50 auc 0.63 recall 0.74 precision 0.05\n",
      "Confusion matrix(TRAIN):\n",
      "[[2269324 3134043]\n",
      " [  49338  216658]]\n",
      "Confusion matrix(VAL):\n",
      "[[568390 793130]\n",
      " [ 13979  40012]]\n",
      "Start of epoch 39\n"
     ]
    },
    {
     "name": "stderr",
     "output_type": "stream",
     "text": [
      "100% (163921 of 163921) |################| Elapsed Time: 0:07:39 Time:  0:07:39\n"
     ]
    },
    {
     "name": "stdout",
     "output_type": "stream",
     "text": [
      "Epoch 39:\n",
      "\tTRAIN loss 0.52, auc 0.67, recall 0.82, precision 0.06\n",
      "\tVAL loss 0.50 auc 0.62 recall 0.78 precision 0.05\n",
      "Confusion matrix(TRAIN):\n",
      "[[2240716 3162651]\n",
      " [  49117  216879]]\n",
      "Confusion matrix(VAL):\n",
      "[[510854 850666]\n",
      " [ 12070  41921]]\n",
      "Best score achieved, saving weights..\n",
      "Resetting weights..\n"
     ]
    },
    {
     "name": "stderr",
     "output_type": "stream",
     "text": [
      "  0% (76 of 163921) |                    | Elapsed Time: 0:00:00 ETA:   0:03:35"
     ]
    },
    {
     "name": "stdout",
     "output_type": "stream",
     "text": [
      "Start of epoch 0\n"
     ]
    },
    {
     "name": "stderr",
     "output_type": "stream",
     "text": [
      "100% (163921 of 163921) |################| Elapsed Time: 0:07:39 Time:  0:07:39\n",
      "  0% (78 of 163921) |                    | Elapsed Time: 0:00:00 ETA:   0:03:32"
     ]
    },
    {
     "name": "stdout",
     "output_type": "stream",
     "text": [
      "Epoch 0:\n",
      "\tTRAIN loss 0.57, auc 0.52, recall 0.81, precision 0.05\n",
      "\tVAL loss 0.47 auc 0.67 recall 0.73 precision 0.05\n",
      "Confusion matrix(TRAIN):\n",
      "[[1419133 3962577]\n",
      " [  50549  218440]]\n",
      "Confusion matrix(VAL):\n",
      "[[745684 637493]\n",
      " [ 13934  37064]]\n",
      "Start of epoch 1\n"
     ]
    },
    {
     "name": "stderr",
     "output_type": "stream",
     "text": [
      "100% (163921 of 163921) |################| Elapsed Time: 0:07:34 Time:  0:07:34\n",
      "  0% (94 of 163921) |                    | Elapsed Time: 0:00:00 ETA:   0:02:56"
     ]
    },
    {
     "name": "stdout",
     "output_type": "stream",
     "text": [
      "Epoch 1:\n",
      "\tTRAIN loss 0.56, auc 0.56, recall 0.89, precision 0.05\n",
      "\tVAL loss 0.46 auc 0.68 recall 0.82 precision 0.05\n",
      "Confusion matrix(TRAIN):\n",
      "[[1146599 4235111]\n",
      " [  30439  238550]]\n",
      "Confusion matrix(VAL):\n",
      "[[647625 735552]\n",
      " [  8940  42058]]\n",
      "Start of epoch 2\n"
     ]
    },
    {
     "name": "stderr",
     "output_type": "stream",
     "text": [
      "100% (163921 of 163921) |################| Elapsed Time: 0:07:35 Time:  0:07:35\n",
      "  0% (78 of 163921) |                    | Elapsed Time: 0:00:00 ETA:   0:03:31"
     ]
    },
    {
     "name": "stdout",
     "output_type": "stream",
     "text": [
      "Epoch 2:\n",
      "\tTRAIN loss 0.55, auc 0.58, recall 0.90, precision 0.05\n",
      "\tVAL loss 0.46 auc 0.68 recall 0.84 precision 0.06\n",
      "Confusion matrix(TRAIN):\n",
      "[[1083100 4298610]\n",
      " [  26323  242666]]\n",
      "Confusion matrix(VAL):\n",
      "[[652928 730249]\n",
      " [  8354  42644]]\n",
      "Start of epoch 3\n"
     ]
    },
    {
     "name": "stderr",
     "output_type": "stream",
     "text": [
      "100% (163921 of 163921) |################| Elapsed Time: 0:07:38 Time:  0:07:38\n",
      "  0% (80 of 163921) |                    | Elapsed Time: 0:00:00 ETA:   0:03:26"
     ]
    },
    {
     "name": "stdout",
     "output_type": "stream",
     "text": [
      "Epoch 3:\n",
      "\tTRAIN loss 0.55, auc 0.59, recall 0.90, precision 0.05\n",
      "\tVAL loss 0.46 auc 0.68 recall 0.84 precision 0.05\n",
      "Confusion matrix(TRAIN):\n",
      "[[1103263 4278447]\n",
      " [  25820  243169]]\n",
      "Confusion matrix(VAL):\n",
      "[[646578 736599]\n",
      " [  8157  42841]]\n",
      "Start of epoch 4\n"
     ]
    },
    {
     "name": "stderr",
     "output_type": "stream",
     "text": [
      "100% (163921 of 163921) |################| Elapsed Time: 0:07:41 Time:  0:07:41\n",
      "  0% (89 of 163921) |                    | Elapsed Time: 0:00:00 ETA:   0:03:04"
     ]
    },
    {
     "name": "stdout",
     "output_type": "stream",
     "text": [
      "Epoch 4:\n",
      "\tTRAIN loss 0.55, auc 0.59, recall 0.90, precision 0.05\n",
      "\tVAL loss 0.47 auc 0.68 recall 0.82 precision 0.05\n",
      "Confusion matrix(TRAIN):\n",
      "[[1147271 4234439]\n",
      " [  27302  241687]]\n",
      "Confusion matrix(VAL):\n",
      "[[656331 726846]\n",
      " [  9409  41589]]\n",
      "Start of epoch 5\n"
     ]
    },
    {
     "name": "stderr",
     "output_type": "stream",
     "text": [
      "100% (163921 of 163921) |################| Elapsed Time: 0:07:38 Time:  0:07:38\n",
      "  0% (81 of 163921) |                    | Elapsed Time: 0:00:00 ETA:   0:03:23"
     ]
    },
    {
     "name": "stdout",
     "output_type": "stream",
     "text": [
      "Epoch 5:\n",
      "\tTRAIN loss 0.55, auc 0.60, recall 0.90, precision 0.05\n",
      "\tVAL loss 0.47 auc 0.68 recall 0.82 precision 0.05\n",
      "Confusion matrix(TRAIN):\n",
      "[[1194546 4187164]\n",
      " [  28180  240809]]\n",
      "Confusion matrix(VAL):\n",
      "[[651019 732158]\n",
      " [  9078  41920]]\n",
      "Start of epoch 6\n"
     ]
    },
    {
     "name": "stderr",
     "output_type": "stream",
     "text": [
      "100% (163921 of 163921) |################| Elapsed Time: 0:07:39 Time:  0:07:39\n",
      "  0% (91 of 163921) |                    | Elapsed Time: 0:00:00 ETA:   0:03:00"
     ]
    },
    {
     "name": "stdout",
     "output_type": "stream",
     "text": [
      "Epoch 6:\n",
      "\tTRAIN loss 0.55, auc 0.60, recall 0.89, precision 0.05\n",
      "\tVAL loss 0.47 auc 0.69 recall 0.83 precision 0.05\n",
      "Confusion matrix(TRAIN):\n",
      "[[1198095 4183615]\n",
      " [  29104  239885]]\n",
      "Confusion matrix(VAL):\n",
      "[[646379 736798]\n",
      " [  8784  42214]]\n",
      "Start of epoch 7\n"
     ]
    },
    {
     "name": "stderr",
     "output_type": "stream",
     "text": [
      "100% (163921 of 163921) |################| Elapsed Time: 0:07:37 Time:  0:07:37\n",
      "  0% (73 of 163921) |                    | Elapsed Time: 0:00:00 ETA:   0:03:47"
     ]
    },
    {
     "name": "stdout",
     "output_type": "stream",
     "text": [
      "Epoch 7:\n",
      "\tTRAIN loss 0.55, auc 0.61, recall 0.89, precision 0.05\n",
      "\tVAL loss 0.47 auc 0.69 recall 0.82 precision 0.05\n",
      "Confusion matrix(TRAIN):\n",
      "[[1190215 4191495]\n",
      " [  29224  239765]]\n",
      "Confusion matrix(VAL):\n",
      "[[660422 722755]\n",
      " [  9103  41895]]\n",
      "Start of epoch 8\n"
     ]
    },
    {
     "name": "stderr",
     "output_type": "stream",
     "text": [
      "100% (163921 of 163921) |################| Elapsed Time: 0:07:37 Time:  0:07:37\n",
      "  0% (82 of 163921) |                    | Elapsed Time: 0:00:00 ETA:   0:03:20"
     ]
    },
    {
     "name": "stdout",
     "output_type": "stream",
     "text": [
      "Epoch 8:\n",
      "\tTRAIN loss 0.55, auc 0.61, recall 0.89, precision 0.05\n",
      "\tVAL loss 0.47 auc 0.69 recall 0.82 precision 0.06\n",
      "Confusion matrix(TRAIN):\n",
      "[[1219618 4162092]\n",
      " [  29004  239985]]\n",
      "Confusion matrix(VAL):\n",
      "[[667606 715571]\n",
      " [  9195  41803]]\n",
      "Start of epoch 9\n"
     ]
    },
    {
     "name": "stderr",
     "output_type": "stream",
     "text": [
      "100% (163921 of 163921) |################| Elapsed Time: 0:07:38 Time:  0:07:38\n",
      "  0% (91 of 163921) |                    | Elapsed Time: 0:00:00 ETA:   0:03:01"
     ]
    },
    {
     "name": "stdout",
     "output_type": "stream",
     "text": [
      "Epoch 9:\n",
      "\tTRAIN loss 0.55, auc 0.62, recall 0.89, precision 0.06\n",
      "\tVAL loss 0.47 auc 0.69 recall 0.81 precision 0.06\n",
      "Confusion matrix(TRAIN):\n",
      "[[1283764 4097946]\n",
      " [  30255  238734]]\n",
      "Confusion matrix(VAL):\n",
      "[[689785 693392]\n",
      " [  9713  41285]]\n",
      "Start of epoch 10\n"
     ]
    },
    {
     "name": "stderr",
     "output_type": "stream",
     "text": [
      "100% (163921 of 163921) |################| Elapsed Time: 0:07:40 Time:  0:07:40\n",
      "  0% (92 of 163921) |                    | Elapsed Time: 0:00:00 ETA:   0:02:58"
     ]
    },
    {
     "name": "stdout",
     "output_type": "stream",
     "text": [
      "Epoch 10:\n",
      "\tTRAIN loss 0.55, auc 0.62, recall 0.88, precision 0.06\n",
      "\tVAL loss 0.47 auc 0.70 recall 0.81 precision 0.06\n",
      "Confusion matrix(TRAIN):\n",
      "[[1353901 4027809]\n",
      " [  32057  236932]]\n",
      "Confusion matrix(VAL):\n",
      "[[694527 688650]\n",
      " [  9780  41218]]\n",
      "Start of epoch 11\n"
     ]
    },
    {
     "name": "stderr",
     "output_type": "stream",
     "text": [
      "100% (163921 of 163921) |################| Elapsed Time: 0:07:38 Time:  0:07:38\n",
      "  0% (96 of 163921) |                    | Elapsed Time: 0:00:00 ETA:   0:02:50"
     ]
    },
    {
     "name": "stdout",
     "output_type": "stream",
     "text": [
      "Epoch 11:\n",
      "\tTRAIN loss 0.55, auc 0.63, recall 0.88, precision 0.06\n",
      "\tVAL loss 0.47 auc 0.70 recall 0.80 precision 0.06\n",
      "Confusion matrix(TRAIN):\n",
      "[[1366714 4014996]\n",
      " [  32157  236832]]\n",
      "Confusion matrix(VAL):\n",
      "[[721288 661889]\n",
      " [ 10423  40575]]\n",
      "Start of epoch 12\n"
     ]
    },
    {
     "name": "stderr",
     "output_type": "stream",
     "text": [
      "100% (163921 of 163921) |################| Elapsed Time: 0:07:40 Time:  0:07:40\n",
      "  0% (84 of 163921) |                    | Elapsed Time: 0:00:00 ETA:   0:03:15"
     ]
    },
    {
     "name": "stdout",
     "output_type": "stream",
     "text": [
      "Epoch 12:\n",
      "\tTRAIN loss 0.55, auc 0.63, recall 0.88, precision 0.06\n",
      "\tVAL loss 0.47 auc 0.70 recall 0.79 precision 0.06\n",
      "Confusion matrix(TRAIN):\n",
      "[[1428671 3953039]\n",
      " [  33337  235652]]\n",
      "Confusion matrix(VAL):\n",
      "[[727874 655303]\n",
      " [ 10677  40321]]\n",
      "Start of epoch 13\n"
     ]
    },
    {
     "name": "stderr",
     "output_type": "stream",
     "text": [
      "100% (163921 of 163921) |################| Elapsed Time: 0:07:43 Time:  0:07:43\n",
      "  0% (86 of 163921) |                    | Elapsed Time: 0:00:00 ETA:   0:03:10"
     ]
    },
    {
     "name": "stdout",
     "output_type": "stream",
     "text": [
      "Epoch 13:\n",
      "\tTRAIN loss 0.55, auc 0.63, recall 0.87, precision 0.06\n",
      "\tVAL loss 0.46 auc 0.71 recall 0.80 precision 0.06\n",
      "Confusion matrix(TRAIN):\n",
      "[[1508296 3873414]\n",
      " [  35928  233061]]\n",
      "Confusion matrix(VAL):\n",
      "[[720622 662555]\n",
      " [ 10349  40649]]\n",
      "Start of epoch 14\n"
     ]
    },
    {
     "name": "stderr",
     "output_type": "stream",
     "text": [
      "100% (163921 of 163921) |################| Elapsed Time: 0:07:39 Time:  0:07:39\n",
      "  0% (93 of 163921) |                    | Elapsed Time: 0:00:00 ETA:   0:02:57"
     ]
    },
    {
     "name": "stdout",
     "output_type": "stream",
     "text": [
      "Epoch 14:\n",
      "\tTRAIN loss 0.54, auc 0.64, recall 0.86, precision 0.06\n",
      "\tVAL loss 0.47 auc 0.71 recall 0.77 precision 0.06\n",
      "Confusion matrix(TRAIN):\n",
      "[[1559261 3822449]\n",
      " [  36348  232641]]\n",
      "Confusion matrix(VAL):\n",
      "[[747903 635274]\n",
      " [ 11642  39356]]\n",
      "Start of epoch 15\n"
     ]
    },
    {
     "name": "stderr",
     "output_type": "stream",
     "text": [
      "100% (163921 of 163921) |################| Elapsed Time: 0:07:35 Time:  0:07:35\n",
      "  0% (92 of 163921) |                    | Elapsed Time: 0:00:00 ETA:   0:02:59"
     ]
    },
    {
     "name": "stdout",
     "output_type": "stream",
     "text": [
      "Epoch 15:\n",
      "\tTRAIN loss 0.54, auc 0.64, recall 0.85, precision 0.06\n",
      "\tVAL loss 0.47 auc 0.70 recall 0.74 precision 0.06\n",
      "Confusion matrix(TRAIN):\n",
      "[[1669430 3712280]\n",
      " [  39384  229605]]\n",
      "Confusion matrix(VAL):\n",
      "[[787050 596127]\n",
      " [ 13490  37508]]\n",
      "Start of epoch 16\n"
     ]
    },
    {
     "name": "stderr",
     "output_type": "stream",
     "text": [
      "100% (163921 of 163921) |################| Elapsed Time: 0:07:39 Time:  0:07:39\n",
      "  0% (79 of 163921) |                    | Elapsed Time: 0:00:00 ETA:   0:03:29"
     ]
    },
    {
     "name": "stdout",
     "output_type": "stream",
     "text": [
      "Epoch 16:\n",
      "\tTRAIN loss 0.54, auc 0.64, recall 0.84, precision 0.06\n",
      "\tVAL loss 0.47 auc 0.71 recall 0.76 precision 0.06\n",
      "Confusion matrix(TRAIN):\n",
      "[[1735270 3646440]\n",
      " [  42158  226831]]\n",
      "Confusion matrix(VAL):\n",
      "[[767072 616105]\n",
      " [ 12162  38836]]\n",
      "Start of epoch 17\n"
     ]
    },
    {
     "name": "stderr",
     "output_type": "stream",
     "text": [
      "100% (163921 of 163921) |################| Elapsed Time: 0:07:38 Time:  0:07:38\n",
      "  0% (89 of 163921) |                    | Elapsed Time: 0:00:00 ETA:   0:03:05"
     ]
    },
    {
     "name": "stdout",
     "output_type": "stream",
     "text": [
      "Epoch 17:\n",
      "\tTRAIN loss 0.54, auc 0.64, recall 0.85, precision 0.06\n",
      "\tVAL loss 0.47 auc 0.71 recall 0.74 precision 0.06\n",
      "Confusion matrix(TRAIN):\n",
      "[[1742141 3639569]\n",
      " [  40958  228031]]\n",
      "Confusion matrix(VAL):\n",
      "[[797631 585546]\n",
      " [ 13314  37684]]\n",
      "Start of epoch 18\n"
     ]
    },
    {
     "name": "stderr",
     "output_type": "stream",
     "text": [
      "100% (163921 of 163921) |################| Elapsed Time: 0:07:39 Time:  0:07:39\n",
      "  0% (83 of 163921) |                    | Elapsed Time: 0:00:00 ETA:   0:03:18"
     ]
    },
    {
     "name": "stdout",
     "output_type": "stream",
     "text": [
      "Epoch 18:\n",
      "\tTRAIN loss 0.54, auc 0.65, recall 0.84, precision 0.06\n",
      "\tVAL loss 0.48 auc 0.70 recall 0.71 precision 0.06\n",
      "Confusion matrix(TRAIN):\n",
      "[[1835580 3546130]\n",
      " [  43705  225284]]\n",
      "Confusion matrix(VAL):\n",
      "[[822356 560821]\n",
      " [ 14877  36121]]\n",
      "Start of epoch 19\n"
     ]
    },
    {
     "name": "stderr",
     "output_type": "stream",
     "text": [
      "100% (163921 of 163921) |################| Elapsed Time: 0:07:41 Time:  0:07:41\n",
      "  0% (85 of 163921) |                    | Elapsed Time: 0:00:00 ETA:   0:03:13"
     ]
    },
    {
     "name": "stdout",
     "output_type": "stream",
     "text": [
      "Epoch 19:\n",
      "\tTRAIN loss 0.54, auc 0.65, recall 0.83, precision 0.06\n",
      "\tVAL loss 0.47 auc 0.71 recall 0.72 precision 0.06\n",
      "Confusion matrix(TRAIN):\n",
      "[[1909505 3472205]\n",
      " [  46786  222203]]\n",
      "Confusion matrix(VAL):\n",
      "[[822940 560237]\n",
      " [ 14386  36612]]\n",
      "Start of epoch 20\n"
     ]
    },
    {
     "name": "stderr",
     "output_type": "stream",
     "text": [
      "100% (163921 of 163921) |################| Elapsed Time: 0:07:39 Time:  0:07:39\n",
      "  0% (90 of 163921) |                    | Elapsed Time: 0:00:00 ETA:   0:03:03"
     ]
    },
    {
     "name": "stdout",
     "output_type": "stream",
     "text": [
      "Epoch 20:\n",
      "\tTRAIN loss 0.54, auc 0.65, recall 0.83, precision 0.06\n",
      "\tVAL loss 0.47 auc 0.71 recall 0.70 precision 0.06\n",
      "Confusion matrix(TRAIN):\n",
      "[[1924872 3456838]\n",
      " [  46722  222267]]\n",
      "Confusion matrix(VAL):\n",
      "[[834027 549150]\n",
      " [ 15223  35775]]\n",
      "Start of epoch 21\n"
     ]
    },
    {
     "name": "stderr",
     "output_type": "stream",
     "text": [
      "100% (163921 of 163921) |################| Elapsed Time: 0:07:38 Time:  0:07:38\n",
      "  0% (89 of 163921) |                    | Elapsed Time: 0:00:00 ETA:   0:03:06"
     ]
    },
    {
     "name": "stdout",
     "output_type": "stream",
     "text": [
      "Epoch 21:\n",
      "\tTRAIN loss 0.54, auc 0.65, recall 0.82, precision 0.06\n",
      "\tVAL loss 0.47 auc 0.71 recall 0.72 precision 0.06\n",
      "Confusion matrix(TRAIN):\n",
      "[[1978439 3403271]\n",
      " [  49175  219814]]\n",
      "Confusion matrix(VAL):\n",
      "[[819975 563202]\n",
      " [ 14068  36930]]\n",
      "Start of epoch 22\n"
     ]
    },
    {
     "name": "stderr",
     "output_type": "stream",
     "text": [
      "100% (163921 of 163921) |################| Elapsed Time: 0:07:38 Time:  0:07:38\n",
      "  0% (87 of 163921) |                    | Elapsed Time: 0:00:00 ETA:   0:03:10"
     ]
    },
    {
     "name": "stdout",
     "output_type": "stream",
     "text": [
      "Epoch 22:\n",
      "\tTRAIN loss 0.54, auc 0.65, recall 0.82, precision 0.06\n",
      "\tVAL loss 0.49 auc 0.71 recall 0.69 precision 0.06\n",
      "Confusion matrix(TRAIN):\n",
      "[[1995438 3386272]\n",
      " [  48879  220110]]\n",
      "Confusion matrix(VAL):\n",
      "[[851755 531422]\n",
      " [ 15763  35235]]\n",
      "Start of epoch 23\n"
     ]
    },
    {
     "name": "stderr",
     "output_type": "stream",
     "text": [
      "100% (163921 of 163921) |################| Elapsed Time: 0:07:39 Time:  0:07:39\n",
      "  0% (85 of 163921) |                    | Elapsed Time: 0:00:00 ETA:   0:03:13"
     ]
    },
    {
     "name": "stdout",
     "output_type": "stream",
     "text": [
      "Epoch 23:\n",
      "\tTRAIN loss 0.54, auc 0.65, recall 0.81, precision 0.06\n",
      "\tVAL loss 0.48 auc 0.70 recall 0.67 precision 0.06\n",
      "Confusion matrix(TRAIN):\n",
      "[[2035900 3345810]\n",
      " [  50143  218846]]\n",
      "Confusion matrix(VAL):\n",
      "[[862268 520909]\n",
      " [ 16640  34358]]\n",
      "Start of epoch 24\n"
     ]
    },
    {
     "name": "stderr",
     "output_type": "stream",
     "text": [
      "100% (163921 of 163921) |################| Elapsed Time: 0:07:38 Time:  0:07:38\n",
      "  0% (89 of 163921) |                    | Elapsed Time: 0:00:00 ETA:   0:03:04"
     ]
    },
    {
     "name": "stdout",
     "output_type": "stream",
     "text": [
      "Epoch 24:\n",
      "\tTRAIN loss 0.54, auc 0.65, recall 0.81, precision 0.06\n",
      "\tVAL loss 0.48 auc 0.71 recall 0.70 precision 0.06\n",
      "Confusion matrix(TRAIN):\n",
      "[[2052089 3329621]\n",
      " [  51922  217067]]\n",
      "Confusion matrix(VAL):\n",
      "[[849952 533225]\n",
      " [ 15350  35648]]\n",
      "Start of epoch 25\n"
     ]
    },
    {
     "name": "stderr",
     "output_type": "stream",
     "text": [
      "100% (163921 of 163921) |################| Elapsed Time: 0:07:37 Time:  0:07:37\n",
      "  0% (85 of 163921) |                    | Elapsed Time: 0:00:00 ETA:   0:03:13"
     ]
    },
    {
     "name": "stdout",
     "output_type": "stream",
     "text": [
      "Epoch 25:\n",
      "\tTRAIN loss 0.54, auc 0.65, recall 0.81, precision 0.06\n",
      "\tVAL loss 0.49 auc 0.70 recall 0.68 precision 0.06\n",
      "Confusion matrix(TRAIN):\n",
      "[[2046505 3335205]\n",
      " [  50114  218875]]\n",
      "Confusion matrix(VAL):\n",
      "[[864241 518936]\n",
      " [ 16546  34452]]\n",
      "Start of epoch 26\n"
     ]
    },
    {
     "name": "stderr",
     "output_type": "stream",
     "text": [
      "100% (163921 of 163921) |################| Elapsed Time: 0:07:37 Time:  0:07:37\n",
      "  0% (95 of 163921) |                    | Elapsed Time: 0:00:00 ETA:   0:02:54"
     ]
    },
    {
     "name": "stdout",
     "output_type": "stream",
     "text": [
      "Epoch 26:\n",
      "\tTRAIN loss 0.54, auc 0.65, recall 0.81, precision 0.06\n",
      "\tVAL loss 0.48 auc 0.71 recall 0.67 precision 0.06\n",
      "Confusion matrix(TRAIN):\n",
      "[[2069345 3312365]\n",
      " [  51297  217692]]\n",
      "Confusion matrix(VAL):\n",
      "[[871223 511954]\n",
      " [ 16745  34253]]\n",
      "Start of epoch 27\n"
     ]
    },
    {
     "name": "stderr",
     "output_type": "stream",
     "text": [
      "100% (163921 of 163921) |################| Elapsed Time: 0:07:39 Time:  0:07:39\n",
      "  0% (93 of 163921) |                    | Elapsed Time: 0:00:00 ETA:   0:02:57"
     ]
    },
    {
     "name": "stdout",
     "output_type": "stream",
     "text": [
      "Epoch 27:\n",
      "\tTRAIN loss 0.54, auc 0.65, recall 0.80, precision 0.06\n",
      "\tVAL loss 0.47 auc 0.71 recall 0.71 precision 0.06\n",
      "Confusion matrix(TRAIN):\n",
      "[[2109778 3271932]\n",
      " [  53678  215311]]\n",
      "Confusion matrix(VAL):\n",
      "[[839618 543559]\n",
      " [ 14878  36120]]\n",
      "Start of epoch 28\n"
     ]
    },
    {
     "name": "stderr",
     "output_type": "stream",
     "text": [
      "100% (163921 of 163921) |################| Elapsed Time: 0:07:37 Time:  0:07:37\n",
      "  0% (82 of 163921) |                    | Elapsed Time: 0:00:00 ETA:   0:03:20"
     ]
    },
    {
     "name": "stdout",
     "output_type": "stream",
     "text": [
      "Epoch 28:\n",
      "\tTRAIN loss 0.54, auc 0.65, recall 0.81, precision 0.06\n",
      "\tVAL loss 0.52 auc 0.70 recall 0.67 precision 0.06\n",
      "Confusion matrix(TRAIN):\n",
      "[[2105160 3276550]\n",
      " [  52200  216789]]\n",
      "Confusion matrix(VAL):\n",
      "[[874876 508301]\n",
      " [ 17030  33968]]\n",
      "Start of epoch 29\n"
     ]
    },
    {
     "name": "stderr",
     "output_type": "stream",
     "text": [
      "100% (163921 of 163921) |################| Elapsed Time: 0:07:36 Time:  0:07:36\n",
      "  0% (91 of 163921) |                    | Elapsed Time: 0:00:00 ETA:   0:03:01"
     ]
    },
    {
     "name": "stdout",
     "output_type": "stream",
     "text": [
      "Epoch 29:\n",
      "\tTRAIN loss 0.54, auc 0.65, recall 0.81, precision 0.06\n",
      "\tVAL loss 0.50 auc 0.70 recall 0.65 precision 0.06\n",
      "Confusion matrix(TRAIN):\n",
      "[[2107065 3274645]\n",
      " [  52026  216963]]\n",
      "Confusion matrix(VAL):\n",
      "[[881525 501652]\n",
      " [ 17616  33382]]\n",
      "Start of epoch 30\n"
     ]
    },
    {
     "name": "stderr",
     "output_type": "stream",
     "text": [
      "100% (163921 of 163921) |################| Elapsed Time: 0:07:36 Time:  0:07:36\n",
      "  0% (85 of 163921) |                    | Elapsed Time: 0:00:00 ETA:   0:03:12"
     ]
    },
    {
     "name": "stdout",
     "output_type": "stream",
     "text": [
      "Epoch 30:\n",
      "\tTRAIN loss 0.54, auc 0.65, recall 0.80, precision 0.06\n",
      "\tVAL loss 0.47 auc 0.71 recall 0.69 precision 0.06\n",
      "Confusion matrix(TRAIN):\n",
      "[[2118478 3263232]\n",
      " [  53065  215924]]\n",
      "Confusion matrix(VAL):\n",
      "[[867489 515688]\n",
      " [ 16023  34975]]\n",
      "Start of epoch 31\n"
     ]
    },
    {
     "name": "stderr",
     "output_type": "stream",
     "text": [
      "100% (163921 of 163921) |################| Elapsed Time: 0:07:36 Time:  0:07:36\n",
      "  0% (90 of 163921) |                    | Elapsed Time: 0:00:00 ETA:   0:03:02"
     ]
    },
    {
     "name": "stdout",
     "output_type": "stream",
     "text": [
      "Epoch 31:\n",
      "\tTRAIN loss 0.53, auc 0.66, recall 0.80, precision 0.06\n",
      "\tVAL loss 0.47 auc 0.70 recall 0.66 precision 0.06\n",
      "Confusion matrix(TRAIN):\n",
      "[[2163500 3218210]\n",
      " [  53321  215668]]\n",
      "Confusion matrix(VAL):\n",
      "[[885111 498066]\n",
      " [ 17246  33752]]\n",
      "Start of epoch 32\n"
     ]
    },
    {
     "name": "stderr",
     "output_type": "stream",
     "text": [
      "100% (163921 of 163921) |################| Elapsed Time: 0:07:42 Time:  0:07:42\n",
      "  0% (89 of 163921) |                    | Elapsed Time: 0:00:00 ETA:   0:03:04"
     ]
    },
    {
     "name": "stdout",
     "output_type": "stream",
     "text": [
      "Epoch 32:\n",
      "\tTRAIN loss 0.54, auc 0.65, recall 0.80, precision 0.06\n",
      "\tVAL loss 0.48 auc 0.70 recall 0.67 precision 0.06\n",
      "Confusion matrix(TRAIN):\n",
      "[[2148717 3232993]\n",
      " [  53589  215400]]\n",
      "Confusion matrix(VAL):\n",
      "[[878342 504835]\n",
      " [ 17000  33998]]\n",
      "Start of epoch 33\n"
     ]
    },
    {
     "name": "stderr",
     "output_type": "stream",
     "text": [
      "100% (163921 of 163921) |################| Elapsed Time: 0:07:36 Time:  0:07:36\n",
      "  0% (95 of 163921) |                    | Elapsed Time: 0:00:00 ETA:   0:02:53"
     ]
    },
    {
     "name": "stdout",
     "output_type": "stream",
     "text": [
      "Epoch 33:\n",
      "\tTRAIN loss 0.54, auc 0.65, recall 0.80, precision 0.06\n",
      "\tVAL loss 0.48 auc 0.71 recall 0.68 precision 0.06\n",
      "Confusion matrix(TRAIN):\n",
      "[[2177571 3204139]\n",
      " [  54632  214357]]\n",
      "Confusion matrix(VAL):\n",
      "[[871764 511413]\n",
      " [ 16205  34793]]\n",
      "Start of epoch 34\n"
     ]
    },
    {
     "name": "stderr",
     "output_type": "stream",
     "text": [
      "100% (163921 of 163921) |################| Elapsed Time: 0:07:39 Time:  0:07:39\n",
      "  0% (94 of 163921) |                    | Elapsed Time: 0:00:00 ETA:   0:02:56"
     ]
    },
    {
     "name": "stdout",
     "output_type": "stream",
     "text": [
      "Epoch 34:\n",
      "\tTRAIN loss 0.53, auc 0.66, recall 0.80, precision 0.06\n",
      "\tVAL loss 0.47 auc 0.70 recall 0.65 precision 0.06\n",
      "Confusion matrix(TRAIN):\n",
      "[[2182977 3198733]\n",
      " [  53552  215437]]\n",
      "Confusion matrix(VAL):\n",
      "[[893604 489573]\n",
      " [ 17797  33201]]\n",
      "Start of epoch 35\n"
     ]
    },
    {
     "name": "stderr",
     "output_type": "stream",
     "text": [
      "100% (163921 of 163921) |################| Elapsed Time: 0:07:35 Time:  0:07:35\n",
      "  0% (94 of 163921) |                    | Elapsed Time: 0:00:00 ETA:   0:02:55"
     ]
    },
    {
     "name": "stdout",
     "output_type": "stream",
     "text": [
      "Epoch 35:\n",
      "\tTRAIN loss 0.54, auc 0.65, recall 0.80, precision 0.06\n",
      "\tVAL loss 0.48 auc 0.71 recall 0.67 precision 0.06\n",
      "Confusion matrix(TRAIN):\n",
      "[[2188585 3193125]\n",
      " [  54935  214054]]\n",
      "Confusion matrix(VAL):\n",
      "[[881726 501451]\n",
      " [ 16918  34080]]\n",
      "Start of epoch 36\n"
     ]
    },
    {
     "name": "stderr",
     "output_type": "stream",
     "text": [
      "100% (163921 of 163921) |################| Elapsed Time: 0:07:35 Time:  0:07:35\n",
      "  0% (95 of 163921) |                    | Elapsed Time: 0:00:00 ETA:   0:02:52"
     ]
    },
    {
     "name": "stdout",
     "output_type": "stream",
     "text": [
      "Epoch 36:\n",
      "\tTRAIN loss 0.53, auc 0.65, recall 0.80, precision 0.06\n",
      "\tVAL loss 0.48 auc 0.71 recall 0.67 precision 0.06\n",
      "Confusion matrix(TRAIN):\n",
      "[[2204289 3177421]\n",
      " [  55041  213948]]\n",
      "Confusion matrix(VAL):\n",
      "[[885917 497260]\n",
      " [ 17045  33953]]\n",
      "Start of epoch 37\n"
     ]
    },
    {
     "name": "stderr",
     "output_type": "stream",
     "text": [
      "100% (163921 of 163921) |################| Elapsed Time: 0:07:34 Time:  0:07:34\n",
      "  0% (93 of 163921) |                    | Elapsed Time: 0:00:00 ETA:   0:02:56"
     ]
    },
    {
     "name": "stdout",
     "output_type": "stream",
     "text": [
      "Epoch 37:\n",
      "\tTRAIN loss 0.53, auc 0.66, recall 0.80, precision 0.06\n",
      "\tVAL loss 0.50 auc 0.69 recall 0.62 precision 0.06\n",
      "Confusion matrix(TRAIN):\n",
      "[[2207046 3174664]\n",
      " [  54743  214246]]\n",
      "Confusion matrix(VAL):\n",
      "[[912634 470543]\n",
      " [ 19435  31563]]\n",
      "Start of epoch 38\n"
     ]
    },
    {
     "name": "stderr",
     "output_type": "stream",
     "text": [
      "100% (163921 of 163921) |################| Elapsed Time: 0:07:39 Time:  0:07:39\n",
      "  0% (83 of 163921) |                    | Elapsed Time: 0:00:00 ETA:   0:03:19"
     ]
    },
    {
     "name": "stdout",
     "output_type": "stream",
     "text": [
      "Epoch 38:\n",
      "\tTRAIN loss 0.53, auc 0.65, recall 0.79, precision 0.06\n",
      "\tVAL loss 0.48 auc 0.71 recall 0.67 precision 0.06\n",
      "Confusion matrix(TRAIN):\n",
      "[[2198782 3182928]\n",
      " [  55550  213439]]\n",
      "Confusion matrix(VAL):\n",
      "[[880768 502409]\n",
      " [ 16684  34314]]\n",
      "Start of epoch 39\n"
     ]
    },
    {
     "name": "stderr",
     "output_type": "stream",
     "text": [
      "100% (163921 of 163921) |################| Elapsed Time: 0:08:55 Time:  0:08:55\n"
     ]
    },
    {
     "name": "stdout",
     "output_type": "stream",
     "text": [
      "Epoch 39:\n",
      "\tTRAIN loss 0.53, auc 0.66, recall 0.80, precision 0.06\n",
      "\tVAL loss 0.48 auc 0.71 recall 0.67 precision 0.06\n",
      "Confusion matrix(TRAIN):\n",
      "[[2208882 3172828]\n",
      " [  55032  213957]]\n",
      "Confusion matrix(VAL):\n",
      "[[883680 499497]\n",
      " [ 16777  34221]]\n",
      "Best score achieved, saving weights..\n",
      "Resetting weights..\n"
     ]
    },
    {
     "name": "stderr",
     "output_type": "stream",
     "text": [
      "  0% (86 of 163922) |                    | Elapsed Time: 0:00:00 ETA:   0:03:11"
     ]
    },
    {
     "name": "stdout",
     "output_type": "stream",
     "text": [
      "Start of epoch 0\n"
     ]
    },
    {
     "name": "stderr",
     "output_type": "stream",
     "text": [
      "100% (163922 of 163922) |################| Elapsed Time: 0:08:54 Time:  0:08:54\n",
      "  0% (70 of 163922) |                    | Elapsed Time: 0:00:00 ETA:   0:03:57"
     ]
    },
    {
     "name": "stdout",
     "output_type": "stream",
     "text": [
      "Epoch 0:\n",
      "\tTRAIN loss 0.54, auc 0.56, recall 0.71, precision 0.05\n",
      "\tVAL loss 0.59 auc 0.53 recall 0.63 precision 0.05\n",
      "Confusion matrix(TRAIN):\n",
      "[[2169831 3243383]\n",
      " [  71594  175074]]\n",
      "Confusion matrix(VAL):\n",
      "[[554024 797649]\n",
      " [ 27455  45864]]\n",
      "Start of epoch 1\n"
     ]
    },
    {
     "name": "stderr",
     "output_type": "stream",
     "text": [
      "100% (163922 of 163922) |################| Elapsed Time: 0:08:59 Time:  0:08:59\n",
      "  0% (79 of 163922) |                    | Elapsed Time: 0:00:00 ETA:   0:03:30"
     ]
    },
    {
     "name": "stdout",
     "output_type": "stream",
     "text": [
      "Epoch 1:\n",
      "\tTRAIN loss 0.53, auc 0.58, recall 0.83, precision 0.05\n",
      "\tVAL loss 0.59 auc 0.54 recall 0.71 precision 0.06\n",
      "Confusion matrix(TRAIN):\n",
      "[[1756017 3657197]\n",
      " [  42625  204043]]\n",
      "Confusion matrix(VAL):\n",
      "[[486315 865358]\n",
      " [ 21299  52020]]\n",
      "Start of epoch 2\n"
     ]
    },
    {
     "name": "stderr",
     "output_type": "stream",
     "text": [
      "100% (163922 of 163922) |################| Elapsed Time: 0:09:20 Time:  0:09:20\n",
      "  0% (71 of 163922) |                    | Elapsed Time: 0:00:00 ETA:   0:03:52"
     ]
    },
    {
     "name": "stdout",
     "output_type": "stream",
     "text": [
      "Epoch 2:\n",
      "\tTRAIN loss 0.53, auc 0.59, recall 0.87, precision 0.05\n",
      "\tVAL loss 0.58 auc 0.55 recall 0.74 precision 0.06\n",
      "Confusion matrix(TRAIN):\n",
      "[[1547431 3865783]\n",
      " [  31400  215268]]\n",
      "Confusion matrix(VAL):\n",
      "[[456401 895272]\n",
      " [ 18724  54595]]\n",
      "Start of epoch 3\n"
     ]
    },
    {
     "name": "stderr",
     "output_type": "stream",
     "text": [
      "100% (163922 of 163922) |################| Elapsed Time: 0:08:36 Time:  0:08:36\n",
      "  0% (68 of 163922) |                    | Elapsed Time: 0:00:00 ETA:   0:04:06"
     ]
    },
    {
     "name": "stdout",
     "output_type": "stream",
     "text": [
      "Epoch 3:\n",
      "\tTRAIN loss 0.53, auc 0.60, recall 0.89, precision 0.05\n",
      "\tVAL loss 0.58 auc 0.55 recall 0.78 precision 0.06\n",
      "Confusion matrix(TRAIN):\n",
      "[[1496120 3917094]\n",
      " [  28213  218455]]\n",
      "Confusion matrix(VAL):\n",
      "[[423888 927785]\n",
      " [ 16485  56834]]\n",
      "Start of epoch 4\n"
     ]
    },
    {
     "name": "stderr",
     "output_type": "stream",
     "text": [
      "100% (163922 of 163922) |################| Elapsed Time: 0:08:20 Time:  0:08:20\n",
      "  0% (78 of 163922) |                    | Elapsed Time: 0:00:00 ETA:   0:03:31"
     ]
    },
    {
     "name": "stdout",
     "output_type": "stream",
     "text": [
      "Epoch 4:\n",
      "\tTRAIN loss 0.53, auc 0.62, recall 0.89, precision 0.05\n",
      "\tVAL loss 0.58 auc 0.56 recall 0.78 precision 0.06\n",
      "Confusion matrix(TRAIN):\n",
      "[[1486109 3927105]\n",
      " [  26512  220156]]\n",
      "Confusion matrix(VAL):\n",
      "[[421269 930404]\n",
      " [ 16164  57155]]\n",
      "Start of epoch 5\n"
     ]
    },
    {
     "name": "stderr",
     "output_type": "stream",
     "text": [
      "100% (163922 of 163922) |################| Elapsed Time: 0:07:57 Time:  0:07:57\n",
      "  0% (55 of 163922) |                    | Elapsed Time: 0:00:00 ETA:   0:04:59"
     ]
    },
    {
     "name": "stdout",
     "output_type": "stream",
     "text": [
      "Epoch 5:\n",
      "\tTRAIN loss 0.53, auc 0.62, recall 0.89, precision 0.05\n",
      "\tVAL loss 0.58 auc 0.56 recall 0.77 precision 0.06\n",
      "Confusion matrix(TRAIN):\n",
      "[[1501382 3911832]\n",
      " [  26636  220032]]\n",
      "Confusion matrix(VAL):\n",
      "[[441074 910599]\n",
      " [ 16834  56485]]\n",
      "Start of epoch 6\n"
     ]
    },
    {
     "name": "stderr",
     "output_type": "stream",
     "text": [
      "100% (163922 of 163922) |################| Elapsed Time: 0:08:54 Time:  0:08:54\n",
      "  0% (89 of 163922) |                    | Elapsed Time: 0:00:00 ETA:   0:03:05"
     ]
    },
    {
     "name": "stdout",
     "output_type": "stream",
     "text": [
      "Epoch 6:\n",
      "\tTRAIN loss 0.53, auc 0.63, recall 0.89, precision 0.05\n",
      "\tVAL loss 0.58 auc 0.57 recall 0.78 precision 0.06\n",
      "Confusion matrix(TRAIN):\n",
      "[[1506975 3906239]\n",
      " [  26228  220440]]\n",
      "Confusion matrix(VAL):\n",
      "[[426097 925576]\n",
      " [ 15784  57535]]\n",
      "Start of epoch 7\n"
     ]
    },
    {
     "name": "stderr",
     "output_type": "stream",
     "text": [
      "100% (163922 of 163922) |################| Elapsed Time: 0:08:48 Time:  0:08:48\n",
      "  0% (65 of 163922) |                    | Elapsed Time: 0:00:00 ETA:   0:04:14"
     ]
    },
    {
     "name": "stdout",
     "output_type": "stream",
     "text": [
      "Epoch 7:\n",
      "\tTRAIN loss 0.52, auc 0.63, recall 0.89, precision 0.05\n",
      "\tVAL loss 0.58 auc 0.57 recall 0.78 precision 0.06\n",
      "Confusion matrix(TRAIN):\n",
      "[[1542746 3870468]\n",
      " [  27156  219512]]\n",
      "Confusion matrix(VAL):\n",
      "[[440429 911244]\n",
      " [ 16092  57227]]\n",
      "Start of epoch 8\n"
     ]
    },
    {
     "name": "stderr",
     "output_type": "stream",
     "text": [
      "100% (163922 of 163922) |################| Elapsed Time: 0:08:53 Time:  0:08:53\n",
      "  0% (90 of 163922) |                    | Elapsed Time: 0:00:00 ETA:   0:03:03"
     ]
    },
    {
     "name": "stdout",
     "output_type": "stream",
     "text": [
      "Epoch 8:\n",
      "\tTRAIN loss 0.52, auc 0.64, recall 0.89, precision 0.05\n",
      "\tVAL loss 0.58 auc 0.58 recall 0.78 precision 0.06\n",
      "Confusion matrix(TRAIN):\n",
      "[[1581968 3831246]\n",
      " [  28171  218497]]\n",
      "Confusion matrix(VAL):\n",
      "[[428793 922880]\n",
      " [ 15934  57385]]\n",
      "Start of epoch 9\n"
     ]
    },
    {
     "name": "stderr",
     "output_type": "stream",
     "text": [
      "100% (163922 of 163922) |################| Elapsed Time: 0:07:45 Time:  0:07:45\n",
      "  0% (95 of 163922) |                    | Elapsed Time: 0:00:00 ETA:   0:02:54"
     ]
    },
    {
     "name": "stdout",
     "output_type": "stream",
     "text": [
      "Epoch 9:\n",
      "\tTRAIN loss 0.52, auc 0.64, recall 0.88, precision 0.05\n",
      "\tVAL loss 0.58 auc 0.58 recall 0.78 precision 0.06\n",
      "Confusion matrix(TRAIN):\n",
      "[[1625661 3787553]\n",
      " [  28993  217675]]\n",
      "Confusion matrix(VAL):\n",
      "[[444756 906917]\n",
      " [ 16094  57225]]\n",
      "Start of epoch 10\n"
     ]
    },
    {
     "name": "stderr",
     "output_type": "stream",
     "text": [
      "100% (163922 of 163922) |################| Elapsed Time: 0:07:53 Time:  0:07:53\n",
      "  0% (82 of 163922) |                    | Elapsed Time: 0:00:00 ETA:   0:03:20"
     ]
    },
    {
     "name": "stdout",
     "output_type": "stream",
     "text": [
      "Epoch 10:\n",
      "\tTRAIN loss 0.52, auc 0.64, recall 0.88, precision 0.05\n",
      "\tVAL loss 0.58 auc 0.59 recall 0.78 precision 0.06\n",
      "Confusion matrix(TRAIN):\n",
      "[[1642819 3770395]\n",
      " [  29509  217159]]\n",
      "Confusion matrix(VAL):\n",
      "[[446757 904916]\n",
      " [ 15890  57429]]\n",
      "Start of epoch 11\n"
     ]
    },
    {
     "name": "stderr",
     "output_type": "stream",
     "text": [
      "100% (163922 of 163922) |################| Elapsed Time: 0:07:50 Time:  0:07:50\n",
      "  0% (71 of 163922) |                    | Elapsed Time: 0:00:00 ETA:   0:03:51"
     ]
    },
    {
     "name": "stdout",
     "output_type": "stream",
     "text": [
      "Epoch 11:\n",
      "\tTRAIN loss 0.52, auc 0.65, recall 0.88, precision 0.05\n",
      "\tVAL loss 0.57 auc 0.60 recall 0.79 precision 0.06\n",
      "Confusion matrix(TRAIN):\n",
      "[[1678799 3734415]\n",
      " [  30414  216254]]\n",
      "Confusion matrix(VAL):\n",
      "[[449705 901968]\n",
      " [ 15402  57917]]\n",
      "Start of epoch 12\n"
     ]
    },
    {
     "name": "stderr",
     "output_type": "stream",
     "text": [
      "100% (163922 of 163922) |################| Elapsed Time: 0:08:00 Time:  0:08:00\n",
      "  0% (89 of 163922) |                    | Elapsed Time: 0:00:00 ETA:   0:03:05"
     ]
    },
    {
     "name": "stdout",
     "output_type": "stream",
     "text": [
      "Epoch 12:\n",
      "\tTRAIN loss 0.52, auc 0.65, recall 0.87, precision 0.05\n",
      "\tVAL loss 0.57 auc 0.60 recall 0.79 precision 0.06\n",
      "Confusion matrix(TRAIN):\n",
      "[[1706497 3706717]\n",
      " [  31108  215560]]\n",
      "Confusion matrix(VAL):\n",
      "[[452285 899388]\n",
      " [ 15434  57885]]\n",
      "Start of epoch 13\n"
     ]
    },
    {
     "name": "stderr",
     "output_type": "stream",
     "text": [
      "100% (163922 of 163922) |################| Elapsed Time: 0:07:48 Time:  0:07:48\n",
      "  0% (77 of 163922) |                    | Elapsed Time: 0:00:00 ETA:   0:03:33"
     ]
    },
    {
     "name": "stdout",
     "output_type": "stream",
     "text": [
      "Epoch 13:\n",
      "\tTRAIN loss 0.52, auc 0.65, recall 0.87, precision 0.06\n",
      "\tVAL loss 0.58 auc 0.61 recall 0.71 precision 0.06\n",
      "Confusion matrix(TRAIN):\n",
      "[[1751931 3661283]\n",
      " [  31439  215229]]\n",
      "Confusion matrix(VAL):\n",
      "[[591960 759713]\n",
      " [ 21271  52048]]\n",
      "Start of epoch 14\n"
     ]
    },
    {
     "name": "stderr",
     "output_type": "stream",
     "text": [
      "100% (163922 of 163922) |################| Elapsed Time: 0:08:58 Time:  0:08:58\n",
      "  0% (90 of 163922) |                    | Elapsed Time: 0:00:00 ETA:   0:03:02"
     ]
    },
    {
     "name": "stdout",
     "output_type": "stream",
     "text": [
      "Epoch 14:\n",
      "\tTRAIN loss 0.52, auc 0.65, recall 0.85, precision 0.06\n",
      "\tVAL loss 0.58 auc 0.60 recall 0.74 precision 0.06\n",
      "Confusion matrix(TRAIN):\n",
      "[[1822130 3591084]\n",
      " [  35898  210770]]\n",
      "Confusion matrix(VAL):\n",
      "[[535743 815930]\n",
      " [ 19212  54107]]\n",
      "Start of epoch 15\n"
     ]
    },
    {
     "name": "stderr",
     "output_type": "stream",
     "text": [
      "100% (163922 of 163922) |################| Elapsed Time: 0:07:38 Time:  0:07:38\n",
      "  0% (90 of 163922) |                    | Elapsed Time: 0:00:00 ETA:   0:03:03"
     ]
    },
    {
     "name": "stdout",
     "output_type": "stream",
     "text": [
      "Epoch 15:\n",
      "\tTRAIN loss 0.52, auc 0.65, recall 0.86, precision 0.06\n",
      "\tVAL loss 0.57 auc 0.61 recall 0.75 precision 0.06\n",
      "Confusion matrix(TRAIN):\n",
      "[[1818256 3594958]\n",
      " [  34436  212232]]\n",
      "Confusion matrix(VAL):\n",
      "[[523911 827762]\n",
      " [ 18200  55119]]\n",
      "Start of epoch 16\n"
     ]
    },
    {
     "name": "stderr",
     "output_type": "stream",
     "text": [
      "100% (163922 of 163922) |################| Elapsed Time: 0:07:38 Time:  0:07:38\n",
      "  0% (90 of 163922) |                    | Elapsed Time: 0:00:00 ETA:   0:03:03"
     ]
    },
    {
     "name": "stdout",
     "output_type": "stream",
     "text": [
      "Epoch 16:\n",
      "\tTRAIN loss 0.52, auc 0.66, recall 0.85, precision 0.06\n",
      "\tVAL loss 0.57 auc 0.61 recall 0.75 precision 0.06\n",
      "Confusion matrix(TRAIN):\n",
      "[[1906612 3506602]\n",
      " [  36675  209993]]\n",
      "Confusion matrix(VAL):\n",
      "[[536485 815188]\n",
      " [ 18547  54772]]\n",
      "Start of epoch 17\n"
     ]
    },
    {
     "name": "stderr",
     "output_type": "stream",
     "text": [
      "100% (163922 of 163922) |################| Elapsed Time: 0:07:36 Time:  0:07:36\n",
      "  0% (94 of 163922) |                    | Elapsed Time: 0:00:00 ETA:   0:02:54"
     ]
    },
    {
     "name": "stdout",
     "output_type": "stream",
     "text": [
      "Epoch 17:\n",
      "\tTRAIN loss 0.52, auc 0.66, recall 0.85, precision 0.06\n",
      "\tVAL loss 0.57 auc 0.62 recall 0.74 precision 0.06\n",
      "Confusion matrix(TRAIN):\n",
      "[[1943332 3469882]\n",
      " [  37235  209433]]\n",
      "Confusion matrix(VAL):\n",
      "[[557134 794539]\n",
      " [ 19047  54272]]\n",
      "Start of epoch 18\n"
     ]
    },
    {
     "name": "stderr",
     "output_type": "stream",
     "text": [
      "100% (163922 of 163922) |################| Elapsed Time: 0:07:39 Time:  0:07:39\n",
      "  0% (94 of 163922) |                    | Elapsed Time: 0:00:00 ETA:   0:02:54"
     ]
    },
    {
     "name": "stdout",
     "output_type": "stream",
     "text": [
      "Epoch 18:\n",
      "\tTRAIN loss 0.52, auc 0.66, recall 0.84, precision 0.06\n",
      "\tVAL loss 0.57 auc 0.61 recall 0.73 precision 0.06\n",
      "Confusion matrix(TRAIN):\n",
      "[[2033052 3380162]\n",
      " [  40582  206086]]\n",
      "Confusion matrix(VAL):\n",
      "[[572144 779529]\n",
      " [ 20024  53295]]\n",
      "Start of epoch 19\n"
     ]
    },
    {
     "name": "stderr",
     "output_type": "stream",
     "text": [
      "100% (163922 of 163922) |################| Elapsed Time: 0:07:39 Time:  0:07:39\n",
      "  0% (84 of 163922) |                    | Elapsed Time: 0:00:00 ETA:   0:03:16"
     ]
    },
    {
     "name": "stdout",
     "output_type": "stream",
     "text": [
      "Epoch 19:\n",
      "\tTRAIN loss 0.51, auc 0.67, recall 0.84, precision 0.06\n",
      "\tVAL loss 0.57 auc 0.62 recall 0.74 precision 0.06\n",
      "Confusion matrix(TRAIN):\n",
      "[[2064661 3348553]\n",
      " [  39162  207506]]\n",
      "Confusion matrix(VAL):\n",
      "[[569764 781909]\n",
      " [ 19294  54025]]\n",
      "Start of epoch 20\n"
     ]
    },
    {
     "name": "stderr",
     "output_type": "stream",
     "text": [
      "100% (163922 of 163922) |################| Elapsed Time: 0:07:35 Time:  0:07:35\n",
      "  0% (94 of 163922) |                    | Elapsed Time: 0:00:00 ETA:   0:02:55"
     ]
    },
    {
     "name": "stdout",
     "output_type": "stream",
     "text": [
      "Epoch 20:\n",
      "\tTRAIN loss 0.52, auc 0.66, recall 0.83, precision 0.06\n",
      "\tVAL loss 0.57 auc 0.61 recall 0.71 precision 0.06\n",
      "Confusion matrix(TRAIN):\n",
      "[[2118522 3294692]\n",
      " [  42634  204034]]\n",
      "Confusion matrix(VAL):\n",
      "[[601266 750407]\n",
      " [ 21447  51872]]\n",
      "Start of epoch 21\n"
     ]
    },
    {
     "name": "stderr",
     "output_type": "stream",
     "text": [
      "100% (163922 of 163922) |################| Elapsed Time: 0:07:38 Time:  0:07:38\n",
      "  0% (95 of 163922) |                    | Elapsed Time: 0:00:00 ETA:   0:02:54"
     ]
    },
    {
     "name": "stdout",
     "output_type": "stream",
     "text": [
      "Epoch 21:\n",
      "\tTRAIN loss 0.51, auc 0.67, recall 0.84, precision 0.06\n",
      "\tVAL loss 0.57 auc 0.62 recall 0.73 precision 0.07\n",
      "Confusion matrix(TRAIN):\n",
      "[[2078884 3334330]\n",
      " [  39443  207225]]\n",
      "Confusion matrix(VAL):\n",
      "[[579381 772292]\n",
      " [ 19597  53722]]\n",
      "Start of epoch 22\n"
     ]
    },
    {
     "name": "stderr",
     "output_type": "stream",
     "text": [
      "100% (163922 of 163922) |################| Elapsed Time: 0:07:35 Time:  0:07:35\n",
      "  0% (91 of 163922) |                    | Elapsed Time: 0:00:00 ETA:   0:03:00"
     ]
    },
    {
     "name": "stdout",
     "output_type": "stream",
     "text": [
      "Epoch 22:\n",
      "\tTRAIN loss 0.51, auc 0.67, recall 0.83, precision 0.06\n",
      "\tVAL loss 0.57 auc 0.62 recall 0.71 precision 0.07\n",
      "Confusion matrix(TRAIN):\n",
      "[[2162858 3250356]\n",
      " [  42735  203933]]\n",
      "Confusion matrix(VAL):\n",
      "[[611139 740534]\n",
      " [ 21460  51859]]\n",
      "Start of epoch 23\n"
     ]
    },
    {
     "name": "stderr",
     "output_type": "stream",
     "text": [
      "100% (163922 of 163922) |################| Elapsed Time: 0:07:34 Time:  0:07:34\n",
      "  0% (89 of 163922) |                    | Elapsed Time: 0:00:00 ETA:   0:03:05"
     ]
    },
    {
     "name": "stdout",
     "output_type": "stream",
     "text": [
      "Epoch 23:\n",
      "\tTRAIN loss 0.51, auc 0.67, recall 0.83, precision 0.06\n",
      "\tVAL loss 0.57 auc 0.62 recall 0.72 precision 0.07\n",
      "Confusion matrix(TRAIN):\n",
      "[[2164618 3248596]\n",
      " [  41482  205186]]\n",
      "Confusion matrix(VAL):\n",
      "[[610797 740876]\n",
      " [ 20781  52538]]\n",
      "Start of epoch 24\n"
     ]
    },
    {
     "name": "stderr",
     "output_type": "stream",
     "text": [
      "100% (163922 of 163922) |################| Elapsed Time: 0:07:36 Time:  0:07:36\n",
      "  0% (88 of 163922) |                    | Elapsed Time: 0:00:00 ETA:   0:03:08"
     ]
    },
    {
     "name": "stdout",
     "output_type": "stream",
     "text": [
      "Epoch 24:\n",
      "\tTRAIN loss 0.51, auc 0.67, recall 0.82, precision 0.06\n",
      "\tVAL loss 0.57 auc 0.62 recall 0.70 precision 0.07\n",
      "Confusion matrix(TRAIN):\n",
      "[[2228812 3184402]\n",
      " [  44895  201773]]\n",
      "Confusion matrix(VAL):\n",
      "[[622516 729157]\n",
      " [ 21878  51441]]\n",
      "Start of epoch 25\n"
     ]
    },
    {
     "name": "stderr",
     "output_type": "stream",
     "text": [
      "100% (163922 of 163922) |################| Elapsed Time: 0:07:35 Time:  0:07:35\n",
      "  0% (85 of 163922) |                    | Elapsed Time: 0:00:00 ETA:   0:03:14"
     ]
    },
    {
     "name": "stdout",
     "output_type": "stream",
     "text": [
      "Epoch 25:\n",
      "\tTRAIN loss 0.51, auc 0.67, recall 0.83, precision 0.06\n",
      "\tVAL loss 0.57 auc 0.62 recall 0.70 precision 0.07\n",
      "Confusion matrix(TRAIN):\n",
      "[[2215804 3197410]\n",
      " [  42604  204064]]\n",
      "Confusion matrix(VAL):\n",
      "[[616148 735525]\n",
      " [ 21767  51552]]\n",
      "Start of epoch 26\n"
     ]
    },
    {
     "name": "stderr",
     "output_type": "stream",
     "text": [
      "100% (163922 of 163922) |################| Elapsed Time: 0:07:39 Time:  0:07:39\n",
      "  0% (96 of 163922) |                    | Elapsed Time: 0:00:00 ETA:   0:02:51"
     ]
    },
    {
     "name": "stdout",
     "output_type": "stream",
     "text": [
      "Epoch 26:\n",
      "\tTRAIN loss 0.51, auc 0.67, recall 0.82, precision 0.06\n",
      "\tVAL loss 0.57 auc 0.62 recall 0.70 precision 0.07\n",
      "Confusion matrix(TRAIN):\n",
      "[[2245223 3167991]\n",
      " [  44866  201802]]\n",
      "Confusion matrix(VAL):\n",
      "[[622556 729117]\n",
      " [ 21939  51380]]\n",
      "Start of epoch 27\n"
     ]
    },
    {
     "name": "stderr",
     "output_type": "stream",
     "text": [
      "100% (163922 of 163922) |################| Elapsed Time: 0:07:40 Time:  0:07:40\n",
      "  0% (89 of 163922) |                    | Elapsed Time: 0:00:00 ETA:   0:03:05"
     ]
    },
    {
     "name": "stdout",
     "output_type": "stream",
     "text": [
      "Epoch 27:\n",
      "\tTRAIN loss 0.51, auc 0.68, recall 0.83, precision 0.06\n",
      "\tVAL loss 0.57 auc 0.63 recall 0.70 precision 0.07\n",
      "Confusion matrix(TRAIN):\n",
      "[[2237163 3176051]\n",
      " [  43020  203648]]\n",
      "Confusion matrix(VAL):\n",
      "[[636264 715409]\n",
      " [ 21811  51508]]\n",
      "Start of epoch 28\n"
     ]
    },
    {
     "name": "stderr",
     "output_type": "stream",
     "text": [
      "100% (163922 of 163922) |################| Elapsed Time: 0:07:38 Time:  0:07:38\n",
      "  0% (88 of 163922) |                    | Elapsed Time: 0:00:00 ETA:   0:03:06"
     ]
    },
    {
     "name": "stdout",
     "output_type": "stream",
     "text": [
      "Epoch 28:\n",
      "\tTRAIN loss 0.51, auc 0.67, recall 0.81, precision 0.06\n",
      "\tVAL loss 0.57 auc 0.62 recall 0.70 precision 0.07\n",
      "Confusion matrix(TRAIN):\n",
      "[[2280172 3133042]\n",
      " [  45674  200994]]\n",
      "Confusion matrix(VAL):\n",
      "[[626421 725252]\n",
      " [ 21946  51373]]\n",
      "Start of epoch 29\n"
     ]
    },
    {
     "name": "stderr",
     "output_type": "stream",
     "text": [
      "100% (163922 of 163922) |################| Elapsed Time: 0:07:38 Time:  0:07:38\n",
      "  0% (91 of 163922) |                    | Elapsed Time: 0:00:00 ETA:   0:03:01"
     ]
    },
    {
     "name": "stdout",
     "output_type": "stream",
     "text": [
      "Epoch 29:\n",
      "\tTRAIN loss 0.51, auc 0.68, recall 0.82, precision 0.06\n",
      "\tVAL loss 0.57 auc 0.62 recall 0.69 precision 0.07\n",
      "Confusion matrix(TRAIN):\n",
      "[[2260840 3152374]\n",
      " [  43862  202806]]\n",
      "Confusion matrix(VAL):\n",
      "[[645110 706563]\n",
      " [ 22381  50938]]\n",
      "Start of epoch 30\n"
     ]
    },
    {
     "name": "stderr",
     "output_type": "stream",
     "text": [
      "100% (163922 of 163922) |################| Elapsed Time: 0:07:34 Time:  0:07:34\n",
      "  0% (90 of 163922) |                    | Elapsed Time: 0:00:00 ETA:   0:03:03"
     ]
    },
    {
     "name": "stdout",
     "output_type": "stream",
     "text": [
      "Epoch 30:\n",
      "\tTRAIN loss 0.51, auc 0.67, recall 0.81, precision 0.06\n",
      "\tVAL loss 0.57 auc 0.62 recall 0.70 precision 0.07\n",
      "Confusion matrix(TRAIN):\n",
      "[[2312833 3100381]\n",
      " [  46571  200097]]\n",
      "Confusion matrix(VAL):\n",
      "[[626493 725180]\n",
      " [ 22041  51278]]\n",
      "Start of epoch 31\n"
     ]
    },
    {
     "name": "stderr",
     "output_type": "stream",
     "text": [
      "100% (163922 of 163922) |################| Elapsed Time: 0:07:35 Time:  0:07:35\n",
      "  0% (73 of 163922) |                    | Elapsed Time: 0:00:00 ETA:   0:03:45"
     ]
    },
    {
     "name": "stdout",
     "output_type": "stream",
     "text": [
      "Epoch 31:\n",
      "\tTRAIN loss 0.51, auc 0.68, recall 0.82, precision 0.06\n",
      "\tVAL loss 0.57 auc 0.62 recall 0.70 precision 0.07\n",
      "Confusion matrix(TRAIN):\n",
      "[[2284348 3128866]\n",
      " [  44297  202371]]\n",
      "Confusion matrix(VAL):\n",
      "[[642931 708742]\n",
      " [ 22342  50977]]\n",
      "Start of epoch 32\n"
     ]
    },
    {
     "name": "stderr",
     "output_type": "stream",
     "text": [
      "100% (163922 of 163922) |################| Elapsed Time: 0:07:35 Time:  0:07:35\n",
      "  0% (85 of 163922) |                    | Elapsed Time: 0:00:00 ETA:   0:03:14"
     ]
    },
    {
     "name": "stdout",
     "output_type": "stream",
     "text": [
      "Epoch 32:\n",
      "\tTRAIN loss 0.51, auc 0.67, recall 0.81, precision 0.06\n",
      "\tVAL loss 0.57 auc 0.62 recall 0.69 precision 0.07\n",
      "Confusion matrix(TRAIN):\n",
      "[[2332844 3080370]\n",
      " [  47136  199532]]\n",
      "Confusion matrix(VAL):\n",
      "[[634301 717372]\n",
      " [ 22429  50890]]\n",
      "Start of epoch 33\n"
     ]
    },
    {
     "name": "stderr",
     "output_type": "stream",
     "text": [
      "100% (163922 of 163922) |################| Elapsed Time: 0:07:36 Time:  0:07:36\n",
      "  0% (87 of 163922) |                    | Elapsed Time: 0:00:00 ETA:   0:03:09"
     ]
    },
    {
     "name": "stdout",
     "output_type": "stream",
     "text": [
      "Epoch 33:\n",
      "\tTRAIN loss 0.51, auc 0.68, recall 0.82, precision 0.06\n",
      "\tVAL loss 0.57 auc 0.62 recall 0.70 precision 0.07\n",
      "Confusion matrix(TRAIN):\n",
      "[[2289539 3123675]\n",
      " [  43754  202914]]\n",
      "Confusion matrix(VAL):\n",
      "[[629489 722184]\n",
      " [ 22092  51227]]\n",
      "Start of epoch 34\n"
     ]
    },
    {
     "name": "stderr",
     "output_type": "stream",
     "text": [
      "100% (163922 of 163922) |################| Elapsed Time: 0:07:37 Time:  0:07:37\n",
      "  0% (70 of 163922) |                    | Elapsed Time: 0:00:00 ETA:   0:03:58"
     ]
    },
    {
     "name": "stdout",
     "output_type": "stream",
     "text": [
      "Epoch 34:\n",
      "\tTRAIN loss 0.51, auc 0.67, recall 0.81, precision 0.06\n",
      "\tVAL loss 0.57 auc 0.62 recall 0.70 precision 0.07\n",
      "Confusion matrix(TRAIN):\n",
      "[[2338766 3074448]\n",
      " [  47071  199597]]\n",
      "Confusion matrix(VAL):\n",
      "[[622307 729366]\n",
      " [ 22021  51298]]\n",
      "Start of epoch 35\n"
     ]
    },
    {
     "name": "stderr",
     "output_type": "stream",
     "text": [
      "100% (163922 of 163922) |################| Elapsed Time: 0:07:35 Time:  0:07:35\n",
      "  0% (84 of 163922) |                    | Elapsed Time: 0:00:00 ETA:   0:03:16"
     ]
    },
    {
     "name": "stdout",
     "output_type": "stream",
     "text": [
      "Epoch 35:\n",
      "\tTRAIN loss 0.51, auc 0.68, recall 0.82, precision 0.06\n",
      "\tVAL loss 0.57 auc 0.62 recall 0.70 precision 0.07\n",
      "Confusion matrix(TRAIN):\n",
      "[[2322197 3091017]\n",
      " [  44955  201713]]\n",
      "Confusion matrix(VAL):\n",
      "[[634868 716805]\n",
      " [ 22310  51009]]\n",
      "Start of epoch 36\n"
     ]
    },
    {
     "name": "stderr",
     "output_type": "stream",
     "text": [
      "100% (163922 of 163922) |################| Elapsed Time: 0:07:32 Time:  0:07:32\n",
      "  0% (82 of 163922) |                    | Elapsed Time: 0:00:00 ETA:   0:03:20"
     ]
    },
    {
     "name": "stdout",
     "output_type": "stream",
     "text": [
      "Epoch 36:\n",
      "\tTRAIN loss 0.51, auc 0.67, recall 0.81, precision 0.06\n",
      "\tVAL loss 0.57 auc 0.62 recall 0.70 precision 0.07\n",
      "Confusion matrix(TRAIN):\n",
      "[[2364408 3048806]\n",
      " [  48024  198644]]\n",
      "Confusion matrix(VAL):\n",
      "[[623518 728155]\n",
      " [ 22265  51054]]\n",
      "Start of epoch 37\n"
     ]
    },
    {
     "name": "stderr",
     "output_type": "stream",
     "text": [
      "100% (163922 of 163922) |################| Elapsed Time: 0:07:37 Time:  0:07:37\n",
      "  0% (96 of 163922) |                    | Elapsed Time: 0:00:00 ETA:   0:02:51"
     ]
    },
    {
     "name": "stdout",
     "output_type": "stream",
     "text": [
      "Epoch 37:\n",
      "\tTRAIN loss 0.51, auc 0.68, recall 0.82, precision 0.06\n",
      "\tVAL loss 0.57 auc 0.62 recall 0.69 precision 0.07\n",
      "Confusion matrix(TRAIN):\n",
      "[[2334856 3078358]\n",
      " [  45292  201376]]\n",
      "Confusion matrix(VAL):\n",
      "[[640305 711368]\n",
      " [ 22413  50906]]\n",
      "Start of epoch 38\n"
     ]
    },
    {
     "name": "stderr",
     "output_type": "stream",
     "text": [
      "100% (163922 of 163922) |################| Elapsed Time: 0:07:37 Time:  0:07:37\n",
      "  0% (87 of 163922) |                    | Elapsed Time: 0:00:00 ETA:   0:03:10"
     ]
    },
    {
     "name": "stdout",
     "output_type": "stream",
     "text": [
      "Epoch 38:\n",
      "\tTRAIN loss 0.51, auc 0.67, recall 0.80, precision 0.06\n",
      "\tVAL loss 0.57 auc 0.62 recall 0.69 precision 0.07\n",
      "Confusion matrix(TRAIN):\n",
      "[[2386484 3026730]\n",
      " [  48696  197972]]\n",
      "Confusion matrix(VAL):\n",
      "[[634983 716690]\n",
      " [ 22769  50550]]\n",
      "Start of epoch 39\n"
     ]
    },
    {
     "name": "stderr",
     "output_type": "stream",
     "text": [
      "100% (163922 of 163922) |################| Elapsed Time: 0:07:38 Time:  0:07:38\n"
     ]
    },
    {
     "name": "stdout",
     "output_type": "stream",
     "text": [
      "Epoch 39:\n",
      "\tTRAIN loss 0.51, auc 0.68, recall 0.81, precision 0.06\n",
      "\tVAL loss 0.57 auc 0.62 recall 0.69 precision 0.07\n",
      "Confusion matrix(TRAIN):\n",
      "[[2344476 3068738]\n",
      " [  45663  201005]]\n",
      "Confusion matrix(VAL):\n",
      "[[640523 711150]\n",
      " [ 22441  50878]]\n",
      "Resetting weights..\n"
     ]
    },
    {
     "name": "stderr",
     "output_type": "stream",
     "text": [
      "  0% (89 of 163883) |                    | Elapsed Time: 0:00:00 ETA:   0:03:04"
     ]
    },
    {
     "name": "stdout",
     "output_type": "stream",
     "text": [
      "Start of epoch 0\n"
     ]
    },
    {
     "name": "stderr",
     "output_type": "stream",
     "text": [
      "100% (163883 of 163883) |################| Elapsed Time: 0:07:39 Time:  0:07:39\n",
      "  0% (84 of 163883) |                    | Elapsed Time: 0:00:00 ETA:   0:03:16"
     ]
    },
    {
     "name": "stdout",
     "output_type": "stream",
     "text": [
      "Epoch 0:\n",
      "\tTRAIN loss 0.54, auc 0.54, recall 0.69, precision 0.05\n",
      "\tVAL loss 0.59 auc 0.63 recall 0.64 precision 0.07\n",
      "Confusion matrix(TRAIN):\n",
      "[[2167900 3262156]\n",
      " [  76640  171835]]\n",
      "Confusion matrix(VAL):\n",
      "[[743512 591319]\n",
      " [ 25580  45932]]\n",
      "Start of epoch 1\n"
     ]
    },
    {
     "name": "stderr",
     "output_type": "stream",
     "text": [
      "100% (163883 of 163883) |################| Elapsed Time: 0:07:50 Time:  0:07:50\n",
      "  0% (67 of 163883) |                    | Elapsed Time: 0:00:00 ETA:   0:04:05"
     ]
    },
    {
     "name": "stdout",
     "output_type": "stream",
     "text": [
      "Epoch 1:\n",
      "\tTRAIN loss 0.53, auc 0.58, recall 0.82, precision 0.05\n",
      "\tVAL loss 0.59 auc 0.64 recall 0.75 precision 0.07\n",
      "Confusion matrix(TRAIN):\n",
      "[[1678654 3751402]\n",
      " [  44501  203974]]\n",
      "Confusion matrix(VAL):\n",
      "[[632887 701944]\n",
      " [ 17797  53715]]\n",
      "Start of epoch 2\n"
     ]
    },
    {
     "name": "stderr",
     "output_type": "stream",
     "text": [
      "100% (163883 of 163883) |################| Elapsed Time: 0:08:33 Time:  0:08:33\n",
      "  0% (80 of 163883) |                    | Elapsed Time: 0:00:00 ETA:   0:03:24"
     ]
    },
    {
     "name": "stdout",
     "output_type": "stream",
     "text": [
      "Epoch 2:\n",
      "\tTRAIN loss 0.53, auc 0.59, recall 0.85, precision 0.05\n",
      "\tVAL loss 0.58 auc 0.65 recall 0.79 precision 0.07\n",
      "Confusion matrix(TRAIN):\n",
      "[[1585243 3844813]\n",
      " [  37350  211125]]\n",
      "Confusion matrix(VAL):\n",
      "[[586632 748199]\n",
      " [ 14881  56631]]\n",
      "Start of epoch 3\n"
     ]
    },
    {
     "name": "stderr",
     "output_type": "stream",
     "text": [
      "100% (163883 of 163883) |################| Elapsed Time: 0:08:41 Time:  0:08:41\n",
      "  0% (73 of 163883) |                    | Elapsed Time: 0:00:00 ETA:   0:03:44"
     ]
    },
    {
     "name": "stdout",
     "output_type": "stream",
     "text": [
      "Epoch 3:\n",
      "\tTRAIN loss 0.53, auc 0.61, recall 0.85, precision 0.05\n",
      "\tVAL loss 0.58 auc 0.65 recall 0.80 precision 0.07\n",
      "Confusion matrix(TRAIN):\n",
      "[[1607860 3822196]\n",
      " [  36609  211866]]\n",
      "Confusion matrix(VAL):\n",
      "[[576921 757910]\n",
      " [ 14216  57296]]\n",
      "Start of epoch 4\n"
     ]
    },
    {
     "name": "stderr",
     "output_type": "stream",
     "text": [
      "100% (163883 of 163883) |################| Elapsed Time: 0:08:20 Time:  0:08:20\n",
      "  0% (79 of 163883) |                    | Elapsed Time: 0:00:00 ETA:   0:03:29"
     ]
    },
    {
     "name": "stdout",
     "output_type": "stream",
     "text": [
      "Epoch 4:\n",
      "\tTRAIN loss 0.53, auc 0.61, recall 0.85, precision 0.05\n",
      "\tVAL loss 0.58 auc 0.66 recall 0.82 precision 0.07\n",
      "Confusion matrix(TRAIN):\n",
      "[[1649134 3780922]\n",
      " [  37317  211158]]\n",
      "Confusion matrix(VAL):\n",
      "[[556221 778610]\n",
      " [ 12879  58633]]\n",
      "Start of epoch 5\n"
     ]
    },
    {
     "name": "stderr",
     "output_type": "stream",
     "text": [
      "100% (163883 of 163883) |################| Elapsed Time: 0:08:06 Time:  0:08:06\n",
      "  0% (68 of 163883) |                    | Elapsed Time: 0:00:00 ETA:   0:04:03"
     ]
    },
    {
     "name": "stdout",
     "output_type": "stream",
     "text": [
      "Epoch 5:\n",
      "\tTRAIN loss 0.52, auc 0.62, recall 0.85, precision 0.05\n",
      "\tVAL loss 0.58 auc 0.67 recall 0.81 precision 0.07\n",
      "Confusion matrix(TRAIN):\n",
      "[[1640545 3789511]\n",
      " [  36576  211899]]\n",
      "Confusion matrix(VAL):\n",
      "[[573859 760972]\n",
      " [ 13477  58035]]\n",
      "Start of epoch 6\n"
     ]
    },
    {
     "name": "stderr",
     "output_type": "stream",
     "text": [
      "100% (163883 of 163883) |################| Elapsed Time: 0:09:05 Time:  0:09:05\n",
      "  0% (77 of 163883) |                    | Elapsed Time: 0:00:00 ETA:   0:03:33"
     ]
    },
    {
     "name": "stdout",
     "output_type": "stream",
     "text": [
      "Epoch 6:\n",
      "\tTRAIN loss 0.52, auc 0.62, recall 0.85, precision 0.05\n",
      "\tVAL loss 0.58 auc 0.66 recall 0.82 precision 0.07\n",
      "Confusion matrix(TRAIN):\n",
      "[[1694250 3735806]\n",
      " [  37910  210565]]\n",
      "Confusion matrix(VAL):\n",
      "[[568741 766090]\n",
      " [ 12999  58513]]\n",
      "Start of epoch 7\n"
     ]
    },
    {
     "name": "stderr",
     "output_type": "stream",
     "text": [
      "100% (163883 of 163883) |################| Elapsed Time: 0:09:13 Time:  0:09:13\n",
      "  0% (71 of 163883) |                    | Elapsed Time: 0:00:00 ETA:   0:03:52"
     ]
    },
    {
     "name": "stdout",
     "output_type": "stream",
     "text": [
      "Epoch 7:\n",
      "\tTRAIN loss 0.52, auc 0.63, recall 0.84, precision 0.05\n",
      "\tVAL loss 0.58 auc 0.67 recall 0.80 precision 0.07\n",
      "Confusion matrix(TRAIN):\n",
      "[[1728029 3702027]\n",
      " [  38938  209537]]\n",
      "Confusion matrix(VAL):\n",
      "[[600139 734692]\n",
      " [ 14326  57186]]\n",
      "Start of epoch 8\n"
     ]
    },
    {
     "name": "stderr",
     "output_type": "stream",
     "text": [
      "100% (163883 of 163883) |################| Elapsed Time: 0:08:52 Time:  0:08:52\n",
      "  0% (81 of 163883) |                    | Elapsed Time: 0:00:00 ETA:   0:03:24"
     ]
    },
    {
     "name": "stdout",
     "output_type": "stream",
     "text": [
      "Epoch 8:\n",
      "\tTRAIN loss 0.52, auc 0.63, recall 0.84, precision 0.05\n",
      "\tVAL loss 0.58 auc 0.67 recall 0.79 precision 0.07\n",
      "Confusion matrix(TRAIN):\n",
      "[[1746910 3683146]\n",
      " [  39145  209330]]\n",
      "Confusion matrix(VAL):\n",
      "[[609154 725677]\n",
      " [ 15052  56460]]\n",
      "Start of epoch 9\n"
     ]
    },
    {
     "name": "stderr",
     "output_type": "stream",
     "text": [
      "100% (163883 of 163883) |################| Elapsed Time: 0:08:02 Time:  0:08:02\n",
      "  0% (67 of 163883) |                    | Elapsed Time: 0:00:00 ETA:   0:04:04"
     ]
    },
    {
     "name": "stdout",
     "output_type": "stream",
     "text": [
      "Epoch 9:\n",
      "\tTRAIN loss 0.52, auc 0.63, recall 0.85, precision 0.05\n",
      "\tVAL loss 0.58 auc 0.67 recall 0.79 precision 0.07\n",
      "Confusion matrix(TRAIN):\n",
      "[[1744709 3685347]\n",
      " [  38341  210134]]\n",
      "Confusion matrix(VAL):\n",
      "[[613532 721299]\n",
      " [ 14952  56560]]\n",
      "Start of epoch 10\n"
     ]
    },
    {
     "name": "stderr",
     "output_type": "stream",
     "text": [
      "100% (163883 of 163883) |################| Elapsed Time: 0:08:19 Time:  0:08:19\n",
      "  0% (92 of 163883) |                    | Elapsed Time: 0:00:00 ETA:   0:02:58"
     ]
    },
    {
     "name": "stdout",
     "output_type": "stream",
     "text": [
      "Epoch 10:\n",
      "\tTRAIN loss 0.52, auc 0.64, recall 0.84, precision 0.05\n",
      "\tVAL loss 0.58 auc 0.67 recall 0.78 precision 0.07\n",
      "Confusion matrix(TRAIN):\n",
      "[[1803698 3626358]\n",
      " [  40103  208372]]\n",
      "Confusion matrix(VAL):\n",
      "[[631019 703812]\n",
      " [ 15452  56060]]\n",
      "Start of epoch 11\n"
     ]
    },
    {
     "name": "stderr",
     "output_type": "stream",
     "text": [
      "100% (163883 of 163883) |################| Elapsed Time: 0:08:14 Time:  0:08:14\n",
      "  0% (80 of 163883) |                    | Elapsed Time: 0:00:00 ETA:   0:03:25"
     ]
    },
    {
     "name": "stdout",
     "output_type": "stream",
     "text": [
      "Epoch 11:\n",
      "\tTRAIN loss 0.52, auc 0.64, recall 0.84, precision 0.05\n",
      "\tVAL loss 0.58 auc 0.68 recall 0.79 precision 0.07\n",
      "Confusion matrix(TRAIN):\n",
      "[[1825513 3604543]\n",
      " [  40324  208151]]\n",
      "Confusion matrix(VAL):\n",
      "[[628757 706074]\n",
      " [ 15359  56153]]\n",
      "Start of epoch 12\n"
     ]
    },
    {
     "name": "stderr",
     "output_type": "stream",
     "text": [
      "100% (163883 of 163883) |################| Elapsed Time: 0:08:20 Time:  0:08:20\n",
      "  0% (83 of 163883) |                    | Elapsed Time: 0:00:00 ETA:   0:03:19"
     ]
    },
    {
     "name": "stdout",
     "output_type": "stream",
     "text": [
      "Epoch 12:\n",
      "\tTRAIN loss 0.52, auc 0.64, recall 0.83, precision 0.05\n",
      "\tVAL loss 0.59 auc 0.67 recall 0.77 precision 0.07\n",
      "Confusion matrix(TRAIN):\n",
      "[[1864288 3565768]\n",
      " [  41740  206735]]\n",
      "Confusion matrix(VAL):\n",
      "[[642285 692546]\n",
      " [ 16613  54899]]\n",
      "Start of epoch 13\n"
     ]
    },
    {
     "name": "stderr",
     "output_type": "stream",
     "text": [
      "100% (163883 of 163883) |################| Elapsed Time: 0:08:17 Time:  0:08:17\n",
      "  0% (59 of 163883) |                    | Elapsed Time: 0:00:00 ETA:   0:04:42"
     ]
    },
    {
     "name": "stdout",
     "output_type": "stream",
     "text": [
      "Epoch 13:\n",
      "\tTRAIN loss 0.52, auc 0.64, recall 0.83, precision 0.06\n",
      "\tVAL loss 0.58 auc 0.68 recall 0.79 precision 0.08\n",
      "Confusion matrix(TRAIN):\n",
      "[[1894772 3535284]\n",
      " [  41301  207174]]\n",
      "Confusion matrix(VAL):\n",
      "[[641739 693092]\n",
      " [ 15274  56238]]\n",
      "Start of epoch 14\n"
     ]
    },
    {
     "name": "stderr",
     "output_type": "stream",
     "text": [
      "100% (163883 of 163883) |################| Elapsed Time: 0:08:42 Time:  0:08:42\n",
      "  0% (77 of 163883) |                    | Elapsed Time: 0:00:00 ETA:   0:03:33"
     ]
    },
    {
     "name": "stdout",
     "output_type": "stream",
     "text": [
      "Epoch 14:\n",
      "\tTRAIN loss 0.52, auc 0.65, recall 0.83, precision 0.06\n",
      "\tVAL loss 0.58 auc 0.68 recall 0.78 precision 0.07\n",
      "Confusion matrix(TRAIN):\n",
      "[[1972687 3457369]\n",
      " [  42885  205590]]\n",
      "Confusion matrix(VAL):\n",
      "[[648702 686129]\n",
      " [ 15908  55604]]\n",
      "Start of epoch 15\n"
     ]
    },
    {
     "name": "stderr",
     "output_type": "stream",
     "text": [
      "100% (163883 of 163883) |################| Elapsed Time: 0:08:39 Time:  0:08:39\n",
      "  0% (93 of 163883) |                    | Elapsed Time: 0:00:00 ETA:   0:02:57"
     ]
    },
    {
     "name": "stdout",
     "output_type": "stream",
     "text": [
      "Epoch 15:\n",
      "\tTRAIN loss 0.52, auc 0.65, recall 0.82, precision 0.06\n",
      "\tVAL loss 0.58 auc 0.68 recall 0.78 precision 0.07\n",
      "Confusion matrix(TRAIN):\n",
      "[[2011573 3418483]\n",
      " [  44253  204222]]\n",
      "Confusion matrix(VAL):\n",
      "[[646238 688593]\n",
      " [ 15725  55787]]\n",
      "Start of epoch 16\n"
     ]
    },
    {
     "name": "stderr",
     "output_type": "stream",
     "text": [
      "100% (163883 of 163883) |################| Elapsed Time: 0:08:37 Time:  0:08:37\n",
      "  0% (94 of 163883) |                    | Elapsed Time: 0:00:00 ETA:   0:02:56"
     ]
    },
    {
     "name": "stdout",
     "output_type": "stream",
     "text": [
      "Epoch 16:\n",
      "\tTRAIN loss 0.52, auc 0.65, recall 0.82, precision 0.06\n",
      "\tVAL loss 0.58 auc 0.68 recall 0.77 precision 0.08\n",
      "Confusion matrix(TRAIN):\n",
      "[[2065165 3364891]\n",
      " [  45823  202652]]\n",
      "Confusion matrix(VAL):\n",
      "[[654432 680399]\n",
      " [ 16117  55395]]\n",
      "Start of epoch 17\n"
     ]
    },
    {
     "name": "stderr",
     "output_type": "stream",
     "text": [
      "100% (163883 of 163883) |################| Elapsed Time: 0:07:36 Time:  0:07:36\n",
      "  0% (88 of 163883) |                    | Elapsed Time: 0:00:00 ETA:   0:03:06"
     ]
    },
    {
     "name": "stdout",
     "output_type": "stream",
     "text": [
      "Epoch 17:\n",
      "\tTRAIN loss 0.51, auc 0.66, recall 0.81, precision 0.06\n",
      "\tVAL loss 0.58 auc 0.68 recall 0.76 precision 0.08\n",
      "Confusion matrix(TRAIN):\n",
      "[[2123703 3306353]\n",
      " [  46632  201843]]\n",
      "Confusion matrix(VAL):\n",
      "[[676155 658676]\n",
      " [ 17224  54288]]\n",
      "Start of epoch 18\n"
     ]
    },
    {
     "name": "stderr",
     "output_type": "stream",
     "text": [
      "100% (163883 of 163883) |################| Elapsed Time: 0:07:38 Time:  0:07:38\n",
      "  0% (95 of 163883) |                    | Elapsed Time: 0:00:00 ETA:   0:02:53"
     ]
    },
    {
     "name": "stdout",
     "output_type": "stream",
     "text": [
      "Epoch 18:\n",
      "\tTRAIN loss 0.51, auc 0.66, recall 0.81, precision 0.06\n",
      "\tVAL loss 0.58 auc 0.68 recall 0.75 precision 0.08\n",
      "Confusion matrix(TRAIN):\n",
      "[[2187584 3242472]\n",
      " [  48334  200141]]\n",
      "Confusion matrix(VAL):\n",
      "[[686652 648179]\n",
      " [ 17719  53793]]\n",
      "Start of epoch 19\n"
     ]
    },
    {
     "name": "stderr",
     "output_type": "stream",
     "text": [
      "100% (163883 of 163883) |################| Elapsed Time: 0:07:38 Time:  0:07:38\n",
      "  0% (83 of 163883) |                    | Elapsed Time: 0:00:00 ETA:   0:03:17"
     ]
    },
    {
     "name": "stdout",
     "output_type": "stream",
     "text": [
      "Epoch 19:\n",
      "\tTRAIN loss 0.51, auc 0.66, recall 0.80, precision 0.06\n",
      "\tVAL loss 0.58 auc 0.68 recall 0.75 precision 0.08\n",
      "Confusion matrix(TRAIN):\n",
      "[[2198450 3231606]\n",
      " [  48935  199540]]\n",
      "Confusion matrix(VAL):\n",
      "[[687417 647414]\n",
      " [ 17734  53778]]\n",
      "Start of epoch 20\n"
     ]
    },
    {
     "name": "stderr",
     "output_type": "stream",
     "text": [
      "100% (163883 of 163883) |################| Elapsed Time: 0:07:38 Time:  0:07:38\n",
      "  0% (77 of 163883) |                    | Elapsed Time: 0:00:00 ETA:   0:03:33"
     ]
    },
    {
     "name": "stdout",
     "output_type": "stream",
     "text": [
      "Epoch 20:\n",
      "\tTRAIN loss 0.51, auc 0.66, recall 0.80, precision 0.06\n",
      "\tVAL loss 0.58 auc 0.68 recall 0.74 precision 0.08\n",
      "Confusion matrix(TRAIN):\n",
      "[[2260080 3169976]\n",
      " [  50199  198276]]\n",
      "Confusion matrix(VAL):\n",
      "[[705877 628954]\n",
      " [ 18528  52984]]\n",
      "Start of epoch 21\n"
     ]
    },
    {
     "name": "stderr",
     "output_type": "stream",
     "text": [
      "100% (163883 of 163883) |################| Elapsed Time: 0:07:41 Time:  0:07:41\n",
      "  0% (89 of 163883) |                    | Elapsed Time: 0:00:00 ETA:   0:03:05"
     ]
    },
    {
     "name": "stdout",
     "output_type": "stream",
     "text": [
      "Epoch 21:\n",
      "\tTRAIN loss 0.51, auc 0.66, recall 0.79, precision 0.06\n",
      "\tVAL loss 0.58 auc 0.68 recall 0.74 precision 0.08\n",
      "Confusion matrix(TRAIN):\n",
      "[[2314067 3115989]\n",
      " [  52380  196095]]\n",
      "Confusion matrix(VAL):\n",
      "[[712281 622550]\n",
      " [ 18766  52746]]\n",
      "Start of epoch 22\n"
     ]
    },
    {
     "name": "stderr",
     "output_type": "stream",
     "text": [
      "100% (163883 of 163883) |################| Elapsed Time: 0:07:41 Time:  0:07:41\n",
      "  0% (85 of 163883) |                    | Elapsed Time: 0:00:00 ETA:   0:03:14"
     ]
    },
    {
     "name": "stdout",
     "output_type": "stream",
     "text": [
      "Epoch 22:\n",
      "\tTRAIN loss 0.51, auc 0.66, recall 0.79, precision 0.06\n",
      "\tVAL loss 0.59 auc 0.68 recall 0.74 precision 0.08\n",
      "Confusion matrix(TRAIN):\n",
      "[[2297667 3132389]\n",
      " [  52534  195941]]\n",
      "Confusion matrix(VAL):\n",
      "[[698112 636719]\n",
      " [ 18284  53228]]\n",
      "Start of epoch 23\n"
     ]
    },
    {
     "name": "stderr",
     "output_type": "stream",
     "text": [
      "100% (163883 of 163883) |################| Elapsed Time: 0:07:38 Time:  0:07:38\n",
      "  0% (88 of 163883) |                    | Elapsed Time: 0:00:00 ETA:   0:03:07"
     ]
    },
    {
     "name": "stdout",
     "output_type": "stream",
     "text": [
      "Epoch 23:\n",
      "\tTRAIN loss 0.51, auc 0.66, recall 0.79, precision 0.06\n",
      "\tVAL loss 0.58 auc 0.68 recall 0.73 precision 0.08\n",
      "Confusion matrix(TRAIN):\n",
      "[[2339404 3090652]\n",
      " [  52584  195891]]\n",
      "Confusion matrix(VAL):\n",
      "[[724308 610523]\n",
      " [ 19615  51897]]\n",
      "Start of epoch 24\n"
     ]
    },
    {
     "name": "stderr",
     "output_type": "stream",
     "text": [
      "100% (163883 of 163883) |################| Elapsed Time: 0:07:39 Time:  0:07:39\n",
      "  0% (89 of 163883) |                    | Elapsed Time: 0:00:00 ETA:   0:03:05"
     ]
    },
    {
     "name": "stdout",
     "output_type": "stream",
     "text": [
      "Epoch 24:\n",
      "\tTRAIN loss 0.51, auc 0.66, recall 0.79, precision 0.06\n",
      "\tVAL loss 0.58 auc 0.68 recall 0.73 precision 0.08\n",
      "Confusion matrix(TRAIN):\n",
      "[[2342011 3088045]\n",
      " [  53124  195351]]\n",
      "Confusion matrix(VAL):\n",
      "[[723741 611090]\n",
      " [ 19362  52150]]\n",
      "Start of epoch 25\n"
     ]
    },
    {
     "name": "stderr",
     "output_type": "stream",
     "text": [
      "100% (163883 of 163883) |################| Elapsed Time: 0:07:40 Time:  0:07:40\n",
      "  0% (86 of 163883) |                    | Elapsed Time: 0:00:00 ETA:   0:03:11"
     ]
    },
    {
     "name": "stdout",
     "output_type": "stream",
     "text": [
      "Epoch 25:\n",
      "\tTRAIN loss 0.51, auc 0.66, recall 0.78, precision 0.06\n",
      "\tVAL loss 0.58 auc 0.68 recall 0.73 precision 0.08\n",
      "Confusion matrix(TRAIN):\n",
      "[[2379460 3050596]\n",
      " [  54273  194202]]\n",
      "Confusion matrix(VAL):\n",
      "[[730835 603996]\n",
      " [ 19635  51877]]\n",
      "Start of epoch 26\n"
     ]
    },
    {
     "name": "stderr",
     "output_type": "stream",
     "text": [
      "100% (163883 of 163883) |################| Elapsed Time: 0:07:37 Time:  0:07:37\n",
      "  0% (88 of 163883) |                    | Elapsed Time: 0:00:00 ETA:   0:03:06"
     ]
    },
    {
     "name": "stdout",
     "output_type": "stream",
     "text": [
      "Epoch 26:\n",
      "\tTRAIN loss 0.51, auc 0.66, recall 0.78, precision 0.06\n",
      "\tVAL loss 0.58 auc 0.68 recall 0.72 precision 0.08\n",
      "Confusion matrix(TRAIN):\n",
      "[[2408360 3021696]\n",
      " [  55670  192805]]\n",
      "Confusion matrix(VAL):\n",
      "[[735082 599749]\n",
      " [ 19902  51610]]\n",
      "Start of epoch 27\n"
     ]
    },
    {
     "name": "stderr",
     "output_type": "stream",
     "text": [
      "100% (163883 of 163883) |################| Elapsed Time: 0:07:33 Time:  0:07:33\n",
      "  0% (88 of 163883) |                    | Elapsed Time: 0:00:00 ETA:   0:03:06"
     ]
    },
    {
     "name": "stdout",
     "output_type": "stream",
     "text": [
      "Epoch 27:\n",
      "\tTRAIN loss 0.51, auc 0.66, recall 0.77, precision 0.06\n",
      "\tVAL loss 0.58 auc 0.68 recall 0.72 precision 0.08\n",
      "Confusion matrix(TRAIN):\n",
      "[[2441052 2989004]\n",
      " [  56385  192090]]\n",
      "Confusion matrix(VAL):\n",
      "[[733594 601237]\n",
      " [ 20096  51416]]\n",
      "Start of epoch 28\n"
     ]
    },
    {
     "name": "stderr",
     "output_type": "stream",
     "text": [
      "100% (163883 of 163883) |################| Elapsed Time: 0:07:36 Time:  0:07:36\n",
      "  0% (88 of 163883) |                    | Elapsed Time: 0:00:00 ETA:   0:03:06"
     ]
    },
    {
     "name": "stdout",
     "output_type": "stream",
     "text": [
      "Epoch 28:\n",
      "\tTRAIN loss 0.51, auc 0.66, recall 0.77, precision 0.06\n",
      "\tVAL loss 0.58 auc 0.68 recall 0.71 precision 0.08\n",
      "Confusion matrix(TRAIN):\n",
      "[[2433073 2996983]\n",
      " [  56145  192330]]\n",
      "Confusion matrix(VAL):\n",
      "[[742749 592082]\n",
      " [ 20546  50966]]\n",
      "Start of epoch 29\n"
     ]
    },
    {
     "name": "stderr",
     "output_type": "stream",
     "text": [
      "100% (163883 of 163883) |################| Elapsed Time: 0:07:41 Time:  0:07:41\n",
      "  0% (90 of 163883) |                    | Elapsed Time: 0:00:00 ETA:   0:03:02"
     ]
    },
    {
     "name": "stdout",
     "output_type": "stream",
     "text": [
      "Epoch 29:\n",
      "\tTRAIN loss 0.51, auc 0.66, recall 0.77, precision 0.06\n",
      "\tVAL loss 0.58 auc 0.68 recall 0.72 precision 0.08\n",
      "Confusion matrix(TRAIN):\n",
      "[[2441855 2988201]\n",
      " [  56426  192049]]\n",
      "Confusion matrix(VAL):\n",
      "[[736450 598381]\n",
      " [ 20081  51431]]\n",
      "Start of epoch 30\n"
     ]
    },
    {
     "name": "stderr",
     "output_type": "stream",
     "text": [
      "100% (163883 of 163883) |################| Elapsed Time: 0:07:39 Time:  0:07:39\n",
      "  0% (83 of 163883) |                    | Elapsed Time: 0:00:00 ETA:   0:03:18"
     ]
    },
    {
     "name": "stdout",
     "output_type": "stream",
     "text": [
      "Epoch 30:\n",
      "\tTRAIN loss 0.51, auc 0.66, recall 0.77, precision 0.06\n",
      "\tVAL loss 0.59 auc 0.68 recall 0.71 precision 0.08\n",
      "Confusion matrix(TRAIN):\n",
      "[[2461915 2968141]\n",
      " [  57164  191311]]\n",
      "Confusion matrix(VAL):\n",
      "[[743445 591386]\n",
      " [ 20636  50876]]\n",
      "Start of epoch 31\n"
     ]
    },
    {
     "name": "stderr",
     "output_type": "stream",
     "text": [
      "100% (163883 of 163883) |################| Elapsed Time: 0:07:39 Time:  0:07:39\n",
      "  0% (78 of 163883) |                    | Elapsed Time: 0:00:00 ETA:   0:03:33"
     ]
    },
    {
     "name": "stdout",
     "output_type": "stream",
     "text": [
      "Epoch 31:\n",
      "\tTRAIN loss 0.51, auc 0.66, recall 0.78, precision 0.06\n",
      "\tVAL loss 0.58 auc 0.68 recall 0.71 precision 0.08\n",
      "Confusion matrix(TRAIN):\n",
      "[[2428501 3001555]\n",
      " [  55671  192804]]\n",
      "Confusion matrix(VAL):\n",
      "[[740734 594097]\n",
      " [ 20414  51098]]\n",
      "Start of epoch 32\n"
     ]
    },
    {
     "name": "stderr",
     "output_type": "stream",
     "text": [
      "100% (163883 of 163883) |################| Elapsed Time: 0:07:35 Time:  0:07:35\n",
      "  0% (96 of 163883) |                    | Elapsed Time: 0:00:00 ETA:   0:02:51"
     ]
    },
    {
     "name": "stdout",
     "output_type": "stream",
     "text": [
      "Epoch 32:\n",
      "\tTRAIN loss 0.51, auc 0.67, recall 0.77, precision 0.06\n",
      "\tVAL loss 0.58 auc 0.68 recall 0.71 precision 0.08\n",
      "Confusion matrix(TRAIN):\n",
      "[[2501586 2928470]\n",
      " [  57965  190510]]\n",
      "Confusion matrix(VAL):\n",
      "[[746411 588420]\n",
      " [ 20726  50786]]\n",
      "Start of epoch 33\n"
     ]
    },
    {
     "name": "stderr",
     "output_type": "stream",
     "text": [
      "100% (163883 of 163883) |################| Elapsed Time: 0:07:35 Time:  0:07:35\n",
      "  0% (90 of 163883) |                    | Elapsed Time: 0:00:00 ETA:   0:03:02"
     ]
    },
    {
     "name": "stdout",
     "output_type": "stream",
     "text": [
      "Epoch 33:\n",
      "\tTRAIN loss 0.51, auc 0.66, recall 0.77, precision 0.06\n",
      "\tVAL loss 0.58 auc 0.68 recall 0.70 precision 0.08\n",
      "Confusion matrix(TRAIN):\n",
      "[[2469150 2960906]\n",
      " [  57110  191365]]\n",
      "Confusion matrix(VAL):\n",
      "[[751500 583331]\n",
      " [ 21275  50237]]\n",
      "Start of epoch 34\n"
     ]
    },
    {
     "name": "stderr",
     "output_type": "stream",
     "text": [
      "100% (163883 of 163883) |################| Elapsed Time: 0:07:39 Time:  0:07:39\n",
      "  0% (86 of 163883) |                    | Elapsed Time: 0:00:00 ETA:   0:03:12"
     ]
    },
    {
     "name": "stdout",
     "output_type": "stream",
     "text": [
      "Epoch 34:\n",
      "\tTRAIN loss 0.51, auc 0.67, recall 0.77, precision 0.06\n",
      "\tVAL loss 0.58 auc 0.68 recall 0.70 precision 0.08\n",
      "Confusion matrix(TRAIN):\n",
      "[[2517565 2912491]\n",
      " [  58215  190260]]\n",
      "Confusion matrix(VAL):\n",
      "[[752353 582478]\n",
      " [ 21284  50228]]\n",
      "Start of epoch 35\n"
     ]
    },
    {
     "name": "stderr",
     "output_type": "stream",
     "text": [
      "100% (163883 of 163883) |################| Elapsed Time: 0:07:38 Time:  0:07:38\n",
      "  0% (83 of 163883) |                    | Elapsed Time: 0:00:00 ETA:   0:03:19"
     ]
    },
    {
     "name": "stdout",
     "output_type": "stream",
     "text": [
      "Epoch 35:\n",
      "\tTRAIN loss 0.51, auc 0.67, recall 0.77, precision 0.06\n",
      "\tVAL loss 0.58 auc 0.68 recall 0.71 precision 0.08\n",
      "Confusion matrix(TRAIN):\n",
      "[[2485751 2944305]\n",
      " [  57230  191245]]\n",
      "Confusion matrix(VAL):\n",
      "[[746805 588026]\n",
      " [ 20558  50954]]\n",
      "Start of epoch 36\n"
     ]
    },
    {
     "name": "stderr",
     "output_type": "stream",
     "text": [
      "100% (163883 of 163883) |################| Elapsed Time: 0:07:39 Time:  0:07:39\n",
      "  0% (84 of 163883) |                    | Elapsed Time: 0:00:00 ETA:   0:03:16"
     ]
    },
    {
     "name": "stdout",
     "output_type": "stream",
     "text": [
      "Epoch 36:\n",
      "\tTRAIN loss 0.51, auc 0.66, recall 0.77, precision 0.06\n",
      "\tVAL loss 0.58 auc 0.68 recall 0.70 precision 0.08\n",
      "Confusion matrix(TRAIN):\n",
      "[[2504161 2925895]\n",
      " [  58101  190374]]\n",
      "Confusion matrix(VAL):\n",
      "[[754047 580784]\n",
      " [ 21435  50077]]\n",
      "Start of epoch 37\n"
     ]
    },
    {
     "name": "stderr",
     "output_type": "stream",
     "text": [
      "100% (163883 of 163883) |################| Elapsed Time: 0:07:42 Time:  0:07:42\n",
      "  0% (82 of 163883) |                    | Elapsed Time: 0:00:00 ETA:   0:03:21"
     ]
    },
    {
     "name": "stdout",
     "output_type": "stream",
     "text": [
      "Epoch 37:\n",
      "\tTRAIN loss 0.51, auc 0.67, recall 0.76, precision 0.06\n",
      "\tVAL loss 0.58 auc 0.68 recall 0.70 precision 0.08\n",
      "Confusion matrix(TRAIN):\n",
      "[[2518261 2911795]\n",
      " [  58409  190066]]\n",
      "Confusion matrix(VAL):\n",
      "[[758411 576420]\n",
      " [ 21660  49852]]\n",
      "Start of epoch 38\n"
     ]
    },
    {
     "name": "stderr",
     "output_type": "stream",
     "text": [
      "100% (163883 of 163883) |################| Elapsed Time: 0:07:42 Time:  0:07:42\n",
      "  0% (91 of 163883) |                    | Elapsed Time: 0:00:00 ETA:   0:03:01"
     ]
    },
    {
     "name": "stdout",
     "output_type": "stream",
     "text": [
      "Epoch 38:\n",
      "\tTRAIN loss 0.51, auc 0.66, recall 0.77, precision 0.06\n",
      "\tVAL loss 0.58 auc 0.68 recall 0.71 precision 0.08\n",
      "Confusion matrix(TRAIN):\n",
      "[[2471156 2958900]\n",
      " [  56862  191613]]\n",
      "Confusion matrix(VAL):\n",
      "[[748554 586277]\n",
      " [ 21094  50418]]\n",
      "Start of epoch 39\n"
     ]
    },
    {
     "name": "stderr",
     "output_type": "stream",
     "text": [
      "100% (163883 of 163883) |################| Elapsed Time: 0:07:38 Time:  0:07:38\n"
     ]
    },
    {
     "name": "stdout",
     "output_type": "stream",
     "text": [
      "Epoch 39:\n",
      "\tTRAIN loss 0.51, auc 0.67, recall 0.77, precision 0.06\n",
      "\tVAL loss 0.58 auc 0.68 recall 0.70 precision 0.08\n",
      "Confusion matrix(TRAIN):\n",
      "[[2498597 2931459]\n",
      " [  57410  191065]]\n",
      "Confusion matrix(VAL):\n",
      "[[750996 583835]\n",
      " [ 21192  50320]]\n",
      "Best score is 0.7105663418769836, loading weights saved in 'best.h5\n"
     ]
    }
   ],
   "source": [
    "import tensorflow as tf\n",
    "import numpy as np\n",
    "epochs=40\n",
    "tf.data.Dataset.from_tensor_slices = lambda a: a\n",
    "feats = thesis.all_features\n",
    "supps = [tf.sparse.SparseTensor(indices, values.astype(np.float32), dense_shape)\n",
    "            for indices, values, dense_shape in thesis.all_laplacians]\n",
    "targs = thesis.all_targets\n",
    "masks = thesis.all_masks\n",
    "last_neighborhood = thesis.last_neighborhood\n",
    "model = LocalGCN(feats[0].shape, 1, thesis.all_laplacians[0][2])\n",
    "model.fit_cv_groups((feats, targs, supps, masks, last_neighborhood), thesis.protein_groups,\n",
    "           positive_weight=thesis.fair_positive_weight, epochs=epochs)"
   ]
  },
  {
   "cell_type": "code",
   "execution_count": 17,
   "metadata": {},
   "outputs": [],
   "source": [
    "def run_cv_local_gcn(self, epochs=40):\n",
    "    \"\"\"Prepare tensors and run LocalGCN with Group K-Fold CV\"\"\"\n",
    "    tf.data.Dataset.from_tensor_slices = lambda a: a\n",
    "    feats = self.all_features\n",
    "    supps = [tf.sparse.SparseTensor(indices, values.astype(np.float32), dense_shape)\n",
    "                for indices, values, dense_shape in self.all_laplacians]\n",
    "    targs = self.all_targets\n",
    "    masks = self.all_masks\n",
    "    last_neighborhood = self.last_neighborhood\n",
    "    model = LocalGCN(feats[0].shape, 1, self.all_laplacians[0][2])\n",
    "    model.fit_cv_groups((feats, targs, supps, masks, last_neighborhood), self.protein_groups,\n",
    "               positive_weight=self.fair_positive_weight, epochs=epochs)\n",
    "    return model\n",
    "import types\n",
    "\n",
    "thesis.run_cv_local_gcn = types.MethodType(ThesisPipeline.run_cv_local_gcn, thesis)"
   ]
  },
  {
   "cell_type": "code",
   "execution_count": 18,
   "metadata": {},
   "outputs": [
    {
     "ename": "TypeError",
     "evalue": "super(type, obj): obj must be an instance or subtype of type",
     "output_type": "error",
     "traceback": [
      "\u001b[0;31m---------------------------------------------------------------------------\u001b[0m",
      "\u001b[0;31mTypeError\u001b[0m                                 Traceback (most recent call last)",
      "\u001b[0;32m<ipython-input-18-39cf108df9d4>\u001b[0m in \u001b[0;36m<module>\u001b[0;34m\u001b[0m\n\u001b[0;32m----> 1\u001b[0;31m \u001b[0mthesis\u001b[0m\u001b[0;34m.\u001b[0m\u001b[0mrun_cv_local_gcn\u001b[0m\u001b[0;34m(\u001b[0m\u001b[0mepochs\u001b[0m\u001b[0;34m=\u001b[0m\u001b[0;36m2\u001b[0m\u001b[0;34m)\u001b[0m\u001b[0;34m\u001b[0m\u001b[0;34m\u001b[0m\u001b[0m\n\u001b[0m",
      "\u001b[0;32m~/research/thesis/src/thesispipeline.py\u001b[0m in \u001b[0;36mrun_cv_local_gcn\u001b[0;34m(self, epochs)\u001b[0m\n\u001b[1;32m    340\u001b[0m         \u001b[0mmasks\u001b[0m \u001b[0;34m=\u001b[0m \u001b[0mself\u001b[0m\u001b[0;34m.\u001b[0m\u001b[0mall_masks\u001b[0m\u001b[0;34m\u001b[0m\u001b[0;34m\u001b[0m\u001b[0m\n\u001b[1;32m    341\u001b[0m         \u001b[0mlast_neighborhood\u001b[0m \u001b[0;34m=\u001b[0m \u001b[0mself\u001b[0m\u001b[0;34m.\u001b[0m\u001b[0mlast_neighborhood\u001b[0m\u001b[0;34m\u001b[0m\u001b[0;34m\u001b[0m\u001b[0m\n\u001b[0;32m--> 342\u001b[0;31m         \u001b[0mmodel\u001b[0m \u001b[0;34m=\u001b[0m \u001b[0mLocalGCN\u001b[0m\u001b[0;34m(\u001b[0m\u001b[0mfeats\u001b[0m\u001b[0;34m[\u001b[0m\u001b[0;36m0\u001b[0m\u001b[0;34m]\u001b[0m\u001b[0;34m.\u001b[0m\u001b[0mshape\u001b[0m\u001b[0;34m,\u001b[0m \u001b[0;36m1\u001b[0m\u001b[0;34m,\u001b[0m \u001b[0mself\u001b[0m\u001b[0;34m.\u001b[0m\u001b[0mall_laplacians\u001b[0m\u001b[0;34m[\u001b[0m\u001b[0;36m0\u001b[0m\u001b[0;34m]\u001b[0m\u001b[0;34m[\u001b[0m\u001b[0;36m2\u001b[0m\u001b[0;34m]\u001b[0m\u001b[0;34m)\u001b[0m\u001b[0;34m\u001b[0m\u001b[0;34m\u001b[0m\u001b[0m\n\u001b[0m\u001b[1;32m    343\u001b[0m         model.fit_cv_groups((feats, targs, supps, masks, last_neighborhood), self.protein_groups,\n\u001b[1;32m    344\u001b[0m                    positive_weight=self.fair_positive_weight, epochs=epochs)\n",
      "\u001b[0;32m~/research/thesis/src/gcn/gcn.py\u001b[0m in \u001b[0;36m__init__\u001b[0;34m(self, input_shape, output_dim, laplacian_shape, **kwargs)\u001b[0m\n\u001b[1;32m     68\u001b[0m \u001b[0;32mclass\u001b[0m \u001b[0mGraphConvolutionalNetwork\u001b[0m\u001b[0;34m(\u001b[0m\u001b[0mtf\u001b[0m\u001b[0;34m.\u001b[0m\u001b[0mkeras\u001b[0m\u001b[0;34m.\u001b[0m\u001b[0mModel\u001b[0m\u001b[0;34m)\u001b[0m\u001b[0;34m:\u001b[0m\u001b[0;34m\u001b[0m\u001b[0;34m\u001b[0m\u001b[0m\n\u001b[1;32m     69\u001b[0m     \u001b[0;32mdef\u001b[0m \u001b[0m__init__\u001b[0m\u001b[0;34m(\u001b[0m\u001b[0mself\u001b[0m\u001b[0;34m,\u001b[0m \u001b[0minput_shape\u001b[0m\u001b[0;34m,\u001b[0m \u001b[0moutput_dim\u001b[0m\u001b[0;34m,\u001b[0m \u001b[0mlaplacian_shape\u001b[0m\u001b[0;34m,\u001b[0m \u001b[0;34m**\u001b[0m\u001b[0mkwargs\u001b[0m\u001b[0;34m)\u001b[0m\u001b[0;34m:\u001b[0m\u001b[0;34m\u001b[0m\u001b[0;34m\u001b[0m\u001b[0m\n\u001b[0;32m---> 70\u001b[0;31m         \u001b[0msuper\u001b[0m\u001b[0;34m(\u001b[0m\u001b[0mGraphConvolutionalNetwork\u001b[0m\u001b[0;34m,\u001b[0m \u001b[0mself\u001b[0m\u001b[0;34m)\u001b[0m\u001b[0;34m.\u001b[0m\u001b[0m__init__\u001b[0m\u001b[0;34m(\u001b[0m\u001b[0;34m**\u001b[0m\u001b[0mkwargs\u001b[0m\u001b[0;34m)\u001b[0m\u001b[0;34m\u001b[0m\u001b[0;34m\u001b[0m\u001b[0m\n\u001b[0m\u001b[1;32m     71\u001b[0m         \u001b[0mself\u001b[0m\u001b[0;34m.\u001b[0m\u001b[0mlaplacian\u001b[0m \u001b[0;34m=\u001b[0m \u001b[0mtf\u001b[0m\u001b[0;34m.\u001b[0m\u001b[0mVariable\u001b[0m\u001b[0;31m#TODO\u001b[0m\u001b[0;34m\u001b[0m\u001b[0;34m\u001b[0m\u001b[0m\n\u001b[1;32m     72\u001b[0m         \u001b[0mself\u001b[0m\u001b[0;34m.\u001b[0m\u001b[0mlaplacian_shape\u001b[0m \u001b[0;34m=\u001b[0m \u001b[0mlaplacian_shape\u001b[0m\u001b[0;34m\u001b[0m\u001b[0;34m\u001b[0m\u001b[0m\n",
      "\u001b[0;31mTypeError\u001b[0m: super(type, obj): obj must be an instance or subtype of type"
     ]
    }
   ],
   "source": [
    "thesis.run_cv_local_gcn(epochs=2)"
   ]
  },
  {
   "cell_type": "code",
   "execution_count": null,
   "metadata": {},
   "outputs": [],
   "source": [
    "import types\n",
    "thesis.run_cv_gcn = types.MethodType(ThesisPipeline.run_cv_gcn, thesis)"
   ]
  },
  {
   "cell_type": "code",
   "execution_count": null,
   "metadata": {},
   "outputs": [],
   "source": [
    "thesis.graphs[0].nodes[205]"
   ]
  },
  {
   "cell_type": "code",
   "execution_count": null,
   "metadata": {},
   "outputs": [],
   "source": [
    "thesis.graphs[0].nodes[433]"
   ]
  },
  {
   "cell_type": "code",
   "execution_count": null,
   "metadata": {},
   "outputs": [],
   "source": [
    "len(thesis.all_masks[0])"
   ]
  },
  {
   "cell_type": "code",
   "execution_count": null,
   "metadata": {},
   "outputs": [],
   "source": [
    "import numpy as np\n",
    "np.arange(10)"
   ]
  },
  {
   "cell_type": "code",
   "execution_count": null,
   "metadata": {},
   "outputs": [],
   "source": [
    "import matplotlib.pyplot as plt\n",
    "ones = np.ones_like(thesis.all_masks[0])\n",
    "sum_all_masks = sum([np.minimum(mask, ones) for mask in thesis.all_masks])\n",
    "plt.bar(np.arange(sum_all_masks.shape[0]), sum_all_masks)"
   ]
  },
  {
   "cell_type": "code",
   "execution_count": null,
   "metadata": {},
   "outputs": [],
   "source": [
    "sum_all_targets = sum(thesis.all_targets)\n",
    "plt.bar(np.arange(sum_all_targets.shape[0]), sum_all_targets/max(sum_all_targets))\n"
   ]
  },
  {
   "cell_type": "code",
   "execution_count": null,
   "metadata": {},
   "outputs": [],
   "source": []
  },
  {
   "cell_type": "code",
   "execution_count": null,
   "metadata": {},
   "outputs": [],
   "source": [
    "import matplotlib.pyplot as plt\n",
    "sum_all_masks = sum(thesis.all_masks)\n",
    "plt.bar(np.arange(sum_all_masks.shape[0]), sum_all_masks)"
   ]
  },
  {
   "cell_type": "code",
   "execution_count": null,
   "metadata": {},
   "outputs": [],
   "source": [
    "thesis.run_cv_gcn(epochs=40)"
   ]
  },
  {
   "cell_type": "code",
   "execution_count": null,
   "metadata": {},
   "outputs": [],
   "source": [
    "import gcn.gcn\n",
    "import numpy as np\n",
    "import tensorflow as tf\n",
    "reload(gcn.gcn)\n",
    "epochs = 40\n",
    "tf.data.Dataset.from_tensor_slices = lambda a: a\n",
    "feats = thesis.all_features\n",
    "supps = [tf.sparse.SparseTensor(indices, values.astype(np.float32), dense_shape)\n",
    "            for indices, values, dense_shape in thesis.all_laplacians]\n",
    "targs = thesis.all_targets\n",
    "masks = thesis.all_masks\n",
    "model = gcn.gcn.GraphConvolutionalNetwork(feats[0].shape, 1, thesis.all_laplacians[0][2])\n",
    "model.fit_cv_groups((feats, targs, supps, masks), thesis.protein_groups,\n",
    "           positive_weight=thesis.fair_positive_weight, epochs=epochs)\n"
   ]
  },
  {
   "cell_type": "code",
   "execution_count": null,
   "metadata": {},
   "outputs": [],
   "source": [
    "import tensorflow as tf\n",
    "y = thesis.all_targets[0]\n",
    "mask = thesis.all_masks[0]\n",
    "\n",
    "tf.multiply(mask, y*24 + (1-y))"
   ]
  },
  {
   "cell_type": "code",
   "execution_count": null,
   "metadata": {},
   "outputs": [],
   "source": [
    "tf.multiply(thesis.all_masks[6], thesis.all_targets[6]*24 + (1-thesis.all_targets[6]))"
   ]
  },
  {
   "cell_type": "code",
   "execution_count": null,
   "metadata": {},
   "outputs": [],
   "source": [
    "import gcn\n",
    "import tensorflow as tf\n",
    "import numpy as np\n",
    "\"\"\"Prepare tensors and run GCN with Group K-Fold CV\"\"\"\n",
    "tf.data.Dataset.from_tensor_slices = lambda a: a\n",
    "feats = thesis.all_features\n",
    "supps = [tf.sparse.SparseTensor(indices, values.astype(np.float32), dense_shape)\n",
    "            for indices, values, dense_shape in thesis.all_laplacians]\n",
    "targs = thesis.all_targets\n",
    "masks = thesis.all_masks\n",
    "model = gcn.gcn.GraphConvolutionalNetwork(feats[0].shape, 1, thesis.all_laplacians[0][2])\n",
    "model.fit_cv_groups((feats, supps, targs, masks), thesis.protein_groups,\n",
    "           positive_weight=thesis.fair_positive_weight, epochs=epochs)"
   ]
  },
  {
   "cell_type": "code",
   "execution_count": null,
   "metadata": {},
   "outputs": [],
   "source": [
    "import importlib\n",
    "importlib.reload(gcn.gcn)"
   ]
  },
  {
   "cell_type": "code",
   "execution_count": null,
   "metadata": {},
   "outputs": [],
   "source": [
    "for i, (mask, n) in enumerate(zip(thesis.all_masks, thesis.nb_nodes_per_graph)):\n",
    "    thesis.all_masks[i] = np.pad(mask, (0, thesis.nb_nodes - n)).astype(np.float32)"
   ]
  },
  {
   "cell_type": "code",
   "execution_count": null,
   "metadata": {},
   "outputs": [],
   "source": [
    "masks[0].shape[0]"
   ]
  },
  {
   "cell_type": "code",
   "execution_count": null,
   "metadata": {},
   "outputs": [],
   "source": [
    "epochs=40\n",
    "masks = thesis.all_masks\n",
    "assert min([m.shape[0] for m in masks]) == max([m.shape[0] for m in masks])\n",
    "model = gcn.gcn.GraphConvolutionalNetwork(feats[0].shape, 1, thesis.all_laplacians[0][2])\n",
    "model.fit_cv_groups((feats, supps, targs, masks), thesis.protein_groups,\n",
    "           positive_weight=thesis.fair_positive_weight, epochs=epochs)"
   ]
  },
  {
   "cell_type": "code",
   "execution_count": null,
   "metadata": {},
   "outputs": [],
   "source": [
    "thesis.all_masks[2]"
   ]
  },
  {
   "cell_type": "code",
   "execution_count": null,
   "metadata": {},
   "outputs": [],
   "source": [
    "thesis.pad_matrices()\n",
    "\n",
    "thesis.run_cv_gcn(epochs=40)"
   ]
  },
  {
   "cell_type": "code",
   "execution_count": null,
   "metadata": {},
   "outputs": [],
   "source": [
    "thesis.all_features[0].shape"
   ]
  },
  {
   "cell_type": "code",
   "execution_count": null,
   "metadata": {},
   "outputs": [],
   "source": []
  },
  {
   "cell_type": "markdown",
   "metadata": {},
   "source": [
    "### XGBoost model"
   ]
  },
  {
   "cell_type": "code",
   "execution_count": null,
   "metadata": {},
   "outputs": [],
   "source": [
    "thesis = ThesisPipeline()\n",
    "thesis.load_data() # ok\n",
    "thesis.make_protein_groups() # ok probably..?\n",
    "thesis.check_protein_groups() # same\n",
    "thesis.remove_interior_nodes() # ok\n",
    "# get diffused graph\n",
    "# graph 2 dataframe, target, drop chain\n",
    "thesis.propagate_features_graph(steps=3)\n",
    "thesis.make_diffused_features() #definitely not\n",
    "thesis.make_targets() # we can probably use this\n",
    "thesis.filter_by_node_amount(amount=1000) #we don't use it dude => we should, for consistency!\n",
    "#assign groups, concatenate dfs\n",
    "thesis.run_cv_hypersearch_xgb()"
   ]
  },
  {
   "cell_type": "markdown",
   "metadata": {},
   "source": [
    "## Static contact graph"
   ]
  },
  {
   "cell_type": "markdown",
   "metadata": {},
   "source": [
    "### GCN"
   ]
  },
  {
   "cell_type": "code",
   "execution_count": null,
   "metadata": {},
   "outputs": [],
   "source": [
    "thesis = ThesisPipeline()\n",
    "thesis.load_data(graphs_folder=\"../graphs/contacts/\")\n",
    "thesis.filter_graphs_missing_data()\n",
    "thesis.make_protein_groups()\n",
    "thesis.check_protein_groups()\n",
    "thesis.make_features()\n",
    "thesis.make_adjacency_matrices()\n",
    "thesis.make_targets()\n",
    "thesis.convert_matrices_32bits()\n",
    "thesis.filter_by_node_amount(amount=1000)\n",
    "thesis.make_positive_weight()\n",
    "thesis.make_laplacians()\n",
    "thesis.pad_matrices()\n",
    "thesis.make_masks()\n",
    "thesis.run_cv_gcn(epochs=40)"
   ]
  },
  {
   "cell_type": "markdown",
   "metadata": {},
   "source": [
    "### XGBoost"
   ]
  },
  {
   "cell_type": "code",
   "execution_count": null,
   "metadata": {},
   "outputs": [],
   "source": []
  },
  {
   "cell_type": "code",
   "execution_count": null,
   "metadata": {},
   "outputs": [],
   "source": [
    "4"
   ]
  },
  {
   "cell_type": "code",
   "execution_count": null,
   "metadata": {},
   "outputs": [],
   "source": [
    "#357/814"
   ]
  },
  {
   "cell_type": "code",
   "execution_count": null,
   "metadata": {},
   "outputs": [],
   "source": [
    "thesis.run_cv_hypersearch_xgb(3)"
   ]
  },
  {
   "cell_type": "code",
   "execution_count": null,
   "metadata": {},
   "outputs": [],
   "source": []
  },
  {
   "cell_type": "code",
   "execution_count": null,
   "metadata": {},
   "outputs": [],
   "source": [
    "for i, graph in enumerate(thesis.graphs):\n",
    "    _df = biograph.graph_models.GraphModel.graph_to_dataframe(graph)\n",
    "    if len(_df.select_dtypes(np.object).columns) > 3:\n",
    "        break\n",
    "i"
   ]
  },
  {
   "cell_type": "code",
   "execution_count": null,
   "metadata": {},
   "outputs": [],
   "source": [
    "G = graph.copy()\n",
    "all_cols = set()\n",
    "for node_idx in G.nodes:\n",
    "    nice_dict = {k:v for k, v in G.nodes[node_idx].items() if \"_\" not in k}\n",
    "    G.nodes[node_idx].clear()\n",
    "    G.nodes[node_idx].update(nice_dict)\n",
    "    for col in G.nodes[node_idx].keys():\n",
    "        all_cols.add(col)\n",
    "all_cols"
   ]
  },
  {
   "cell_type": "code",
   "execution_count": null,
   "metadata": {},
   "outputs": [],
   "source": [
    "import biograph.graph_models"
   ]
  },
  {
   "cell_type": "code",
   "execution_count": null,
   "metadata": {},
   "outputs": [],
   "source": [
    "G_df = biograph.graph_models.GraphModel.graph_to_dataframe(G)\n",
    "diffused_G = biograph.graph_models.GraphModel.get_diffused_graph(G, steps = 3)\n",
    "diffused_G_df = biograph.graph_models.GraphModel.graph_to_dataframe(diffused_G)"
   ]
  },
  {
   "cell_type": "code",
   "execution_count": null,
   "metadata": {},
   "outputs": [],
   "source": [
    "G_df.dtypes"
   ]
  },
  {
   "cell_type": "code",
   "execution_count": null,
   "metadata": {},
   "outputs": [],
   "source": [
    "diffused_G_df.dtypes"
   ]
  },
  {
   "cell_type": "code",
   "execution_count": null,
   "metadata": {},
   "outputs": [],
   "source": [
    "class GraphModel:\n",
    "    def __init__(self):\n",
    "        self.G = nx.Graph()\n",
    "    def generate_graph(self, protein, params):\n",
    "        raise NotImplementedError\n",
    "    def add_features(self, dataframe, columns):\n",
    "        raise NotImplementedError\n",
    "    @staticmethod\n",
    "    def graph_to_dataframe(G):\n",
    "        return pd.DataFrame.from_dict({node_idx: {feature: val for feature,val in G.nodes[node_idx].items()}\n",
    "              for node_idx in G.nodes}, orient=\"index\")\n",
    "    @staticmethod\n",
    "    def get_diffused_graph(G, aggregator = None, keys = None, steps = 1):\n",
    "        \"\"\"Diffuses some `keys` features across graph neighbors that are\n",
    "        up to `steps` apart and afterwards processes the groups using\n",
    "        `aggregator`.\n",
    "        Diffused features end with \"_n\" with n being the steps to the node.\n",
    "\n",
    "        Parameters\n",
    "        ----------\n",
    "        aggregator: function or None\n",
    "            A function that receives a dictionary of list of diffused\n",
    "            features (e.g. {mass_1 => [1,12], mass_2 => [8,1,13]}) and\n",
    "            returns a new dictionary.\n",
    "            If None, non-numeric (i.e. not complex, int, float or bool)\n",
    "            features are discarded and numeric features are averaged.\n",
    "        keys: list\n",
    "            Features to be diffused. All nodes in graph must have them.\n",
    "        steps: int\n",
    "            Number of steps from each node to be used in diffusion.\n",
    "\n",
    "        Returns\n",
    "        -------\n",
    "        networkx.Graph with same structure as before but with additional\n",
    "        diffused features.\n",
    "        \"\"\"\n",
    "        if keys is None:\n",
    "            some_node = list(G.nodes)[0]\n",
    "            keys = G.nodes[some_node].keys()\n",
    "\n",
    "        diffused_graph = G.copy()\n",
    "        # Setup feature holders.\n",
    "        for node_idx in diffused_graph.nodes:\n",
    "            for key in keys:\n",
    "                for dist in range(1, steps+1):\n",
    "                    diffused_graph.nodes[node_idx][\"{}_{}\".format(key, dist)] = list()\n",
    "\n",
    "        new_keys = set()\n",
    "        for node_idx in G.nodes:\n",
    "            # nx doesn't offer a bfs traversal that also yields distances,\n",
    "            # so we need to keep track of them.\n",
    "            distances = {node_idx: 0}\n",
    "            for origin, neighbor in nx.bfs_edges(G, node_idx):\n",
    "                distances[neighbor] = distances[origin] + 1\n",
    "                if distances[neighbor] > steps:\n",
    "                    break\n",
    "                for key in keys:\n",
    "                    neighbor_value = diffused_graph.nodes[neighbor][key]\n",
    "                    diffused_key = \"{}_{}\".format(key, distances[neighbor])\n",
    "                    new_keys.add(diffused_key)\n",
    "                    try:\n",
    "                        diffused_graph.nodes[node_idx][diffused_key].append(neighbor_value)\n",
    "                    except KeyError:\n",
    "                        print(neighbor_value)\n",
    "                        print(keys)\n",
    "                        print(diffused_key)\n",
    "                        print(diffused_graph.nodes[node_idx])\n",
    "                        return\n",
    "\n",
    "        # Process feature lists with an aggregator.\n",
    "        for node_idx in diffused_graph.nodes:\n",
    "            node_features = diffused_graph.nodes[node_idx].copy()\n",
    "\n",
    "            diffused_features = {key:val\n",
    "                for key, val in node_features.items()\n",
    "                if key in new_keys}\n",
    "\n",
    "            if aggregator is None:\n",
    "                # Basic aggregator. If the type is numeric-like then do a mean, otherwise\n",
    "                # discard it.\n",
    "                diffused_features = {k:v for k,v in diffused_features.items()\n",
    "                    if len(v)>0 and isinstance(v[0], (int, float, complex))}\n",
    "                for diffused_key in diffused_features.keys():\n",
    "                    feature_list = diffused_features[diffused_key]\n",
    "                    diffused_features[diffused_key] = sum(feature_list)/len(feature_list)\n",
    "\n",
    "            else:\n",
    "                diffused_features = aggregator(diffused_features)\n",
    "\n",
    "            # We can't replace the dict object, so here:\n",
    "            diffused_graph.nodes[node_idx].clear()\n",
    "            diffused_graph.nodes[node_idx].update(diffused_features)\n",
    "\n",
    "            # Add back the original node-specific values (\"distance zero\" and ignored\n",
    "            # columns).\n",
    "            for key in node_features.keys():\n",
    "                if key not in new_keys:\n",
    "                    diffused_graph.nodes[node_idx][key] = node_features[key]\n",
    "\n",
    "        return diffused_graph"
   ]
  },
  {
   "cell_type": "code",
   "execution_count": null,
   "metadata": {},
   "outputs": [],
   "source": [
    "new_keys"
   ]
  },
  {
   "cell_type": "code",
   "execution_count": null,
   "metadata": {},
   "outputs": [],
   "source": [
    "{key:val\n",
    "        for key, val in node_features.items()\n",
    "        if key in new_keys}.keys()"
   ]
  },
  {
   "cell_type": "code",
   "execution_count": null,
   "metadata": {},
   "outputs": [],
   "source": [
    "diffused_features.keys"
   ]
  },
  {
   "cell_type": "code",
   "execution_count": null,
   "metadata": {},
   "outputs": [],
   "source": [
    "diffused_features.keys()"
   ]
  },
  {
   "cell_type": "code",
   "execution_count": null,
   "metadata": {},
   "outputs": [],
   "source": []
  },
  {
   "cell_type": "code",
   "execution_count": null,
   "metadata": {},
   "outputs": [],
   "source": [
    "len(thesis.all_features), len(thesis.graphs)"
   ]
  },
  {
   "cell_type": "code",
   "execution_count": null,
   "metadata": {},
   "outputs": [],
   "source": [
    "for i, df in enumerate(thesis.all_features):\n",
    "    selected = df.select_dtypes(np.object)\n",
    "    if selected.shape[1] > 0:\n",
    "        print(i)\n",
    "        break\n",
    "        if [col for col in selected.columns if \"_\" not in col]:\n",
    "            break\n",
    "    if i == len(thesis.all_features)-1:\n",
    "        df = None"
   ]
  },
  {
   "cell_type": "code",
   "execution_count": null,
   "metadata": {},
   "outputs": [],
   "source": [
    "df.select_dtypes(np.object)"
   ]
  },
  {
   "cell_type": "code",
   "execution_count": null,
   "metadata": {},
   "outputs": [],
   "source": [
    "thesis.all_features[0].select_dtypes()"
   ]
  },
  {
   "cell_type": "code",
   "execution_count": null,
   "metadata": {},
   "outputs": [],
   "source": [
    "\n",
    "import os\n",
    "import logging\n",
    "import subprocess\n",
    "import progressbar\n",
    "import networkx as nx\n",
    "import numpy as np\n",
    "import scipy.sparse as sp\n",
    "import pandas as pd\n",
    "import tensorflow as tf\n",
    "from gcn.gcn import Laplacian, sparse_to_tuple, GraphConvolutionalNetwork\n",
    "\n",
    "def make_diffused_features(self, steps=3):\n",
    "    \"\"\"Obtain diffused features from already diffused graphs\"\"\"\n",
    "    from biograph.graph_models import GraphModel\n",
    "    import biograph.constants\n",
    "\n",
    "    self.all_features = []\n",
    "    logging.info(\"Generating features..\")\n",
    "    for graph in progressbar.progressbar(self.graphs):\n",
    "        df = GraphModel.graph_to_dataframe(graph)\n",
    "        # One hot for AAs\n",
    "        for code3 in biograph.constants.AMINOACIDS_3 + [\"UNK\"]:\n",
    "            df[code3] = (df.resname == code3).astype(np.int)\n",
    "\n",
    "        if \"coord\" in df.columns:\n",
    "            for i, coord in enumerate([\"x\", \"y\", \"z\"]):\n",
    "                df[coord] = df.coord.map(lambda x: x[i])\n",
    "\n",
    "        df = df[[c for c in df.columns if \"distance_\" not in c]]\n",
    "        df = df.drop([\"full_id\",\"resname\", \"coord\", \"distance\", \"chain\"], axis=1, errors=\"ignore\")\n",
    "        if not self.all_features:\n",
    "            logging.info(f\"Dataframe features: {df.columns}\")\n",
    "        self.all_features.append(df)"
   ]
  },
  {
   "cell_type": "code",
   "execution_count": null,
   "metadata": {},
   "outputs": [],
   "source": [
    "def run_cv_hypersearch_xgb(self, n_iter):\n",
    "    \"\"\"Concatenate all dataframes and run XGB with Group K-Fold CV\n",
    "    and Randomized Hyperparametr Search.\"\"\"\n",
    "    from scipy.stats import uniform\n",
    "    import sklearn.model_selection\n",
    "    import xgboost as xgb\n",
    "\n",
    "    for df, group, target in zip(self.all_features, self.protein_groups, self.all_targets):\n",
    "        df[\"target\"] = target\n",
    "        df[\"group\"] = group\n",
    "    dataset = pd.concat(self.all_features, ignore_index=True)\n",
    "    dataset = dataset.loc[dataset.group.notna()]\n",
    "\n",
    "    row_groups = dataset.group\n",
    "    row_target = dataset.target\n",
    "    dataset = dataset.drop([\"group\", \"target\"], axis=1)\n",
    "\n",
    "    logging.info(f\"Dataframe shape: {dataset.shape}\")\n",
    "    logging.info(f\"Columns passed to model: {dataset.columns}\")\n",
    "    logging.info(f\"Data types: {dataset.dtypes}\")\n",
    "    param = {'max_depth': 2, 'eta': 1, 'objective': 'binary:logistic',\n",
    "             'nthread': 4, 'eval_metric': 'auc'}\n",
    "\n",
    "    groupk= sklearn.model_selection.GroupKFold(n_splits=5)\n",
    "    clf = xgb.XGBClassifier(**param)\n",
    "\n",
    "    clf = sklearn.model_selection.RandomizedSearchCV(\n",
    "        clf, {\"max_depth\": list(range(3,10)),\n",
    "            \"min_child_weight\": uniform(loc=0.5, scale=1.5), # ~U(loc, loc+scale)\n",
    "            \"eta\": uniform(loc=0.2, scale=0.3)},\n",
    "        cv=groupk, n_iter=n_iter, scoring=\"roc_auc\", verbose=5, n_jobs=3)\n",
    "\n",
    "    search = clf.fit(dataset, row_target, row_groups)\n",
    "\n",
    "    return clf, search"
   ]
  },
  {
   "cell_type": "code",
   "execution_count": null,
   "metadata": {},
   "outputs": [],
   "source": [
    "import types\n",
    "#thesis.make_diffused_features = types.MethodType(make_diffused_features, thesis)\n",
    "thesis.run_cv_hypersearch_xgb = types.MethodType(run_cv_hypersearch_xgb, thesis)"
   ]
  }
 ],
 "metadata": {
  "kernelspec": {
   "display_name": "Python 3",
   "language": "python",
   "name": "python3"
  },
  "language_info": {
   "codemirror_mode": {
    "name": "ipython",
    "version": 3
   },
   "file_extension": ".py",
   "mimetype": "text/x-python",
   "name": "python",
   "nbconvert_exporter": "python",
   "pygments_lexer": "ipython3",
   "version": "3.6.9"
  }
 },
 "nbformat": 4,
 "nbformat_minor": 2
}
