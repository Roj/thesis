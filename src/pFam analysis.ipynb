{
 "cells": [
  {
   "cell_type": "code",
   "execution_count": 3,
   "metadata": {},
   "outputs": [
    {
     "data": {
      "text/html": [
       "<div>\n",
       "<style scoped>\n",
       "    .dataframe tbody tr th:only-of-type {\n",
       "        vertical-align: middle;\n",
       "    }\n",
       "\n",
       "    .dataframe tbody tr th {\n",
       "        vertical-align: top;\n",
       "    }\n",
       "\n",
       "    .dataframe thead th {\n",
       "        text-align: right;\n",
       "    }\n",
       "</style>\n",
       "<table border=\"1\" class=\"dataframe\">\n",
       "  <thead>\n",
       "    <tr style=\"text-align: right;\">\n",
       "      <th></th>\n",
       "      <th>PDB_ID</th>\n",
       "      <th>CHAIN_ID</th>\n",
       "      <th>PdbResNumStart</th>\n",
       "      <th>PdbResNumEnd</th>\n",
       "      <th>PFAM_ACC</th>\n",
       "      <th>PFAM_Name</th>\n",
       "      <th>PFAM_desc</th>\n",
       "      <th>eValue</th>\n",
       "    </tr>\n",
       "  </thead>\n",
       "  <tbody>\n",
       "    <tr>\n",
       "      <th>0</th>\n",
       "      <td>5OF4</td>\n",
       "      <td>A</td>\n",
       "      <td>315</td>\n",
       "      <td>470</td>\n",
       "      <td>PF04851.14</td>\n",
       "      <td>ResIII</td>\n",
       "      <td>Type III restriction enzyme, res subunit</td>\n",
       "      <td>8.100000e-16</td>\n",
       "    </tr>\n",
       "    <tr>\n",
       "      <th>1</th>\n",
       "      <td>5OF4</td>\n",
       "      <td>A</td>\n",
       "      <td>496</td>\n",
       "      <td>728</td>\n",
       "      <td>PF16203.4</td>\n",
       "      <td>ERCC3_RAD25_C</td>\n",
       "      <td>ERCC3/RAD25/XPB C-terminal helicase</td>\n",
       "      <td>0.000000e+00</td>\n",
       "    </tr>\n",
       "    <tr>\n",
       "      <th>2</th>\n",
       "      <td>5OF4</td>\n",
       "      <td>B</td>\n",
       "      <td>72</td>\n",
       "      <td>256</td>\n",
       "      <td>PF06733.14</td>\n",
       "      <td>DEAD_2</td>\n",
       "      <td>DEAD_2</td>\n",
       "      <td>0.000000e+00</td>\n",
       "    </tr>\n",
       "    <tr>\n",
       "      <th>3</th>\n",
       "      <td>5OF4</td>\n",
       "      <td>B</td>\n",
       "      <td>272</td>\n",
       "      <td>413</td>\n",
       "      <td>PF06777.10</td>\n",
       "      <td>HBB</td>\n",
       "      <td>Helical and beta-bridge domain</td>\n",
       "      <td>0.000000e+00</td>\n",
       "    </tr>\n",
       "    <tr>\n",
       "      <th>4</th>\n",
       "      <td>5OF4</td>\n",
       "      <td>B</td>\n",
       "      <td>524</td>\n",
       "      <td>699</td>\n",
       "      <td>PF13307.5</td>\n",
       "      <td>Helicase_C_2</td>\n",
       "      <td>Helicase C-terminal domain</td>\n",
       "      <td>0.000000e+00</td>\n",
       "    </tr>\n",
       "  </tbody>\n",
       "</table>\n",
       "</div>"
      ],
      "text/plain": [
       "  PDB_ID CHAIN_ID PdbResNumStart PdbResNumEnd    PFAM_ACC      PFAM_Name  \\\n",
       "0   5OF4        A            315          470  PF04851.14         ResIII   \n",
       "1   5OF4        A            496          728   PF16203.4  ERCC3_RAD25_C   \n",
       "2   5OF4        B             72          256  PF06733.14         DEAD_2   \n",
       "3   5OF4        B            272          413  PF06777.10            HBB   \n",
       "4   5OF4        B            524          699   PF13307.5   Helicase_C_2   \n",
       "\n",
       "                                  PFAM_desc        eValue  \n",
       "0  Type III restriction enzyme, res subunit  8.100000e-16  \n",
       "1       ERCC3/RAD25/XPB C-terminal helicase  0.000000e+00  \n",
       "2                                    DEAD_2  0.000000e+00  \n",
       "3            Helical and beta-bridge domain  0.000000e+00  \n",
       "4                Helicase C-terminal domain  0.000000e+00  "
      ]
     },
     "execution_count": 3,
     "metadata": {},
     "output_type": "execute_result"
    }
   ],
   "source": [
    "import pandas as pd\n",
    "pfam = pd.read_csv(\"pdb_pfam_mapping.txt\", delimiter=\"\\t\")\n",
    "pfam.head()"
   ]
  },
  {
   "cell_type": "code",
   "execution_count": 5,
   "metadata": {},
   "outputs": [
    {
     "data": {
      "text/plain": [
       "(11423,)"
      ]
     },
     "execution_count": 5,
     "metadata": {},
     "output_type": "execute_result"
    }
   ],
   "source": [
    "pfam.PFAM_ACC.unique().shape"
   ]
  },
  {
   "cell_type": "code",
   "execution_count": 6,
   "metadata": {},
   "outputs": [
    {
     "data": {
      "text/plain": [
       "(144812,)"
      ]
     },
     "execution_count": 6,
     "metadata": {},
     "output_type": "execute_result"
    }
   ],
   "source": [
    "pfam.PDB_ID.unique().shape"
   ]
  },
  {
   "cell_type": "code",
   "execution_count": 7,
   "metadata": {},
   "outputs": [
    {
     "data": {
      "text/plain": [
       "(8980,)"
      ]
     },
     "execution_count": 7,
     "metadata": {},
     "output_type": "execute_result"
    }
   ],
   "source": [
    "pfam.PFAM_Name.unique().shape"
   ]
  }
 ],
 "metadata": {
  "kernelspec": {
   "display_name": "Python 3",
   "language": "python",
   "name": "python3"
  },
  "language_info": {
   "codemirror_mode": {
    "name": "ipython",
    "version": 3
   },
   "file_extension": ".py",
   "mimetype": "text/x-python",
   "name": "python",
   "nbconvert_exporter": "python",
   "pygments_lexer": "ipython3",
   "version": "3.6.7"
  }
 },
 "nbformat": 4,
 "nbformat_minor": 2
}
